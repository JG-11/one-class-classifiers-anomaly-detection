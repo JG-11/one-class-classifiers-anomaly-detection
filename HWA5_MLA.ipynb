{
  "nbformat": 4,
  "nbformat_minor": 0,
  "metadata": {
    "colab": {
      "name": "HWA5_MLA.ipynb",
      "provenance": [],
      "collapsed_sections": []
    },
    "kernelspec": {
      "name": "python3",
      "display_name": "Python 3"
    }
  },
  "cells": [
    {
      "cell_type": "markdown",
      "metadata": {
        "id": "3twsr2LUV9JI"
      },
      "source": [
        "# HWA5"
      ]
    },
    {
      "cell_type": "markdown",
      "metadata": {
        "id": "dapmLvN0WCNG"
      },
      "source": [
        "## Algorithms + Databases"
      ]
    },
    {
      "cell_type": "code",
      "metadata": {
        "id": "AdA-1G9Tcgn5"
      },
      "source": [
        "import numpy as np \n",
        "import pandas as pd\n",
        "import tensorflow as tf\n",
        "import os\n",
        "import sys\n",
        "import math\n",
        "import csv\n",
        "\n",
        "import matplotlib.pyplot as plt\n",
        "import seaborn as sns\n",
        "\n",
        "from keras.callbacks import ModelCheckpoint\n",
        "from sklearn.model_selection import train_test_split \n",
        "from sklearn.svm import OneClassSVM\n",
        "from sklearn.ensemble import IsolationForest\n",
        "from sklearn.linear_model import Ridge\n",
        "from sklearn.mixture import GaussianMixture\n",
        "\n",
        "# the new model\n",
        "from keras.models import Sequential\n",
        "from keras.layers import Dense, Activation, Flatten\n",
        "\n",
        "\n",
        "from sklearn import metrics\n",
        "from sklearn.metrics import classification_report \n",
        "from sklearn.preprocessing import OneHotEncoder\n",
        "from sklearn.preprocessing import MinMaxScaler\n",
        "from sklearn.preprocessing import StandardScaler"
      ],
      "execution_count": 127,
      "outputs": []
    },
    {
      "cell_type": "code",
      "metadata": {
        "id": "iKj36C4lcwS8"
      },
      "source": [
        "# Function importing Dataset \n",
        "def importdata(trainFile, testFile, skipTrain, skipTest): \n",
        "    train = pd.read_csv(trainFile, sep= ',', header = None, skiprows=skipTrain) \n",
        "    test = pd.read_csv(testFile, sep= ',', header = None, skiprows=skipTest) \n",
        "    return train, test    \n",
        "\n",
        "# Function to split target from data \n",
        "def splitdataset(train, test): \n",
        "    ohe = OneHotEncoder(sparse=True)\n",
        "    objInTrain = len(train)\n",
        "\n",
        "    allData = pd.concat([train, test], ignore_index=True, sort =False, axis=0)\n",
        "    AllDataWihoutClass = allData.iloc[:, :-1]\n",
        "    AllDataWihoutClassOnlyNominals = AllDataWihoutClass.select_dtypes(include=['object'])\n",
        "    AllDataWihoutClassNoNominals = AllDataWihoutClass.select_dtypes(exclude=['object'])\n",
        "\n",
        "    encAllDataWihoutClassNominals = ohe.fit_transform(AllDataWihoutClassOnlyNominals)\n",
        "    encAllDataWihoutClassNominalsToPanda = pd.DataFrame(encAllDataWihoutClassNominals.toarray())\n",
        "    \n",
        "    if AllDataWihoutClassOnlyNominals.shape[1] > 0:\n",
        "      codAllDataAgain = pd.concat([encAllDataWihoutClassNominalsToPanda, AllDataWihoutClassNoNominals], ignore_index=True, sort =False, axis=1)\n",
        "    else:\n",
        "      codAllDataAgain = AllDataWihoutClass\n",
        "\n",
        "    # Seperating the target variable \n",
        "    X_train = codAllDataAgain[:objInTrain]\n",
        "    y_train = train.values[:, -1]\n",
        "\n",
        "    X_test = codAllDataAgain[objInTrain:]\n",
        "    y_test = test.values[:, -1]\n",
        "    \n",
        "    mm_scaler = MinMaxScaler()\n",
        "    X_train_minmax = pd.DataFrame(mm_scaler.fit_transform(X_train[X_train.columns]), index=X_train.index, columns=X_train.columns)\n",
        "    X_test_minmax = pd.DataFrame(mm_scaler.transform(X_test[X_test.columns]), index=X_test.index, columns=X_test.columns)\n",
        "    \n",
        "    std_scaler = StandardScaler()\n",
        "    X_train_std = pd.DataFrame(std_scaler.fit_transform(X_train[X_train.columns]), index=X_train.index, columns=X_train.columns)\n",
        "    X_test_std = pd.DataFrame(std_scaler.transform(X_test[X_test.columns]), index=X_test.index, columns=X_test.columns)\n",
        "    \n",
        "    X_train_minmax_std = pd.DataFrame(std_scaler.fit_transform(X_train_minmax[X_train_minmax.columns]), index=X_train_minmax.index, columns=X_train_minmax.columns)\n",
        "    X_test_minmax_std = pd.DataFrame(std_scaler.transform(X_test_minmax[X_test_minmax.columns]), index=X_test_minmax.index, columns=X_test_minmax.columns)\n",
        "    \n",
        "    return X_train, X_test, y_train, y_test, X_train_minmax, X_test_minmax, X_train_std, X_test_std, X_train_minmax_std, X_test_minmax_std\n",
        "\n",
        "# Function to make predictions \n",
        "def prediction(X_test, clf_object):  \n",
        "    y_pred = clf_object.score_samples(X_test) \n",
        "    return y_pred \n",
        "\n",
        "def result_of_Class(y_test, y_pred, saveFile):       \n",
        "    np.savetxt(saveFile, y_pred, fmt='%.4f')"
      ],
      "execution_count": 6,
      "outputs": []
    },
    {
      "cell_type": "code",
      "metadata": {
        "colab": {
          "base_uri": "https://localhost:8080/"
        },
        "id": "xHoL36IXy4dV",
        "outputId": "99c5eff2-03a1-4916-e8c1-5955ba1bf657"
      },
      "source": [
        "from google.colab import drive\n",
        "drive.mount('/content/drive')"
      ],
      "execution_count": 7,
      "outputs": [
        {
          "output_type": "stream",
          "name": "stdout",
          "text": [
            "Drive already mounted at /content/drive; to attempt to forcibly remount, call drive.mount(\"/content/drive\", force_remount=True).\n"
          ]
        }
      ]
    },
    {
      "cell_type": "code",
      "metadata": {
        "colab": {
          "base_uri": "https://localhost:8080/"
        },
        "id": "Nbu-3eVIzFNt",
        "outputId": "e0918b7c-7f7c-442e-ee06-a8c0c4cb9a8f"
      },
      "source": [
        "%cd /content/drive/MyDrive/Colab Notebooks/Databases\n",
        "%ls"
      ],
      "execution_count": 8,
      "outputs": [
        {
          "output_type": "stream",
          "name": "stdout",
          "text": [
            "/content/drive/MyDrive/Colab Notebooks/Databases\n",
            " \u001b[0m\u001b[01;34mabalone-17_vs_7-8-9-10\u001b[0m/\n",
            " \u001b[01;34mabalone19\u001b[0m/\n",
            " \u001b[01;34mabalone-19_vs_10-11-12-13\u001b[0m/\n",
            " \u001b[01;34mabalone-20_vs_8-9-10\u001b[0m/\n",
            " \u001b[01;34mabalone-21_vs_8\u001b[0m/\n",
            " \u001b[01;34mabalone-3_vs_11\u001b[0m/\n",
            " \u001b[01;34mabalone9-18\u001b[0m/\n",
            " BRM_results.csv\n",
            " \u001b[01;34mcar-good\u001b[0m/\n",
            " \u001b[01;34mcar-vgood\u001b[0m/\n",
            "'<class '\\''sklearn.svm._classes.OneClassSVM'\\''>_results.csv'\n",
            " \u001b[01;34mcleveland-0_vs_4\u001b[0m/\n",
            " \u001b[01;34mdermatology-6\u001b[0m/\n",
            " \u001b[01;34mecoli-0-1-3-7_vs_2-6\u001b[0m/\n",
            " \u001b[01;34mecoli-0-1-4-6_vs_5\u001b[0m/\n",
            " \u001b[01;34mecoli-0-1-4-7_vs_2-3-5-6\u001b[0m/\n",
            " \u001b[01;34mecoli-0-1-4-7_vs_5-6\u001b[0m/\n",
            " \u001b[01;34mecoli-0-1_vs_2-3-5\u001b[0m/\n",
            " \u001b[01;34mecoli-0-1_vs_5\u001b[0m/\n",
            " \u001b[01;34mecoli-0-2-3-4_vs_5\u001b[0m/\n",
            " \u001b[01;34mecoli-0-2-6-7_vs_3-5\u001b[0m/\n",
            " \u001b[01;34mecoli-0-3-4-6_vs_5\u001b[0m/\n",
            " \u001b[01;34mecoli-0-3-4-7_vs_5-6\u001b[0m/\n",
            " \u001b[01;34mecoli-0-3-4_vs_5\u001b[0m/\n",
            " \u001b[01;34mecoli-0-4-6_vs_5\u001b[0m/\n",
            " \u001b[01;34mecoli-0-6-7_vs_3-5\u001b[0m/\n",
            " \u001b[01;34mecoli-0-6-7_vs_5\u001b[0m/\n",
            " \u001b[01;34mecoli-0_vs_1\u001b[0m/\n",
            " \u001b[01;34mecoli1\u001b[0m/\n",
            " \u001b[01;34mecoli2\u001b[0m/\n",
            " \u001b[01;34mecoli3\u001b[0m/\n",
            " \u001b[01;34mecoli4\u001b[0m/\n",
            " \u001b[01;34mflare-F\u001b[0m/\n",
            " GaussianMixture_results.csv\n",
            " \u001b[01;34mglass0\u001b[0m/\n",
            " \u001b[01;34mglass-0-1-2-3_vs_4-5-6\u001b[0m/\n",
            " \u001b[01;34mglass-0-1-4-6_vs_2\u001b[0m/\n",
            " \u001b[01;34mglass-0-1-5_vs_2\u001b[0m/\n",
            " \u001b[01;34mglass-0-1-6_vs_2\u001b[0m/\n",
            " \u001b[01;34mglass-0-1-6_vs_5\u001b[0m/\n",
            " \u001b[01;34mglass-0-4_vs_5\u001b[0m/\n",
            " \u001b[01;34mglass-0-6_vs_5\u001b[0m/\n",
            " \u001b[01;34mglass1\u001b[0m/\n",
            " \u001b[01;34mglass2\u001b[0m/\n",
            " \u001b[01;34mglass4\u001b[0m/\n",
            " \u001b[01;34mglass5\u001b[0m/\n",
            " \u001b[01;34mglass6\u001b[0m/\n",
            " \u001b[01;34mhabermanImb\u001b[0m/\n",
            " HWA5_results.csv\n",
            " \u001b[01;34miris0\u001b[0m/\n",
            " IsolationForest_results.csv\n",
            " \u001b[01;34mkr-vs-k-one_vs_fifteen\u001b[0m/\n",
            " \u001b[01;34mkr-vs-k-three_vs_eleven\u001b[0m/\n",
            " \u001b[01;34mkr-vs-k-zero-one_vs_draw\u001b[0m/\n",
            " \u001b[01;34mkr-vs-k-zero_vs_eight\u001b[0m/\n",
            " \u001b[01;34mkr-vs-k-zero_vs_fifteen\u001b[0m/\n",
            " \u001b[01;34mled7digit-0-2-4-5-6-7-8-9_vs_1\u001b[0m/\n",
            " \u001b[01;34mlymphography-normal-fibrosis\u001b[0m/\n",
            " \u001b[01;34mnew-thyroid1\u001b[0m/\n",
            " \u001b[01;34mnew-thyroid2\u001b[0m/\n",
            " occ_results.csv\n",
            " OneClassSVM_results.csv\n",
            " \u001b[01;34mpage-blocks0\u001b[0m/\n",
            " \u001b[01;34mpage-blocks-1-3_vs_4\u001b[0m/\n",
            " \u001b[01;34mpimaImb\u001b[0m/\n",
            " \u001b[01;34mpoker-8-9_vs_5\u001b[0m/\n",
            " \u001b[01;34mpoker-8-9_vs_6\u001b[0m/\n",
            " \u001b[01;34mpoker-8_vs_6\u001b[0m/\n",
            " \u001b[01;34mpoker-9_vs_7\u001b[0m/\n",
            " \u001b[01;34msegment0\u001b[0m/\n",
            " \u001b[01;34mshuttle-2_vs_5\u001b[0m/\n",
            " \u001b[01;34mshuttle-6_vs_2-3\u001b[0m/\n",
            " \u001b[01;34mshuttle-c0-vs-c4\u001b[0m/\n",
            " \u001b[01;34mshuttle-c2-vs-c4\u001b[0m/\n",
            " test_results.csv\n",
            " \u001b[01;34mvehicle0\u001b[0m/\n",
            " \u001b[01;34mvehicle1\u001b[0m/\n",
            " \u001b[01;34mvehicle2\u001b[0m/\n",
            " \u001b[01;34mvehicle3\u001b[0m/\n",
            " \u001b[01;34mvowel0\u001b[0m/\n",
            " \u001b[01;34mwinequality-red-3_vs_5\u001b[0m/\n",
            " \u001b[01;34mwinequality-red-4\u001b[0m/\n",
            " \u001b[01;34mwinequality-red-8_vs_6\u001b[0m/\n",
            " \u001b[01;34mwinequality-red-8_vs_6-7\u001b[0m/\n",
            " \u001b[01;34mwinequality-white-3-9_vs_5\u001b[0m/\n",
            " \u001b[01;34mwinequality-white-3_vs_7\u001b[0m/\n",
            " \u001b[01;34mwinequality-white-9_vs_4\u001b[0m/\n",
            " \u001b[01;34mwisconsinImb\u001b[0m/\n",
            " \u001b[01;34myeast-0-2-5-6_vs_3-7-8-9\u001b[0m/\n",
            " \u001b[01;34myeast-0-2-5-7-9_vs_3-6-8\u001b[0m/\n",
            " \u001b[01;34myeast-0-3-5-9_vs_7-8\u001b[0m/\n",
            " \u001b[01;34myeast-0-5-6-7-9_vs_4\u001b[0m/\n",
            " \u001b[01;34myeast1\u001b[0m/\n",
            " \u001b[01;34myeast-1-2-8-9_vs_7\u001b[0m/\n",
            " \u001b[01;34myeast-1-4-5-8_vs_7\u001b[0m/\n",
            " \u001b[01;34myeast-1_vs_7\u001b[0m/\n",
            " \u001b[01;34myeast-2_vs_4\u001b[0m/\n",
            " \u001b[01;34myeast-2_vs_8\u001b[0m/\n",
            " \u001b[01;34myeast3\u001b[0m/\n",
            " \u001b[01;34myeast4\u001b[0m/\n",
            " \u001b[01;34myeast5\u001b[0m/\n",
            " \u001b[01;34myeast6\u001b[0m/\n",
            " \u001b[01;34mzoo-3\u001b[0m/\n"
          ]
        }
      ]
    },
    {
      "cell_type": "code",
      "metadata": {
        "id": "KTdxqjDhQN4r"
      },
      "source": [
        "models_df = pd.DataFrame()\n",
        "\n",
        "data_2 = {\n",
        "    'Database': [],\n",
        "    'AUC': [],\n",
        "    'Normalization': [],\n",
        "    'Classifier': [],\n",
        "}"
      ],
      "execution_count": 93,
      "outputs": []
    },
    {
      "cell_type": "code",
      "metadata": {
        "id": "LmauA-r8J2Li"
      },
      "source": [
        "def apply_classifier(rootDir, classifier, str_classifier, normalization=None):\n",
        "  print('Implementing', str_classifier, '...')\n",
        "  clf_classif = classifier()\n",
        "\n",
        "  data = {\n",
        "    'Database': [],\n",
        "    'AUC': [],\n",
        "  }\n",
        "\n",
        "  i = 0\n",
        "  for dirName, subdirList, fileList in os.walk(rootDir):\n",
        "      #print('Directorio encontrado: %s' % dirName)\n",
        "      #print(\"************************************ DIRECTORIO **************************************\")\n",
        "\n",
        "      if i == 0:\n",
        "        i += 1\n",
        "\n",
        "        continue\n",
        "\n",
        "      if len(fileList) > 0:\n",
        "          arr_auc = []\n",
        "          arr_folder_name = dirName.split(\"/\")\n",
        "          folder_name = arr_folder_name[len(arr_folder_name) - 1]\n",
        "          completed_name = folder_name + \"-5-\"\n",
        "          for i in range(len(fileList)):\n",
        "              #print(\"!!!!!!!!!!!!!!!!!!!!!!!!!!!!!!!!!! DATASET !!!!!!!!!!!!!!!!!!!!!!!!!!!!!!!!!!!!!!!!!\") \n",
        "              trainFile = str(dirName) + '/' + completed_name + \"1tra.dat\"\n",
        "              testFile = str(dirName) + '/' + completed_name + \"1tst.dat\"\n",
        "              #print('trainFile ' + trainFile)\n",
        "              #print('testFile ' + testFile)\n",
        "\n",
        "              with open(trainFile) as file:\n",
        "                skipTrain = 0\n",
        "                for line in file:\n",
        "                    skipTrain += 1\n",
        "                    \n",
        "                    if line[0] != '@':\n",
        "                      break\n",
        "\n",
        "              with open(testFile) as file:\n",
        "                skipTest = 0\n",
        "                for line in file:\n",
        "                    skipTest += 1\n",
        "                    \n",
        "                    if line[0] != '@':\n",
        "                      break\n",
        "\n",
        "              # Loading data \n",
        "              train, test = importdata(trainFile, testFile, skipTrain - 1, skipTest - 1)\n",
        "\n",
        "              # Training\n",
        "              X_train, X_test, y_train, y_test, X_train_minmax, X_test_minmax, X_train_std, X_test_std, X_train_minmax_std, X_test_minmax_std = splitdataset(train, test)\n",
        "\n",
        "              auc = 0\n",
        "              if normalization is None:\n",
        "                # Performing training \n",
        "                clf_classif.fit(X_train, y_train) \n",
        "\n",
        "                # Operational Phase \n",
        "                y_pred_classif = prediction(X_test, clf_classif) \n",
        "\n",
        "                auc = metrics.roc_auc_score(y_test,  y_pred_classif)\n",
        "              elif normalization is 'MinMax':\n",
        "                # Performing training \n",
        "                clf_classif.fit(X_train_minmax, y_train) \n",
        "\n",
        "                # Operational Phase \n",
        "                y_pred_classif = prediction(X_test_minmax, clf_classif) \n",
        "\n",
        "                auc = metrics.roc_auc_score(y_test,  y_pred_classif)\n",
        "              elif normalization is 'Std':\n",
        "                # Performing training \n",
        "                clf_classif.fit(X_train_std, y_train) \n",
        "\n",
        "                # Operational Phase \n",
        "                y_pred_classif = prediction(X_test_std, clf_classif) \n",
        "\n",
        "                auc = metrics.roc_auc_score(y_test,  y_pred_classif)\n",
        "              \n",
        "              arr_auc.append(1 - auc if auc < 0.5 else auc)\n",
        "              #print(\"AUC: \"+str(1 - auc if auc < 0.5 else auc))\n",
        "              #print(y_pred_classif)\n",
        "          \n",
        "          #print('AUC!! ' + str(arr_auc))\n",
        "          aver_auc = sum(arr_auc) / len(arr_auc)\n",
        "          #print('aver_auc!! ' + str(aver_auc))\n",
        "          data['Database'].append(folder_name)\n",
        "          data['AUC'].append(aver_auc)\n",
        "\n",
        "          data_2['Database'].append(folder_name)\n",
        "          data_2['AUC'].append(aver_auc)\n",
        "          data_2['Classifier'].append(str_classifier)\n",
        "          data_2['Normalization'].append(str(normalization))\n",
        "          #print('data[auc] ' + str(data['auc']))\n",
        "\n",
        "      df = pd.DataFrame(data, columns = ['Database', 'AUC'])    \n",
        "      df.to_csv(rootDir + str_classifier + '_' + str(normalization)  + '_results.csv')\n",
        "\n",
        "  print(str_classifier, 'implemented')"
      ],
      "execution_count": 94,
      "outputs": []
    },
    {
      "cell_type": "code",
      "metadata": {
        "colab": {
          "base_uri": "https://localhost:8080/"
        },
        "id": "f4_fuKUHNMhy",
        "outputId": "8e333a6e-0821-4f2c-9f3e-103a21cca849"
      },
      "source": [
        "!pip install brminer"
      ],
      "execution_count": 98,
      "outputs": [
        {
          "output_type": "stream",
          "name": "stdout",
          "text": [
            "Requirement already satisfied: brminer in /usr/local/lib/python3.7/dist-packages (0.0.3)\n",
            "Requirement already satisfied: numpy in /usr/local/lib/python3.7/dist-packages (from brminer) (1.19.5)\n",
            "Requirement already satisfied: scikit-learn in /usr/local/lib/python3.7/dist-packages (from brminer) (0.22.2.post1)\n",
            "Requirement already satisfied: pandas in /usr/local/lib/python3.7/dist-packages (from brminer) (1.1.5)\n",
            "Requirement already satisfied: pytz>=2017.2 in /usr/local/lib/python3.7/dist-packages (from pandas->brminer) (2018.9)\n",
            "Requirement already satisfied: python-dateutil>=2.7.3 in /usr/local/lib/python3.7/dist-packages (from pandas->brminer) (2.8.2)\n",
            "Requirement already satisfied: six>=1.5 in /usr/local/lib/python3.7/dist-packages (from python-dateutil>=2.7.3->pandas->brminer) (1.15.0)\n",
            "Requirement already satisfied: scipy>=0.17.0 in /usr/local/lib/python3.7/dist-packages (from scikit-learn->brminer) (1.4.1)\n",
            "Requirement already satisfied: joblib>=0.11 in /usr/local/lib/python3.7/dist-packages (from scikit-learn->brminer) (1.0.1)\n"
          ]
        }
      ]
    },
    {
      "cell_type": "code",
      "metadata": {
        "id": "FEM4FVMvbY-C"
      },
      "source": [
        "from brminer import BRM"
      ],
      "execution_count": 116,
      "outputs": []
    },
    {
      "cell_type": "markdown",
      "metadata": {
        "id": "Uhai-nxhe1Lt"
      },
      "source": [
        "#### Normalization: None"
      ]
    },
    {
      "cell_type": "code",
      "metadata": {
        "colab": {
          "base_uri": "https://localhost:8080/"
        },
        "id": "H5Hnw8UTKIMd",
        "outputId": "e41f1b7b-5a8b-4535-8166-f9eadfd12695"
      },
      "source": [
        "rootDir = '/content/drive/MyDrive/Colab Notebooks/Databases/'\n",
        "\n",
        "apply_classifier(rootDir, OneClassSVM, 'OneClassSVM')\n",
        "apply_classifier(rootDir, IsolationForest, 'IsolationForest')\n",
        "apply_classifier(rootDir, GaussianMixture, 'GaussianMixture')\n",
        "apply_classifier(rootDir, BRM, 'BRM')"
      ],
      "execution_count": 95,
      "outputs": [
        {
          "output_type": "stream",
          "name": "stdout",
          "text": [
            "Implementing OneClassSVM ...\n",
            "OneClassSVM implemented\n"
          ]
        }
      ]
    },
    {
      "cell_type": "markdown",
      "metadata": {
        "id": "24lPA01Xe4Ox"
      },
      "source": [
        "#### Normalization: MinMax"
      ]
    },
    {
      "cell_type": "code",
      "metadata": {
        "colab": {
          "base_uri": "https://localhost:8080/"
        },
        "id": "cRH_OKFwznj4",
        "outputId": "a07607ab-f9f7-4478-ef5e-c826af12f53d"
      },
      "source": [
        "apply_classifier(rootDir, OneClassSVM, 'OneClassSVM', normalization='MinMax')\n",
        "apply_classifier(rootDir, IsolationForest, 'IsolationForest', normalization='MinMax')\n",
        "apply_classifier(rootDir, GaussianMixture, 'GaussianMixture', normalization='MinMax')\n",
        "apply_classifier(rootDir, BRM, 'BRM', normalization='MinMax')"
      ],
      "execution_count": 117,
      "outputs": [
        {
          "output_type": "stream",
          "name": "stdout",
          "text": [
            "Implementing OneClassSVM ...\n",
            "OneClassSVM implemented\n",
            "Implementing IsolationForest ...\n",
            "IsolationForest implemented\n",
            "Implementing GaussianMixture ...\n",
            "GaussianMixture implemented\n",
            "Implementing BRM ...\n",
            "BRM implemented\n"
          ]
        }
      ]
    },
    {
      "cell_type": "markdown",
      "metadata": {
        "id": "YuAIGR7Ve6kR"
      },
      "source": [
        "#### Normalization: Standard Scaler"
      ]
    },
    {
      "cell_type": "code",
      "metadata": {
        "colab": {
          "base_uri": "https://localhost:8080/"
        },
        "id": "3bjtOPY8MDjA",
        "outputId": "3c216d09-5ae3-47fc-85c7-5eae8b7d3511"
      },
      "source": [
        "apply_classifier(rootDir, OneClassSVM, 'OneClassSVM', normalization='Std')\n",
        "apply_classifier(rootDir, IsolationForest, 'IsolationForest', normalization='Std')\n",
        "apply_classifier(rootDir, GaussianMixture, 'GaussianMixture', normalization='Std')\n",
        "apply_classifier(rootDir, BRM, 'BRM', normalization='Std')"
      ],
      "execution_count": 118,
      "outputs": [
        {
          "output_type": "stream",
          "name": "stdout",
          "text": [
            "Implementing OneClassSVM ...\n",
            "OneClassSVM implemented\n",
            "Implementing IsolationForest ...\n",
            "IsolationForest implemented\n",
            "Implementing GaussianMixture ...\n",
            "GaussianMixture implemented\n",
            "Implementing BRM ...\n",
            "BRM implemented\n"
          ]
        }
      ]
    },
    {
      "cell_type": "markdown",
      "metadata": {
        "id": "qXg8zLB6WHNK"
      },
      "source": [
        "## Algorithms + Databases + Statistical Tests + Visualizations"
      ]
    },
    {
      "cell_type": "code",
      "metadata": {
        "colab": {
          "base_uri": "https://localhost:8080/",
          "height": 419
        },
        "id": "Xt_RIegvhtPJ",
        "outputId": "9d145897-075f-4204-8eb0-ce1ed09838b4"
      },
      "source": [
        "models_df = pd.DataFrame(data_2)\n",
        "models_df"
      ],
      "execution_count": 129,
      "outputs": [
        {
          "output_type": "execute_result",
          "data": {
            "text/html": [
              "<div>\n",
              "<style scoped>\n",
              "    .dataframe tbody tr th:only-of-type {\n",
              "        vertical-align: middle;\n",
              "    }\n",
              "\n",
              "    .dataframe tbody tr th {\n",
              "        vertical-align: top;\n",
              "    }\n",
              "\n",
              "    .dataframe thead th {\n",
              "        text-align: right;\n",
              "    }\n",
              "</style>\n",
              "<table border=\"1\" class=\"dataframe\">\n",
              "  <thead>\n",
              "    <tr style=\"text-align: right;\">\n",
              "      <th></th>\n",
              "      <th>Database</th>\n",
              "      <th>AUC</th>\n",
              "      <th>Normalization</th>\n",
              "      <th>Classifier</th>\n",
              "    </tr>\n",
              "  </thead>\n",
              "  <tbody>\n",
              "    <tr>\n",
              "      <th>0</th>\n",
              "      <td>yeast-2_vs_8</td>\n",
              "      <td>0.577957</td>\n",
              "      <td>None</td>\n",
              "      <td>OneClassSVM</td>\n",
              "    </tr>\n",
              "    <tr>\n",
              "      <th>1</th>\n",
              "      <td>zoo-3</td>\n",
              "      <td>0.950000</td>\n",
              "      <td>None</td>\n",
              "      <td>OneClassSVM</td>\n",
              "    </tr>\n",
              "    <tr>\n",
              "      <th>2</th>\n",
              "      <td>yeast4</td>\n",
              "      <td>0.758106</td>\n",
              "      <td>None</td>\n",
              "      <td>OneClassSVM</td>\n",
              "    </tr>\n",
              "    <tr>\n",
              "      <th>3</th>\n",
              "      <td>yeast1</td>\n",
              "      <td>0.560895</td>\n",
              "      <td>None</td>\n",
              "      <td>OneClassSVM</td>\n",
              "    </tr>\n",
              "    <tr>\n",
              "      <th>4</th>\n",
              "      <td>yeast3</td>\n",
              "      <td>0.509757</td>\n",
              "      <td>None</td>\n",
              "      <td>OneClassSVM</td>\n",
              "    </tr>\n",
              "    <tr>\n",
              "      <th>...</th>\n",
              "      <td>...</td>\n",
              "      <td>...</td>\n",
              "      <td>...</td>\n",
              "      <td>...</td>\n",
              "    </tr>\n",
              "    <tr>\n",
              "      <th>1135</th>\n",
              "      <td>abalone-21_vs_8</td>\n",
              "      <td>0.989766</td>\n",
              "      <td>Std</td>\n",
              "      <td>BRM</td>\n",
              "    </tr>\n",
              "    <tr>\n",
              "      <th>1136</th>\n",
              "      <td>abalone-19_vs_10-11-12-13</td>\n",
              "      <td>0.586478</td>\n",
              "      <td>Std</td>\n",
              "      <td>BRM</td>\n",
              "    </tr>\n",
              "    <tr>\n",
              "      <th>1137</th>\n",
              "      <td>abalone-20_vs_8-9-10</td>\n",
              "      <td>0.847002</td>\n",
              "      <td>Std</td>\n",
              "      <td>BRM</td>\n",
              "    </tr>\n",
              "    <tr>\n",
              "      <th>1138</th>\n",
              "      <td>abalone-3_vs_11</td>\n",
              "      <td>0.687075</td>\n",
              "      <td>Std</td>\n",
              "      <td>BRM</td>\n",
              "    </tr>\n",
              "    <tr>\n",
              "      <th>1139</th>\n",
              "      <td>abalone-17_vs_7-8-9-10</td>\n",
              "      <td>0.832694</td>\n",
              "      <td>Std</td>\n",
              "      <td>BRM</td>\n",
              "    </tr>\n",
              "  </tbody>\n",
              "</table>\n",
              "<p>1140 rows × 4 columns</p>\n",
              "</div>"
            ],
            "text/plain": [
              "                       Database       AUC Normalization   Classifier\n",
              "0                  yeast-2_vs_8  0.577957          None  OneClassSVM\n",
              "1                         zoo-3  0.950000          None  OneClassSVM\n",
              "2                        yeast4  0.758106          None  OneClassSVM\n",
              "3                        yeast1  0.560895          None  OneClassSVM\n",
              "4                        yeast3  0.509757          None  OneClassSVM\n",
              "...                         ...       ...           ...          ...\n",
              "1135            abalone-21_vs_8  0.989766           Std          BRM\n",
              "1136  abalone-19_vs_10-11-12-13  0.586478           Std          BRM\n",
              "1137       abalone-20_vs_8-9-10  0.847002           Std          BRM\n",
              "1138            abalone-3_vs_11  0.687075           Std          BRM\n",
              "1139     abalone-17_vs_7-8-9-10  0.832694           Std          BRM\n",
              "\n",
              "[1140 rows x 4 columns]"
            ]
          },
          "metadata": {},
          "execution_count": 129
        }
      ]
    },
    {
      "cell_type": "code",
      "metadata": {
        "colab": {
          "base_uri": "https://localhost:8080/",
          "height": 279
        },
        "id": "jLp72PYLiSh1",
        "outputId": "0dbbd8ef-179d-4945-f49c-629fca91ca5b"
      },
      "source": [
        "sns.boxplot(x='Classifier', y='AUC', hue='Normalization', data=models_df)\n",
        "plt.legend(bbox_to_anchor=(1.05, 1), loc='upper left', borderaxespad=0)\n",
        "plt.show()"
      ],
      "execution_count": 130,
      "outputs": [
        {
          "output_type": "display_data",
          "data": {
            "image/png": "[encoded data removed]",
            "text/plain": [
              "<Figure size 432x288 with 1 Axes>"
            ]
          },
          "metadata": {
            "needs_background": "light"
          }
        }
      ]
    },
    {
      "cell_type": "markdown",
      "metadata": {
        "id": "exVSBXIQqdjR"
      },
      "source": [
        "### Normalization: None"
      ]
    },
    {
      "cell_type": "markdown",
      "metadata": {
        "id": "z870ApcffCi9"
      },
      "source": [
        "#### Friedman's test"
      ]
    },
    {
      "cell_type": "code",
      "metadata": {
        "id": "U21YLcFMcQRu"
      },
      "source": [
        "import scipy.stats as st"
      ],
      "execution_count": 165,
      "outputs": []
    },
    {
      "cell_type": "code",
      "metadata": {
        "id": "if25h1Nusi3S"
      },
      "source": [
        "# Credits: https://github.com/citiususc/stac/blob/master/stac/nonparametric_tests.py\n",
        "# Implementation: https://github.com/citiususc/stac/blob/master/stac/unit_tests.py\n",
        "\n",
        "def friedman_test(*args):\n",
        "    \"\"\"\n",
        "        Performs a Friedman ranking test.\n",
        "        Tests the hypothesis that in a set of k dependent samples groups (where k >= 2) at least two of the groups represent populations with different median values.\n",
        "        \n",
        "        Parameters\n",
        "        ----------\n",
        "        sample1, sample2, ... : array_like\n",
        "            The sample measurements for each group.\n",
        "            \n",
        "        Returns\n",
        "        -------\n",
        "        F-value : float\n",
        "            The computed F-value of the test.\n",
        "        p-value : float\n",
        "            The associated p-value from the F-distribution.\n",
        "        rankings : array_like\n",
        "            The ranking for each group.\n",
        "        pivots : array_like\n",
        "            The pivotal quantities for each group.\n",
        "            \n",
        "        References\n",
        "        ----------\n",
        "        M. Friedman, The use of ranks to avoid the assumption of normality implicit in the analysis of variance, Journal of the American Statistical Association 32 (1937) 674–701.\n",
        "        D.J. Sheskin, Handbook of parametric and nonparametric statistical procedures. crc Press, 2003, Test 25: The Friedman Two-Way Analysis of Variance by Ranks\n",
        "    \"\"\"\n",
        "    k = len(args)\n",
        "    if k < 2: raise ValueError('Less than 2 levels')\n",
        "    n = len(args[0])\n",
        "    if len(set([len(v) for v in args])) != 1: raise ValueError('Unequal number of samples')\n",
        "\n",
        "    rankings = []\n",
        "    for i in range(n):\n",
        "        row = [col[i] for col in args]\n",
        "        row_sort = sorted(row)\n",
        "        rankings.append([row_sort.index(v) + 1 + (row_sort.count(v)-1)/2. for v in row])\n",
        "\n",
        "    rankings_avg = [np.mean([case[j] for case in rankings]) for j in range(k)]\n",
        "    rankings_cmp = [r/np.sqrt(k*(k+1)/(6.*n)) for r in rankings_avg]\n",
        "\n",
        "    chi2 = ((12*n)/float((k*(k+1))))*((np.sum(r**2 for r in rankings_avg))-((k*(k+1)**2)/float(4)))\n",
        "    iman_davenport = ((n-1)*chi2)/float((n*(k-1)-chi2))\n",
        "\n",
        "    p_value = 1 - st.f.cdf(iman_davenport, k-1, (k-1)*(n-1))\n",
        "\n",
        "    return rankings_avg"
      ],
      "execution_count": 166,
      "outputs": []
    },
    {
      "cell_type": "code",
      "metadata": {
        "id": "MSx44oSFlkuE"
      },
      "source": [
        "classifiers = np.unique(models_df.Classifier)\n",
        "normalization = np.unique(models_df.Normalization)"
      ],
      "execution_count": 169,
      "outputs": []
    },
    {
      "cell_type": "code",
      "metadata": {
        "colab": {
          "base_uri": "https://localhost:8080/",
          "height": 439
        },
        "id": "5fskdLKRlwAM",
        "outputId": "a91a96b3-7932-430b-fc8d-643c3ab578b3"
      },
      "source": [
        "dic = {}\n",
        "\n",
        "for i in classifiers:\n",
        "  for j in normalization:\n",
        "    dic[f'AUC_{i}_{j}'] = models_df[(models_df.Classifier == i) & (models_df.Normalization == j)].AUC.values\n",
        "\n",
        "final_df = pd.DataFrame(dic)\n",
        "final_df"
      ],
      "execution_count": 170,
      "outputs": [
        {
          "output_type": "execute_result",
          "data": {
            "text/html": [
              "<div>\n",
              "<style scoped>\n",
              "    .dataframe tbody tr th:only-of-type {\n",
              "        vertical-align: middle;\n",
              "    }\n",
              "\n",
              "    .dataframe tbody tr th {\n",
              "        vertical-align: top;\n",
              "    }\n",
              "\n",
              "    .dataframe thead th {\n",
              "        text-align: right;\n",
              "    }\n",
              "</style>\n",
              "<table border=\"1\" class=\"dataframe\">\n",
              "  <thead>\n",
              "    <tr style=\"text-align: right;\">\n",
              "      <th></th>\n",
              "      <th>AUC_BRM_MinMax</th>\n",
              "      <th>AUC_BRM_None</th>\n",
              "      <th>AUC_BRM_Std</th>\n",
              "      <th>AUC_GaussianMixture_MinMax</th>\n",
              "      <th>AUC_GaussianMixture_None</th>\n",
              "      <th>AUC_GaussianMixture_Std</th>\n",
              "      <th>AUC_IsolationForest_MinMax</th>\n",
              "      <th>AUC_IsolationForest_None</th>\n",
              "      <th>AUC_IsolationForest_Std</th>\n",
              "      <th>AUC_OneClassSVM_MinMax</th>\n",
              "      <th>AUC_OneClassSVM_None</th>\n",
              "      <th>AUC_OneClassSVM_Std</th>\n",
              "    </tr>\n",
              "  </thead>\n",
              "  <tbody>\n",
              "    <tr>\n",
              "      <th>0</th>\n",
              "      <td>0.631720</td>\n",
              "      <td>0.633065</td>\n",
              "      <td>0.631720</td>\n",
              "      <td>0.647849</td>\n",
              "      <td>0.647849</td>\n",
              "      <td>0.647849</td>\n",
              "      <td>0.639785</td>\n",
              "      <td>0.616935</td>\n",
              "      <td>0.623656</td>\n",
              "      <td>0.577957</td>\n",
              "      <td>0.577957</td>\n",
              "      <td>0.626344</td>\n",
              "    </tr>\n",
              "    <tr>\n",
              "      <th>1</th>\n",
              "      <td>0.600000</td>\n",
              "      <td>0.600000</td>\n",
              "      <td>0.600000</td>\n",
              "      <td>0.600000</td>\n",
              "      <td>0.600000</td>\n",
              "      <td>0.600000</td>\n",
              "      <td>0.625000</td>\n",
              "      <td>0.600000</td>\n",
              "      <td>0.600000</td>\n",
              "      <td>0.950000</td>\n",
              "      <td>0.950000</td>\n",
              "      <td>0.900000</td>\n",
              "    </tr>\n",
              "    <tr>\n",
              "      <th>2</th>\n",
              "      <td>0.686586</td>\n",
              "      <td>0.683249</td>\n",
              "      <td>0.687540</td>\n",
              "      <td>0.734584</td>\n",
              "      <td>0.734584</td>\n",
              "      <td>0.734584</td>\n",
              "      <td>0.725048</td>\n",
              "      <td>0.733153</td>\n",
              "      <td>0.743166</td>\n",
              "      <td>0.764781</td>\n",
              "      <td>0.758106</td>\n",
              "      <td>0.727908</td>\n",
              "    </tr>\n",
              "    <tr>\n",
              "      <th>3</th>\n",
              "      <td>0.527609</td>\n",
              "      <td>0.531329</td>\n",
              "      <td>0.527444</td>\n",
              "      <td>0.552904</td>\n",
              "      <td>0.552904</td>\n",
              "      <td>0.552904</td>\n",
              "      <td>0.539265</td>\n",
              "      <td>0.519619</td>\n",
              "      <td>0.537860</td>\n",
              "      <td>0.555274</td>\n",
              "      <td>0.560895</td>\n",
              "      <td>0.555770</td>\n",
              "    </tr>\n",
              "    <tr>\n",
              "      <th>4</th>\n",
              "      <td>0.531795</td>\n",
              "      <td>0.534780</td>\n",
              "      <td>0.532254</td>\n",
              "      <td>0.587810</td>\n",
              "      <td>0.587810</td>\n",
              "      <td>0.587810</td>\n",
              "      <td>0.514692</td>\n",
              "      <td>0.516472</td>\n",
              "      <td>0.533804</td>\n",
              "      <td>0.515381</td>\n",
              "      <td>0.509757</td>\n",
              "      <td>0.521350</td>\n",
              "    </tr>\n",
              "    <tr>\n",
              "      <th>...</th>\n",
              "      <td>...</td>\n",
              "      <td>...</td>\n",
              "      <td>...</td>\n",
              "      <td>...</td>\n",
              "      <td>...</td>\n",
              "      <td>...</td>\n",
              "      <td>...</td>\n",
              "      <td>...</td>\n",
              "      <td>...</td>\n",
              "      <td>...</td>\n",
              "      <td>...</td>\n",
              "      <td>...</td>\n",
              "    </tr>\n",
              "    <tr>\n",
              "      <th>90</th>\n",
              "      <td>0.992690</td>\n",
              "      <td>0.991228</td>\n",
              "      <td>0.989766</td>\n",
              "      <td>0.985380</td>\n",
              "      <td>0.985380</td>\n",
              "      <td>0.985380</td>\n",
              "      <td>0.913743</td>\n",
              "      <td>0.932749</td>\n",
              "      <td>0.932749</td>\n",
              "      <td>0.891813</td>\n",
              "      <td>0.856725</td>\n",
              "      <td>0.956140</td>\n",
              "    </tr>\n",
              "    <tr>\n",
              "      <th>91</th>\n",
              "      <td>0.600629</td>\n",
              "      <td>0.588724</td>\n",
              "      <td>0.586478</td>\n",
              "      <td>0.615903</td>\n",
              "      <td>0.616352</td>\n",
              "      <td>0.615903</td>\n",
              "      <td>0.625112</td>\n",
              "      <td>0.627134</td>\n",
              "      <td>0.610063</td>\n",
              "      <td>0.650943</td>\n",
              "      <td>0.639712</td>\n",
              "      <td>0.561096</td>\n",
              "    </tr>\n",
              "    <tr>\n",
              "      <th>92</th>\n",
              "      <td>0.846340</td>\n",
              "      <td>0.843034</td>\n",
              "      <td>0.847002</td>\n",
              "      <td>0.854056</td>\n",
              "      <td>0.854056</td>\n",
              "      <td>0.854056</td>\n",
              "      <td>0.637125</td>\n",
              "      <td>0.657848</td>\n",
              "      <td>0.663139</td>\n",
              "      <td>0.518078</td>\n",
              "      <td>0.503527</td>\n",
              "      <td>0.758818</td>\n",
              "    </tr>\n",
              "    <tr>\n",
              "      <th>93</th>\n",
              "      <td>0.678571</td>\n",
              "      <td>0.688776</td>\n",
              "      <td>0.687075</td>\n",
              "      <td>0.982993</td>\n",
              "      <td>0.982993</td>\n",
              "      <td>0.982993</td>\n",
              "      <td>0.991497</td>\n",
              "      <td>0.998299</td>\n",
              "      <td>0.996599</td>\n",
              "      <td>1.000000</td>\n",
              "      <td>0.976190</td>\n",
              "      <td>1.000000</td>\n",
              "    </tr>\n",
              "    <tr>\n",
              "      <th>94</th>\n",
              "      <td>0.829039</td>\n",
              "      <td>0.833151</td>\n",
              "      <td>0.832694</td>\n",
              "      <td>0.805556</td>\n",
              "      <td>0.805373</td>\n",
              "      <td>0.806287</td>\n",
              "      <td>0.710069</td>\n",
              "      <td>0.730811</td>\n",
              "      <td>0.679185</td>\n",
              "      <td>0.504751</td>\n",
              "      <td>0.540205</td>\n",
              "      <td>0.704130</td>\n",
              "    </tr>\n",
              "  </tbody>\n",
              "</table>\n",
              "<p>95 rows × 12 columns</p>\n",
              "</div>"
            ],
            "text/plain": [
              "    AUC_BRM_MinMax  AUC_BRM_None  ...  AUC_OneClassSVM_None  AUC_OneClassSVM_Std\n",
              "0         0.631720      0.633065  ...              0.577957             0.626344\n",
              "1         0.600000      0.600000  ...              0.950000             0.900000\n",
              "2         0.686586      0.683249  ...              0.758106             0.727908\n",
              "3         0.527609      0.531329  ...              0.560895             0.555770\n",
              "4         0.531795      0.534780  ...              0.509757             0.521350\n",
              "..             ...           ...  ...                   ...                  ...\n",
              "90        0.992690      0.991228  ...              0.856725             0.956140\n",
              "91        0.600629      0.588724  ...              0.639712             0.561096\n",
              "92        0.846340      0.843034  ...              0.503527             0.758818\n",
              "93        0.678571      0.688776  ...              0.976190             1.000000\n",
              "94        0.829039      0.833151  ...              0.540205             0.704130\n",
              "\n",
              "[95 rows x 12 columns]"
            ]
          },
          "metadata": {},
          "execution_count": 170
        }
      ]
    },
    {
      "cell_type": "code",
      "metadata": {
        "colab": {
          "base_uri": "https://localhost:8080/"
        },
        "id": "kSdVmxQUdg9v",
        "outputId": "b553329e-d79b-4831-d74c-40cf2480410b"
      },
      "source": [
        "alpha = 0.05 # significance level\n",
        "\n",
        "result = stats.friedmanchisquare(final_df.AUC_OneClassSVM_None, final_df.AUC_IsolationForest_None, final_df.AUC_GaussianMixture_None, final_df.AUC_BRM_None)\n",
        "result"
      ],
      "execution_count": 171,
      "outputs": [
        {
          "output_type": "execute_result",
          "data": {
            "text/plain": [
              "FriedmanchisquareResult(statistic=4.5415778251599175, pvalue=0.2086114881226235)"
            ]
          },
          "metadata": {},
          "execution_count": 171
        }
      ]
    },
    {
      "cell_type": "code",
      "metadata": {
        "colab": {
          "base_uri": "https://localhost:8080/"
        },
        "id": "yJlVlNFDdzAs",
        "outputId": "9f67fba0-4737-43c4-fbd2-93f1eda14271"
      },
      "source": [
        "if result.pvalue < alpha:\n",
        "  print(\"We can reject the null hypothesis: so the results obtained by all the tested classifiers, in all the databases, are not similar statistically. Therefore, we can proceed with a post-hoc test.\")\n",
        "else:\n",
        "  print(\"We can accept the null hypothesis: so the results obtained by all the tested classifiers, in all the databases, are similar statistically.\")"
      ],
      "execution_count": 172,
      "outputs": [
        {
          "output_type": "stream",
          "name": "stdout",
          "text": [
            "We can accept the null hypothesis: so the results obtained by all the tested classifiers, in all the databases, are similar statistically.\n"
          ]
        }
      ]
    },
    {
      "cell_type": "code",
      "metadata": {
        "id": "QMIVs85ZuUwX"
      },
      "source": [
        "auc_data_none = {\n",
        "    'AUC_OneClass_SVM_None': final_df.AUC_OneClassSVM_None,\n",
        "    'AUC_Isolation_Forest_None': final_df.AUC_IsolationForest_None,\n",
        "    'AUC_Gaussian_Mixture_None': final_df.AUC_GaussianMixture_None,\n",
        "    'AUC_BRM_None': final_df.AUC_BRM_None,\n",
        "}"
      ],
      "execution_count": 175,
      "outputs": []
    },
    {
      "cell_type": "code",
      "metadata": {
        "colab": {
          "base_uri": "https://localhost:8080/"
        },
        "id": "IOGyY0tqtO_A",
        "outputId": "e8cec117-bb3e-449d-9e2d-7d463566b856"
      },
      "source": [
        "rankings_avg = friedman_test(*auc_data_none.values())\n",
        "rankings_avg"
      ],
      "execution_count": 176,
      "outputs": [
        {
          "output_type": "stream",
          "name": "stderr",
          "text": [
            "/usr/local/lib/python3.7/dist-packages/ipykernel_launcher.py:44: DeprecationWarning: Calling np.sum(generator) is deprecated, and in the future will give a different result. Use np.sum(np.fromiter(generator)) or the python sum builtin instead.\n"
          ]
        },
        {
          "output_type": "execute_result",
          "data": {
            "text/plain": [
              "[2.331578947368421, 2.6894736842105265, 2.5736842105263156, 2.405263157894737]"
            ]
          },
          "metadata": {},
          "execution_count": 176
        }
      ]
    },
    {
      "cell_type": "markdown",
      "metadata": {
        "id": "fz6jjh2gfGhn"
      },
      "source": [
        "#### Post-hoc test"
      ]
    },
    {
      "cell_type": "code",
      "metadata": {
        "id": "MKgus7kmziRp"
      },
      "source": [
        "!pip install scikit-posthocs"
      ],
      "execution_count": null,
      "outputs": []
    },
    {
      "cell_type": "code",
      "metadata": {
        "id": "rqkVB_Grz88r"
      },
      "source": [
        "import scikit_posthocs as sp"
      ],
      "execution_count": 178,
      "outputs": []
    },
    {
      "cell_type": "code",
      "metadata": {
        "id": "LtK_izb_xVL2"
      },
      "source": [
        "data = np.array([final_df.AUC_OneClassSVM_None, final_df.AUC_IsolationForest_None, final_df.AUC_GaussianMixture_None, final_df.AUC_BRM_None])"
      ],
      "execution_count": 179,
      "outputs": []
    },
    {
      "cell_type": "code",
      "metadata": {
        "colab": {
          "base_uri": "https://localhost:8080/",
          "height": 173
        },
        "id": "iDGQRDOXzxlC",
        "outputId": "c5264f14-e62f-4812-c29c-f3956f73c0d6"
      },
      "source": [
        "p_values = sp.posthoc_nemenyi_friedman(data.T)\n",
        "p_values"
      ],
      "execution_count": 180,
      "outputs": [
        {
          "output_type": "execute_result",
          "data": {
            "text/html": [
              "<div>\n",
              "<style scoped>\n",
              "    .dataframe tbody tr th:only-of-type {\n",
              "        vertical-align: middle;\n",
              "    }\n",
              "\n",
              "    .dataframe tbody tr th {\n",
              "        vertical-align: top;\n",
              "    }\n",
              "\n",
              "    .dataframe thead th {\n",
              "        text-align: right;\n",
              "    }\n",
              "</style>\n",
              "<table border=\"1\" class=\"dataframe\">\n",
              "  <thead>\n",
              "    <tr style=\"text-align: right;\">\n",
              "      <th></th>\n",
              "      <th>0</th>\n",
              "      <th>1</th>\n",
              "      <th>2</th>\n",
              "      <th>3</th>\n",
              "    </tr>\n",
              "  </thead>\n",
              "  <tbody>\n",
              "    <tr>\n",
              "      <th>0</th>\n",
              "      <td>1.000000</td>\n",
              "      <td>0.223596</td>\n",
              "      <td>0.559671</td>\n",
              "      <td>0.900000</td>\n",
              "    </tr>\n",
              "    <tr>\n",
              "      <th>1</th>\n",
              "      <td>0.223596</td>\n",
              "      <td>1.000000</td>\n",
              "      <td>0.900000</td>\n",
              "      <td>0.428543</td>\n",
              "    </tr>\n",
              "    <tr>\n",
              "      <th>2</th>\n",
              "      <td>0.559671</td>\n",
              "      <td>0.900000</td>\n",
              "      <td>1.000000</td>\n",
              "      <td>0.780471</td>\n",
              "    </tr>\n",
              "    <tr>\n",
              "      <th>3</th>\n",
              "      <td>0.900000</td>\n",
              "      <td>0.428543</td>\n",
              "      <td>0.780471</td>\n",
              "      <td>1.000000</td>\n",
              "    </tr>\n",
              "  </tbody>\n",
              "</table>\n",
              "</div>"
            ],
            "text/plain": [
              "          0         1         2         3\n",
              "0  1.000000  0.223596  0.559671  0.900000\n",
              "1  0.223596  1.000000  0.900000  0.428543\n",
              "2  0.559671  0.900000  1.000000  0.780471\n",
              "3  0.900000  0.428543  0.780471  1.000000"
            ]
          },
          "metadata": {},
          "execution_count": 180
        }
      ]
    },
    {
      "cell_type": "code",
      "metadata": {
        "id": "SOdzC6g96OSJ"
      },
      "source": [
        "import scipy as scp\n",
        "import itertools as it"
      ],
      "execution_count": 181,
      "outputs": []
    },
    {
      "cell_type": "code",
      "metadata": {
        "id": "tOWryGuv1Hxo"
      },
      "source": [
        "def _S(k):\n",
        "    \"\"\"\n",
        "        Helper function for the Shaffer test.\n",
        "        It obtains the number of independent test hypotheses when using an All vs All strategy using the number of groups to be compared.\n",
        "    \"\"\"\n",
        "    if k == 0 or k == 1:\n",
        "        return {0}\n",
        "    else:\n",
        "        result = set()\n",
        "        for j in reversed(range(1, k+1)):\n",
        "            tmp = _S(k - j)\n",
        "            for s in tmp:\n",
        "                result = result.union({scp.special.binom(j, 2) + s})\n",
        "        return list(result)\n",
        "\n",
        "\n",
        "def shaffer_multitest(ranks):\n",
        "    \"\"\"\n",
        "        Performs a Shaffer post-hoc test using the pivot quantities obtained by a ranking test.\n",
        "        Tests the hypothesis that the ranking of each pair of groups are different.\n",
        "        \n",
        "        Parameters\n",
        "        ----------\n",
        "        pivots : dictionary_like\n",
        "            A dictionary with format 'groupname':'pivotal quantity' \n",
        "            \n",
        "        Returns\n",
        "        ----------\n",
        "        Comparions : array-like\n",
        "            Strings identifier of each comparison with format 'group_i vs group_j'\n",
        "        Z-values : array-like\n",
        "            The computed Z-value statistic for each comparison.\n",
        "        p-values : array-like\n",
        "            The associated p-value from the Z-distribution wich depends on the index of the comparison\n",
        "        Adjusted p-values : array-like\n",
        "            The associated adjusted p-values wich can be compared with a significance level\n",
        "            \n",
        "        References\n",
        "        ----------\n",
        "        J. Li, A two-step rejection procedure for testing multiple hypotheses, Journal of Statistical Planning and Inference 138 (2008) 1521–1527.\n",
        "    \"\"\"\n",
        "    k = len(ranks)\n",
        "    values = list(ranks.values())\n",
        "    keys = list(ranks.keys())\n",
        "    versus = list(it.combinations(range(k), 2))\n",
        "    \n",
        "    m = int(k*(k-1)/2.)\n",
        "    A = _S(int((1 + np.sqrt(1+4*m*2))/2))\n",
        "    t = [max([a for a in A if a <= m-i]) for i in range(m)]\n",
        "\n",
        "    comparisons = [keys[vs[0]] + \" vs \" + keys[vs[1]] for vs in versus]\n",
        "    z_values = [abs(values[vs[0]] - values[vs[1]]) for vs in versus]\n",
        "    p_values = [2*(1-st.norm.cdf(abs(z))) for z in z_values]\n",
        "    # Sort values by p_value so that p_0 < p_1\n",
        "    p_values, z_values, comparisons = map(list, zip(*sorted(zip(p_values, z_values, comparisons), key=lambda t: t[0])))\n",
        "    adj_p_values = [min(max(t[j]*p_values[j] for j in range(i+1)), 1) for i in range(m)]\n",
        "    \n",
        "    return comparisons, z_values, p_values, adj_p_values"
      ],
      "execution_count": 182,
      "outputs": []
    },
    {
      "cell_type": "code",
      "metadata": {
        "colab": {
          "base_uri": "https://localhost:8080/"
        },
        "id": "uurXTmPf6dkj",
        "outputId": "13957715-3d0e-4042-e36a-f0963f27c92c"
      },
      "source": [
        "ranks = {key: rankings_avg[i] for i, key in enumerate(auc_data_none.keys())}\n",
        "ranks"
      ],
      "execution_count": 200,
      "outputs": [
        {
          "output_type": "execute_result",
          "data": {
            "text/plain": [
              "{'AUC_BRM_None': 2.4157894736842107,\n",
              " 'AUC_Gaussian_Mixture_None': 2.626315789473684,\n",
              " 'AUC_Isolation_Forest_None': 2.6210526315789475,\n",
              " 'AUC_OneClass_SVM_None': 2.336842105263158}"
            ]
          },
          "metadata": {},
          "execution_count": 200
        }
      ]
    },
    {
      "cell_type": "code",
      "metadata": {
        "colab": {
          "base_uri": "https://localhost:8080/"
        },
        "id": "LpCT-jfV39NT",
        "outputId": "a106f025-3580-4657-8e8f-982227875dbb"
      },
      "source": [
        "comparisons, z_values, p_values, adj_p_values = shaffer_multitest(ranks)\n",
        "comparisons, z_values, p_values, adj_p_values"
      ],
      "execution_count": 184,
      "outputs": [
        {
          "output_type": "execute_result",
          "data": {
            "text/plain": [
              "(['AUC_OneClass_SVM_None vs AUC_Isolation_Forest_None',\n",
              "  'AUC_Isolation_Forest_None vs AUC_BRM_None',\n",
              "  'AUC_OneClass_SVM_None vs AUC_Gaussian_Mixture_None',\n",
              "  'AUC_Gaussian_Mixture_None vs AUC_BRM_None',\n",
              "  'AUC_Isolation_Forest_None vs AUC_Gaussian_Mixture_None',\n",
              "  'AUC_OneClass_SVM_None vs AUC_BRM_None'],\n",
              " [0.3578947368421055,\n",
              "  0.28421052631578947,\n",
              "  0.2421052631578946,\n",
              "  0.16842105263157858,\n",
              "  0.11578947368421089,\n",
              "  0.07368421052631602],\n",
              " [0.7204220895945663,\n",
              "  0.7762490491181446,\n",
              "  0.8086986000940988,\n",
              "  0.8662520470606498,\n",
              "  0.9078193931820497,\n",
              "  0.9412616628068939],\n",
              " [1, 1, 1, 1, 1, 1])"
            ]
          },
          "metadata": {},
          "execution_count": 184
        }
      ]
    },
    {
      "cell_type": "code",
      "metadata": {
        "id": "_H_207wB7FWM"
      },
      "source": [
        "def nemenyi_multitest(ranks):\n",
        "    \"\"\"\n",
        "        Performs a Nemenyi post-hoc test using the pivot quantities obtained by a ranking test.\n",
        "        Tests the hypothesis that the ranking of each pair of groups are different.\n",
        "\n",
        "        Parameters\n",
        "        ----------\n",
        "        pivots : dictionary_like\n",
        "            A dictionary with format 'groupname':'pivotal quantity' \n",
        "\n",
        "        Returns\n",
        "        ----------\n",
        "        Comparions : array-like\n",
        "            Strings identifier of each comparison with format 'group_i vs group_j'\n",
        "        Z-values : array-like\n",
        "            The computed Z-value statistic for each comparison.\n",
        "        p-values : array-like\n",
        "            The associated p-value from the Z-distribution wich depends on the index of the comparison\n",
        "        Adjusted p-values : array-like\n",
        "            The associated adjusted p-values wich can be compared with a significance level\n",
        "\n",
        "        References\n",
        "        ----------\n",
        "        Bonferroni-Dunn: O.J. Dunn, Multiple comparisons among means, Journal of the American Statistical Association 56 (1961) 52–64.\n",
        "    \"\"\"\n",
        "    k = len(ranks)\n",
        "    values = list(ranks.values())\n",
        "    keys = list(ranks.keys())\n",
        "    versus = list(it.combinations(range(k), 2))\n",
        "\n",
        "    comparisons = [keys[vs[0]] + \" vs \" + keys[vs[1]] for vs in versus]\n",
        "    z_values = [abs(values[vs[0]] - values[vs[1]]) for vs in versus]\n",
        "\n",
        "    p_values = [2 * (1-st.norm.cdf(abs(z))) for z in z_values]\n",
        "    # Sort values by p_value so that p_0 < p_1\n",
        "    m = int(k * (k-1)/2.)\n",
        "    adj_p_values = [min(m*p_value,1) for p_value in p_values]\n",
        "\n",
        "    return comparisons, z_values, p_values, adj_p_values"
      ],
      "execution_count": 185,
      "outputs": []
    },
    {
      "cell_type": "code",
      "metadata": {
        "colab": {
          "base_uri": "https://localhost:8080/"
        },
        "id": "3olIJfms9U8r",
        "outputId": "f79fd7e3-877a-4b74-a406-83f251fc3e12"
      },
      "source": [
        "comparisons, z_values, p_values, adj_p_values = nemenyi_multitest(ranks)\n",
        "comparisons, z_values, p_values, adj_p_values"
      ],
      "execution_count": 186,
      "outputs": [
        {
          "output_type": "execute_result",
          "data": {
            "text/plain": [
              "(['AUC_OneClass_SVM_None vs AUC_Isolation_Forest_None',\n",
              "  'AUC_OneClass_SVM_None vs AUC_Gaussian_Mixture_None',\n",
              "  'AUC_OneClass_SVM_None vs AUC_BRM_None',\n",
              "  'AUC_Isolation_Forest_None vs AUC_Gaussian_Mixture_None',\n",
              "  'AUC_Isolation_Forest_None vs AUC_BRM_None',\n",
              "  'AUC_Gaussian_Mixture_None vs AUC_BRM_None'],\n",
              " [0.3578947368421055,\n",
              "  0.2421052631578946,\n",
              "  0.07368421052631602,\n",
              "  0.11578947368421089,\n",
              "  0.28421052631578947,\n",
              "  0.16842105263157858],\n",
              " [0.7204220895945663,\n",
              "  0.8086986000940988,\n",
              "  0.9412616628068939,\n",
              "  0.9078193931820497,\n",
              "  0.7762490491181446,\n",
              "  0.8662520470606498],\n",
              " [1, 1, 1, 1, 1, 1])"
            ]
          },
          "metadata": {},
          "execution_count": 186
        }
      ]
    },
    {
      "cell_type": "markdown",
      "metadata": {
        "id": "d1Ty15pUEXan"
      },
      "source": [
        "#### Critical Difference Diagram"
      ]
    },
    {
      "cell_type": "code",
      "metadata": {
        "id": "rqsDOUwhFEAj"
      },
      "source": [
        "!pip install Orange3"
      ],
      "execution_count": null,
      "outputs": []
    },
    {
      "cell_type": "code",
      "metadata": {
        "colab": {
          "base_uri": "https://localhost:8080/"
        },
        "id": "mtPf2Ly4Ij9I",
        "outputId": "b9da7828-0090-443b-bd84-a537a8704729"
      },
      "source": [
        "rankings_avg"
      ],
      "execution_count": 188,
      "outputs": [
        {
          "output_type": "execute_result",
          "data": {
            "text/plain": [
              "[2.331578947368421, 2.6894736842105265, 2.5736842105263156, 2.405263157894737]"
            ]
          },
          "metadata": {},
          "execution_count": 188
        }
      ]
    },
    {
      "cell_type": "code",
      "metadata": {
        "colab": {
          "base_uri": "https://localhost:8080/"
        },
        "id": "YsZVYR6zqIDt",
        "outputId": "c1330a3c-3a71-430a-d488-f575f1a9f1be"
      },
      "source": [
        "final_df.shape"
      ],
      "execution_count": 190,
      "outputs": [
        {
          "output_type": "execute_result",
          "data": {
            "text/plain": [
              "(95, 12)"
            ]
          },
          "metadata": {},
          "execution_count": 190
        }
      ]
    },
    {
      "cell_type": "code",
      "metadata": {
        "colab": {
          "base_uri": "https://localhost:8080/",
          "height": 143
        },
        "id": "fTIoc9LbEZIX",
        "outputId": "4b6d01e0-2e68-4b10-a9dd-04b3fc32777d"
      },
      "source": [
        "import Orange\n",
        "\n",
        "names = ['One Class SVM None', 'Isolation Forest None', 'Gaussian Mixture None', 'BRM None']\n",
        "\n",
        "avranks = [rankings_avg[0], rankings_avg[1], rankings_avg[2], rankings_avg[3]]\n",
        "\n",
        "cd = Orange.evaluation.compute_CD(avranks, final_df.shape[0])\n",
        "Orange.evaluation.graph_ranks(avranks, names, cd=cd, width=6, textspace=1.5)\n",
        "plt.show();"
      ],
      "execution_count": 191,
      "outputs": [
        {
          "output_type": "display_data",
          "data": {
            "image/png": "[encoded data removed]",
            "text/plain": [
              "<Figure size 432x111.6 with 1 Axes>"
            ]
          },
          "metadata": {}
        }
      ]
    },
    {
      "cell_type": "markdown",
      "metadata": {
        "id": "AwVK74agqZ_6"
      },
      "source": [
        "### Normalization: MinMax"
      ]
    },
    {
      "cell_type": "markdown",
      "metadata": {
        "id": "q6ho14G8qqbM"
      },
      "source": [
        "#### Friedman's test"
      ]
    },
    {
      "cell_type": "code",
      "metadata": {
        "colab": {
          "base_uri": "https://localhost:8080/"
        },
        "id": "RzTVcZwOqjbi",
        "outputId": "6b3d2d73-edb8-4ad2-b728-991e48bc48c2"
      },
      "source": [
        "alpha = 0.05 # significance level\n",
        "\n",
        "result = stats.friedmanchisquare(final_df.AUC_OneClassSVM_MinMax, final_df.AUC_IsolationForest_MinMax, final_df.AUC_GaussianMixture_MinMax, final_df.AUC_BRM_MinMax)\n",
        "result"
      ],
      "execution_count": 192,
      "outputs": [
        {
          "output_type": "execute_result",
          "data": {
            "text/plain": [
              "FriedmanchisquareResult(statistic=3.7572815533980015, pvalue=0.28889425633016286)"
            ]
          },
          "metadata": {},
          "execution_count": 192
        }
      ]
    },
    {
      "cell_type": "code",
      "metadata": {
        "colab": {
          "base_uri": "https://localhost:8080/"
        },
        "id": "ZjB6BAyIq0E6",
        "outputId": "3611aae6-4a18-41f1-d4af-e530a1aaafe9"
      },
      "source": [
        "if result.pvalue < alpha:\n",
        "  print(\"We can reject the null hypothesis: so the results obtained by all the tested classifiers, in all the databases, are not similar statistically. Therefore, we can proceed with a post-hoc test.\")\n",
        "else:\n",
        "  print(\"We can accept the null hypothesis: so the results obtained by all the tested classifiers, in all the databases, are similar statistically.\")"
      ],
      "execution_count": 193,
      "outputs": [
        {
          "output_type": "stream",
          "name": "stdout",
          "text": [
            "We can accept the null hypothesis: so the results obtained by all the tested classifiers, in all the databases, are similar statistically.\n"
          ]
        }
      ]
    },
    {
      "cell_type": "code",
      "metadata": {
        "id": "9rRKasT7rDr5"
      },
      "source": [
        "auc_data_minmax = {\n",
        "    'AUC_OneClass_SVM_MinMax': final_df.AUC_OneClassSVM_MinMax,\n",
        "    'AUC_Isolation_Forest_MinMax': final_df.AUC_IsolationForest_MinMax,\n",
        "    'AUC_Gaussian_Mixture_MinMax': final_df.AUC_GaussianMixture_MinMax,\n",
        "    'AUC_BRM_MinMax': final_df.AUC_BRM_MinMax,\n",
        "}"
      ],
      "execution_count": 194,
      "outputs": []
    },
    {
      "cell_type": "code",
      "metadata": {
        "colab": {
          "base_uri": "https://localhost:8080/"
        },
        "id": "JtiMihu8rNO8",
        "outputId": "46dd10b2-7c35-411b-f911-1732361b6b6e"
      },
      "source": [
        "rankings_avg = friedman_test(*auc_data_minmax.values())\n",
        "rankings_avg"
      ],
      "execution_count": 195,
      "outputs": [
        {
          "output_type": "stream",
          "name": "stderr",
          "text": [
            "/usr/local/lib/python3.7/dist-packages/ipykernel_launcher.py:44: DeprecationWarning: Calling np.sum(generator) is deprecated, and in the future will give a different result. Use np.sum(np.fromiter(generator)) or the python sum builtin instead.\n"
          ]
        },
        {
          "output_type": "execute_result",
          "data": {
            "text/plain": [
              "[2.336842105263158, 2.6210526315789475, 2.626315789473684, 2.4157894736842107]"
            ]
          },
          "metadata": {},
          "execution_count": 195
        }
      ]
    },
    {
      "cell_type": "markdown",
      "metadata": {
        "id": "HPiZKQZZrjrh"
      },
      "source": [
        "#### Post-hoc test"
      ]
    },
    {
      "cell_type": "code",
      "metadata": {
        "id": "5F9940V_rmEF"
      },
      "source": [
        "data = np.array([final_df.AUC_OneClassSVM_MinMax, final_df.AUC_IsolationForest_MinMax, final_df.AUC_GaussianMixture_MinMax, final_df.AUC_BRM_MinMax])"
      ],
      "execution_count": 196,
      "outputs": []
    },
    {
      "cell_type": "code",
      "metadata": {
        "colab": {
          "base_uri": "https://localhost:8080/",
          "height": 173
        },
        "id": "o3a1rxbxroH2",
        "outputId": "5f1a4423-ce3d-43b4-959f-cb2f8fb036b7"
      },
      "source": [
        "p_values = sp.posthoc_nemenyi_friedman(data.T)\n",
        "p_values"
      ],
      "execution_count": 197,
      "outputs": [
        {
          "output_type": "execute_result",
          "data": {
            "text/html": [
              "<div>\n",
              "<style scoped>\n",
              "    .dataframe tbody tr th:only-of-type {\n",
              "        vertical-align: middle;\n",
              "    }\n",
              "\n",
              "    .dataframe tbody tr th {\n",
              "        vertical-align: top;\n",
              "    }\n",
              "\n",
              "    .dataframe thead th {\n",
              "        text-align: right;\n",
              "    }\n",
              "</style>\n",
              "<table border=\"1\" class=\"dataframe\">\n",
              "  <thead>\n",
              "    <tr style=\"text-align: right;\">\n",
              "      <th></th>\n",
              "      <th>0</th>\n",
              "      <th>1</th>\n",
              "      <th>2</th>\n",
              "      <th>3</th>\n",
              "    </tr>\n",
              "  </thead>\n",
              "  <tbody>\n",
              "    <tr>\n",
              "      <th>0</th>\n",
              "      <td>1.000000</td>\n",
              "      <td>0.428543</td>\n",
              "      <td>0.41172</td>\n",
              "      <td>0.900000</td>\n",
              "    </tr>\n",
              "    <tr>\n",
              "      <th>1</th>\n",
              "      <td>0.428543</td>\n",
              "      <td>1.000000</td>\n",
              "      <td>0.90000</td>\n",
              "      <td>0.670069</td>\n",
              "    </tr>\n",
              "    <tr>\n",
              "      <th>2</th>\n",
              "      <td>0.411720</td>\n",
              "      <td>0.900000</td>\n",
              "      <td>1.00000</td>\n",
              "      <td>0.654300</td>\n",
              "    </tr>\n",
              "    <tr>\n",
              "      <th>3</th>\n",
              "      <td>0.900000</td>\n",
              "      <td>0.670069</td>\n",
              "      <td>0.65430</td>\n",
              "      <td>1.000000</td>\n",
              "    </tr>\n",
              "  </tbody>\n",
              "</table>\n",
              "</div>"
            ],
            "text/plain": [
              "          0         1        2         3\n",
              "0  1.000000  0.428543  0.41172  0.900000\n",
              "1  0.428543  1.000000  0.90000  0.670069\n",
              "2  0.411720  0.900000  1.00000  0.654300\n",
              "3  0.900000  0.670069  0.65430  1.000000"
            ]
          },
          "metadata": {},
          "execution_count": 197
        }
      ]
    },
    {
      "cell_type": "code",
      "metadata": {
        "colab": {
          "base_uri": "https://localhost:8080/"
        },
        "id": "7CI8Ct9Crrjl",
        "outputId": "0f933ff4-b825-4666-e39d-828f5cbd3c61"
      },
      "source": [
        "ranks = {key: rankings_avg[i] for i, key in enumerate(auc_data_minmax.keys())}\n",
        "ranks"
      ],
      "execution_count": 199,
      "outputs": [
        {
          "output_type": "execute_result",
          "data": {
            "text/plain": [
              "{'AUC_BRM_MinMax': 2.4157894736842107,\n",
              " 'AUC_Gaussian_Mixture_MinMax': 2.626315789473684,\n",
              " 'AUC_Isolation_Forest_MinMax': 2.6210526315789475,\n",
              " 'AUC_OneClass_SVM_MinMax': 2.336842105263158}"
            ]
          },
          "metadata": {},
          "execution_count": 199
        }
      ]
    },
    {
      "cell_type": "code",
      "metadata": {
        "colab": {
          "base_uri": "https://localhost:8080/"
        },
        "id": "a26YMMsdrvYT",
        "outputId": "7f2b1fd2-fc5b-44ae-cfe2-5d70a900692e"
      },
      "source": [
        "comparisons, z_values, p_values, adj_p_values = shaffer_multitest(ranks)\n",
        "comparisons, z_values, p_values, adj_p_values"
      ],
      "execution_count": 201,
      "outputs": [
        {
          "output_type": "execute_result",
          "data": {
            "text/plain": [
              "(['AUC_OneClass_SVM_None vs AUC_Gaussian_Mixture_None',\n",
              "  'AUC_OneClass_SVM_None vs AUC_Isolation_Forest_None',\n",
              "  'AUC_Gaussian_Mixture_None vs AUC_BRM_None',\n",
              "  'AUC_Isolation_Forest_None vs AUC_BRM_None',\n",
              "  'AUC_OneClass_SVM_None vs AUC_BRM_None',\n",
              "  'AUC_Isolation_Forest_None vs AUC_Gaussian_Mixture_None'],\n",
              " [0.2894736842105261,\n",
              "  0.28421052631578947,\n",
              "  0.21052631578947345,\n",
              "  0.20526315789473681,\n",
              "  0.07894736842105265,\n",
              "  0.005263157894736636],\n",
              " [0.7722189152300221,\n",
              "  0.7762490491181446,\n",
              "  0.8332569148305358,\n",
              "  0.837366526908202,\n",
              "  0.9370744862382194,\n",
              "  0.995800626962418],\n",
              " [1, 1, 1, 1, 1, 1])"
            ]
          },
          "metadata": {},
          "execution_count": 201
        }
      ]
    },
    {
      "cell_type": "code",
      "metadata": {
        "colab": {
          "base_uri": "https://localhost:8080/"
        },
        "id": "K2TEsBAVr2IU",
        "outputId": "e59bc248-4c35-490e-bbc6-068998376fb8"
      },
      "source": [
        "comparisons, z_values, p_values, adj_p_values = nemenyi_multitest(ranks)\n",
        "comparisons, z_values, p_values, adj_p_values"
      ],
      "execution_count": 202,
      "outputs": [
        {
          "output_type": "execute_result",
          "data": {
            "text/plain": [
              "(['AUC_OneClass_SVM_None vs AUC_Isolation_Forest_None',\n",
              "  'AUC_OneClass_SVM_None vs AUC_Gaussian_Mixture_None',\n",
              "  'AUC_OneClass_SVM_None vs AUC_BRM_None',\n",
              "  'AUC_Isolation_Forest_None vs AUC_Gaussian_Mixture_None',\n",
              "  'AUC_Isolation_Forest_None vs AUC_BRM_None',\n",
              "  'AUC_Gaussian_Mixture_None vs AUC_BRM_None'],\n",
              " [0.28421052631578947,\n",
              "  0.2894736842105261,\n",
              "  0.07894736842105265,\n",
              "  0.005263157894736636,\n",
              "  0.20526315789473681,\n",
              "  0.21052631578947345],\n",
              " [0.7762490491181446,\n",
              "  0.7722189152300221,\n",
              "  0.9370744862382194,\n",
              "  0.995800626962418,\n",
              "  0.837366526908202,\n",
              "  0.8332569148305358],\n",
              " [1, 1, 1, 1, 1, 1])"
            ]
          },
          "metadata": {},
          "execution_count": 202
        }
      ]
    },
    {
      "cell_type": "markdown",
      "metadata": {
        "id": "wDkwJAvJsFB5"
      },
      "source": [
        "#### Critical Difference Diagram"
      ]
    },
    {
      "cell_type": "code",
      "metadata": {
        "colab": {
          "base_uri": "https://localhost:8080/",
          "height": 143
        },
        "id": "COKWeJRor7S_",
        "outputId": "3dbd60b6-e329-4758-c36a-b84a4b5c5f10"
      },
      "source": [
        "import Orange\n",
        "\n",
        "names = ['One Class SVM MinMax', 'Isolation Forest MinMax', 'Gaussian Mixture MinMax', 'BRM MinMax']\n",
        "\n",
        "avranks = [rankings_avg[0], rankings_avg[1], rankings_avg[2], rankings_avg[3]]\n",
        "\n",
        "cd = Orange.evaluation.compute_CD(avranks, final_df.shape[0])\n",
        "Orange.evaluation.graph_ranks(avranks, names, cd=cd, width=6, textspace=1.5)\n",
        "plt.show();"
      ],
      "execution_count": 203,
      "outputs": [
        {
          "output_type": "display_data",
          "data": {
            "image/png": "[encoded data removed]",
            "text/plain": [
              "<Figure size 432x111.6 with 1 Axes>"
            ]
          },
          "metadata": {}
        }
      ]
    },
    {
      "cell_type": "markdown",
      "metadata": {
        "id": "T3yBCaaQsRqP"
      },
      "source": [
        "### Normalization: Standard Scaler"
      ]
    },
    {
      "cell_type": "markdown",
      "metadata": {
        "id": "FaB43GZtsXOs"
      },
      "source": [
        "#### Friedman's test"
      ]
    },
    {
      "cell_type": "code",
      "metadata": {
        "colab": {
          "base_uri": "https://localhost:8080/"
        },
        "id": "-H7eTCqVsZB8",
        "outputId": "e50304d6-3ca6-4dc7-e4f7-89088d7ea689"
      },
      "source": [
        "alpha = 0.05 # significance level\n",
        "\n",
        "result = stats.friedmanchisquare(final_df.AUC_OneClassSVM_Std, final_df.AUC_IsolationForest_Std, final_df.AUC_GaussianMixture_Std, final_df.AUC_BRM_Std)\n",
        "result"
      ],
      "execution_count": 204,
      "outputs": [
        {
          "output_type": "execute_result",
          "data": {
            "text/plain": [
              "FriedmanchisquareResult(statistic=3.17494600431964, pvalue=0.3654304625707986)"
            ]
          },
          "metadata": {},
          "execution_count": 204
        }
      ]
    },
    {
      "cell_type": "code",
      "metadata": {
        "colab": {
          "base_uri": "https://localhost:8080/"
        },
        "id": "YSUNVAOCscCj",
        "outputId": "5633a71d-e8f5-45e7-922c-f635794897ff"
      },
      "source": [
        "if result.pvalue < alpha:\n",
        "  print(\"We can reject the null hypothesis: so the results obtained by all the tested classifiers, in all the databases, are not similar statistically. Therefore, we can proceed with a post-hoc test.\")\n",
        "else:\n",
        "  print(\"We can accept the null hypothesis: so the results obtained by all the tested classifiers, in all the databases, are similar statistically.\")"
      ],
      "execution_count": 205,
      "outputs": [
        {
          "output_type": "stream",
          "name": "stdout",
          "text": [
            "We can accept the null hypothesis: so the results obtained by all the tested classifiers, in all the databases, are similar statistically.\n"
          ]
        }
      ]
    },
    {
      "cell_type": "code",
      "metadata": {
        "id": "h5Sxrd5BseJp"
      },
      "source": [
        "auc_data_std = {\n",
        "    'AUC_OneClass_SVM_Std': final_df.AUC_OneClassSVM_Std,\n",
        "    'AUC_Isolation_Forest_Std': final_df.AUC_IsolationForest_Std,\n",
        "    'AUC_Gaussian_Mixture_Std': final_df.AUC_GaussianMixture_Std,\n",
        "    'AUC_BRM_Std': final_df.AUC_BRM_Std,\n",
        "}"
      ],
      "execution_count": 206,
      "outputs": []
    },
    {
      "cell_type": "code",
      "metadata": {
        "colab": {
          "base_uri": "https://localhost:8080/"
        },
        "id": "r974V1b-sjOx",
        "outputId": "c1877ea2-62e7-4264-8796-7fdace891d99"
      },
      "source": [
        "rankings_avg = friedman_test(*auc_data_std.values())\n",
        "rankings_avg"
      ],
      "execution_count": 207,
      "outputs": [
        {
          "output_type": "stream",
          "name": "stderr",
          "text": [
            "/usr/local/lib/python3.7/dist-packages/ipykernel_launcher.py:44: DeprecationWarning: Calling np.sum(generator) is deprecated, and in the future will give a different result. Use np.sum(np.fromiter(generator)) or the python sum builtin instead.\n"
          ]
        },
        {
          "output_type": "execute_result",
          "data": {
            "text/plain": [
              "[2.5210526315789474,\n",
              " 2.6473684210526316,\n",
              " 2.5105263157894737,\n",
              " 2.3210526315789473]"
            ]
          },
          "metadata": {},
          "execution_count": 207
        }
      ]
    },
    {
      "cell_type": "markdown",
      "metadata": {
        "id": "Dz0LCYVjst9J"
      },
      "source": [
        "#### Post-hoc test"
      ]
    },
    {
      "cell_type": "code",
      "metadata": {
        "id": "K6aSy2kvsu_X"
      },
      "source": [
        "data = np.array([final_df.AUC_OneClassSVM_Std, final_df.AUC_IsolationForest_Std, final_df.AUC_GaussianMixture_Std, final_df.AUC_BRM_Std])"
      ],
      "execution_count": 208,
      "outputs": []
    },
    {
      "cell_type": "code",
      "metadata": {
        "colab": {
          "base_uri": "https://localhost:8080/",
          "height": 173
        },
        "id": "_T4sAqKSsyIl",
        "outputId": "50108fba-4251-49ab-876b-c718d3454ea4"
      },
      "source": [
        "p_values = sp.posthoc_nemenyi_friedman(data.T)\n",
        "p_values"
      ],
      "execution_count": 209,
      "outputs": [
        {
          "output_type": "execute_result",
          "data": {
            "text/html": [
              "<div>\n",
              "<style scoped>\n",
              "    .dataframe tbody tr th:only-of-type {\n",
              "        vertical-align: middle;\n",
              "    }\n",
              "\n",
              "    .dataframe tbody tr th {\n",
              "        vertical-align: top;\n",
              "    }\n",
              "\n",
              "    .dataframe thead th {\n",
              "        text-align: right;\n",
              "    }\n",
              "</style>\n",
              "<table border=\"1\" class=\"dataframe\">\n",
              "  <thead>\n",
              "    <tr style=\"text-align: right;\">\n",
              "      <th></th>\n",
              "      <th>0</th>\n",
              "      <th>1</th>\n",
              "      <th>2</th>\n",
              "      <th>3</th>\n",
              "    </tr>\n",
              "  </thead>\n",
              "  <tbody>\n",
              "    <tr>\n",
              "      <th>0</th>\n",
              "      <td>1.000000</td>\n",
              "      <td>0.900000</td>\n",
              "      <td>0.900000</td>\n",
              "      <td>0.685841</td>\n",
              "    </tr>\n",
              "    <tr>\n",
              "      <th>1</th>\n",
              "      <td>0.900000</td>\n",
              "      <td>1.000000</td>\n",
              "      <td>0.875097</td>\n",
              "      <td>0.302046</td>\n",
              "    </tr>\n",
              "    <tr>\n",
              "      <th>2</th>\n",
              "      <td>0.900000</td>\n",
              "      <td>0.875097</td>\n",
              "      <td>1.000000</td>\n",
              "      <td>0.717386</td>\n",
              "    </tr>\n",
              "    <tr>\n",
              "      <th>3</th>\n",
              "      <td>0.685841</td>\n",
              "      <td>0.302046</td>\n",
              "      <td>0.717386</td>\n",
              "      <td>1.000000</td>\n",
              "    </tr>\n",
              "  </tbody>\n",
              "</table>\n",
              "</div>"
            ],
            "text/plain": [
              "          0         1         2         3\n",
              "0  1.000000  0.900000  0.900000  0.685841\n",
              "1  0.900000  1.000000  0.875097  0.302046\n",
              "2  0.900000  0.875097  1.000000  0.717386\n",
              "3  0.685841  0.302046  0.717386  1.000000"
            ]
          },
          "metadata": {},
          "execution_count": 209
        }
      ]
    },
    {
      "cell_type": "code",
      "metadata": {
        "colab": {
          "base_uri": "https://localhost:8080/"
        },
        "id": "mznDvOUss1c9",
        "outputId": "c6ca2b55-4c23-434c-833f-a5493964da4b"
      },
      "source": [
        "ranks = {key: rankings_avg[i] for i, key in enumerate(auc_data_std.keys())}\n",
        "ranks"
      ],
      "execution_count": 210,
      "outputs": [
        {
          "output_type": "execute_result",
          "data": {
            "text/plain": [
              "{'AUC_BRM_Std': 2.3210526315789473,\n",
              " 'AUC_Gaussian_Mixture_Std': 2.5105263157894737,\n",
              " 'AUC_Isolation_Forest_Std': 2.6473684210526316,\n",
              " 'AUC_OneClass_SVM_Std': 2.5210526315789474}"
            ]
          },
          "metadata": {},
          "execution_count": 210
        }
      ]
    },
    {
      "cell_type": "code",
      "metadata": {
        "colab": {
          "base_uri": "https://localhost:8080/"
        },
        "id": "51EDT_EZs6KG",
        "outputId": "f22c1490-aa55-4001-b80b-465aa4b388f6"
      },
      "source": [
        "comparisons, z_values, p_values, adj_p_values = shaffer_multitest(ranks)\n",
        "comparisons, z_values, p_values, adj_p_values"
      ],
      "execution_count": 211,
      "outputs": [
        {
          "output_type": "execute_result",
          "data": {
            "text/plain": [
              "(['AUC_Isolation_Forest_Std vs AUC_BRM_Std',\n",
              "  'AUC_OneClass_SVM_Std vs AUC_BRM_Std',\n",
              "  'AUC_Gaussian_Mixture_Std vs AUC_BRM_Std',\n",
              "  'AUC_Isolation_Forest_Std vs AUC_Gaussian_Mixture_Std',\n",
              "  'AUC_OneClass_SVM_Std vs AUC_Isolation_Forest_Std',\n",
              "  'AUC_OneClass_SVM_Std vs AUC_Gaussian_Mixture_Std'],\n",
              " [0.32631578947368434,\n",
              "  0.20000000000000018,\n",
              "  0.18947368421052646,\n",
              "  0.13684210526315788,\n",
              "  0.12631578947368416,\n",
              "  0.010526315789473717],\n",
              " [0.7441854432140296,\n",
              "  0.8414805811217938,\n",
              "  0.8497215784715073,\n",
              "  0.891155601487891,\n",
              "  0.899481958176398,\n",
              "  0.9916013702490789],\n",
              " [1, 1, 1, 1, 1, 1])"
            ]
          },
          "metadata": {},
          "execution_count": 211
        }
      ]
    },
    {
      "cell_type": "code",
      "metadata": {
        "colab": {
          "base_uri": "https://localhost:8080/"
        },
        "id": "jsp5iCJ9s9a0",
        "outputId": "c582d17a-168f-4f74-803b-023474df0f3a"
      },
      "source": [
        "comparisons, z_values, p_values, adj_p_values = nemenyi_multitest(ranks)\n",
        "comparisons, z_values, p_values, adj_p_values"
      ],
      "execution_count": 212,
      "outputs": [
        {
          "output_type": "execute_result",
          "data": {
            "text/plain": [
              "(['AUC_OneClass_SVM_Std vs AUC_Isolation_Forest_Std',\n",
              "  'AUC_OneClass_SVM_Std vs AUC_Gaussian_Mixture_Std',\n",
              "  'AUC_OneClass_SVM_Std vs AUC_BRM_Std',\n",
              "  'AUC_Isolation_Forest_Std vs AUC_Gaussian_Mixture_Std',\n",
              "  'AUC_Isolation_Forest_Std vs AUC_BRM_Std',\n",
              "  'AUC_Gaussian_Mixture_Std vs AUC_BRM_Std'],\n",
              " [0.12631578947368416,\n",
              "  0.010526315789473717,\n",
              "  0.20000000000000018,\n",
              "  0.13684210526315788,\n",
              "  0.32631578947368434,\n",
              "  0.18947368421052646],\n",
              " [0.899481958176398,\n",
              "  0.9916013702490789,\n",
              "  0.8414805811217938,\n",
              "  0.891155601487891,\n",
              "  0.7441854432140296,\n",
              "  0.8497215784715073],\n",
              " [1, 1, 1, 1, 1, 1])"
            ]
          },
          "metadata": {},
          "execution_count": 212
        }
      ]
    },
    {
      "cell_type": "markdown",
      "metadata": {
        "id": "7LGXFtBKtBHL"
      },
      "source": [
        "#### Critical Difference Diagram"
      ]
    },
    {
      "cell_type": "code",
      "metadata": {
        "colab": {
          "base_uri": "https://localhost:8080/",
          "height": 143
        },
        "id": "zV4x3ZMwtCuA",
        "outputId": "ca68d8d5-41f3-4062-f026-a9d39cec82e8"
      },
      "source": [
        "import Orange\n",
        "\n",
        "names = ['One Class SVM Std', 'Isolation Forest Std', 'Gaussian Mixture Std', 'BRM Std']\n",
        "\n",
        "avranks = [rankings_avg[0], rankings_avg[1], rankings_avg[2], rankings_avg[3]]\n",
        "\n",
        "cd = Orange.evaluation.compute_CD(avranks, final_df.shape[0])\n",
        "Orange.evaluation.graph_ranks(avranks, names, cd=cd, width=6, textspace=1.5)\n",
        "plt.show();"
      ],
      "execution_count": 213,
      "outputs": [
        {
          "output_type": "display_data",
          "data": {
            "image/png": "[encoded data removed]",
            "text/plain": [
              "<Figure size 432x111.6 with 1 Axes>"
            ]
          },
          "metadata": {}
        }
      ]
    }
  ]
}