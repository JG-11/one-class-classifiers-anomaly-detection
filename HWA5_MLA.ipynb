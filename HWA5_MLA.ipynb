{
  "nbformat": 4,
  "nbformat_minor": 0,
  "metadata": {
    "colab": {
      "name": "HWA5_MLA.ipynb",
      "provenance": [],
      "collapsed_sections": []
    },
    "kernelspec": {
      "name": "python3",
      "display_name": "Python 3"
    }
  },
  "cells": [
    {
      "cell_type": "markdown",
      "metadata": {
        "id": "3twsr2LUV9JI"
      },
      "source": [
        "# HWA5"
      ]
    },
    {
      "cell_type": "markdown",
      "metadata": {
        "id": "dapmLvN0WCNG"
      },
      "source": [
        "## Algorithms + Databases"
      ]
    },
    {
      "cell_type": "code",
      "metadata": {
        "id": "AdA-1G9Tcgn5"
      },
      "source": [
        "import numpy as np \n",
        "import pandas as pd\n",
        "import tensorflow as tf\n",
        "import os\n",
        "import sys\n",
        "import math\n",
        "import csv\n",
        "\n",
        "import matplotlib.pyplot as plt\n",
        "import seaborn as sns\n",
        "\n",
        "from keras.callbacks import ModelCheckpoint\n",
        "from sklearn.model_selection import train_test_split \n",
        "from sklearn.svm import OneClassSVM\n",
        "from sklearn.ensemble import IsolationForest\n",
        "from sklearn.linear_model import Ridge\n",
        "from sklearn.mixture import GaussianMixture\n",
        "\n",
        "# the new model\n",
        "from keras.models import Sequential\n",
        "from keras.layers import Dense, Activation, Flatten\n",
        "\n",
        "\n",
        "from sklearn import metrics\n",
        "from sklearn.metrics import classification_report \n",
        "from sklearn.preprocessing import OneHotEncoder\n",
        "from sklearn.preprocessing import MinMaxScaler\n",
        "from sklearn.preprocessing import StandardScaler"
      ],
      "execution_count": null,
      "outputs": []
    },
    {
      "cell_type": "code",
      "metadata": {
        "id": "iKj36C4lcwS8"
      },
      "source": [
        "# Function importing Dataset \n",
        "def importdata(trainFile, testFile, skipTrain, skipTest): \n",
        "    train = pd.read_csv(trainFile, sep= ',', header = None, skiprows=skipTrain) \n",
        "    test = pd.read_csv(testFile, sep= ',', header = None, skiprows=skipTest) \n",
        "    return train, test    \n",
        "\n",
        "# Function to split target from data \n",
        "def splitdataset(train, test): \n",
        "    ohe = OneHotEncoder(sparse=True)\n",
        "    objInTrain = len(train)\n",
        "\n",
        "    allData = pd.concat([train, test], ignore_index=True, sort =False, axis=0)\n",
        "    AllDataWihoutClass = allData.iloc[:, :-1]\n",
        "    AllDataWihoutClassOnlyNominals = AllDataWihoutClass.select_dtypes(include=['object'])\n",
        "    AllDataWihoutClassNoNominals = AllDataWihoutClass.select_dtypes(exclude=['object'])\n",
        "\n",
        "    encAllDataWihoutClassNominals = ohe.fit_transform(AllDataWihoutClassOnlyNominals)\n",
        "    encAllDataWihoutClassNominalsToPanda = pd.DataFrame(encAllDataWihoutClassNominals.toarray())\n",
        "    \n",
        "    if AllDataWihoutClassOnlyNominals.shape[1] > 0:\n",
        "      codAllDataAgain = pd.concat([encAllDataWihoutClassNominalsToPanda, AllDataWihoutClassNoNominals], ignore_index=True, sort =False, axis=1)\n",
        "    else:\n",
        "      codAllDataAgain = AllDataWihoutClass\n",
        "\n",
        "    # Seperating the target variable \n",
        "    X_train = codAllDataAgain[:objInTrain]\n",
        "    y_train = train.values[:, -1]\n",
        "\n",
        "    X_test = codAllDataAgain[objInTrain:]\n",
        "    y_test = test.values[:, -1]\n",
        "    \n",
        "    mm_scaler = MinMaxScaler()\n",
        "    X_train_minmax = pd.DataFrame(mm_scaler.fit_transform(X_train[X_train.columns]), index=X_train.index, columns=X_train.columns)\n",
        "    X_test_minmax = pd.DataFrame(mm_scaler.transform(X_test[X_test.columns]), index=X_test.index, columns=X_test.columns)\n",
        "    \n",
        "    std_scaler = StandardScaler()\n",
        "    X_train_std = pd.DataFrame(std_scaler.fit_transform(X_train[X_train.columns]), index=X_train.index, columns=X_train.columns)\n",
        "    X_test_std = pd.DataFrame(std_scaler.transform(X_test[X_test.columns]), index=X_test.index, columns=X_test.columns)\n",
        "    \n",
        "    X_train_minmax_std = pd.DataFrame(std_scaler.fit_transform(X_train_minmax[X_train_minmax.columns]), index=X_train_minmax.index, columns=X_train_minmax.columns)\n",
        "    X_test_minmax_std = pd.DataFrame(std_scaler.transform(X_test_minmax[X_test_minmax.columns]), index=X_test_minmax.index, columns=X_test_minmax.columns)\n",
        "    \n",
        "    return X_train, X_test, y_train, y_test, X_train_minmax, X_test_minmax, X_train_std, X_test_std, X_train_minmax_std, X_test_minmax_std\n",
        "\n",
        "# Function to make predictions \n",
        "def prediction(X_test, clf_object):  \n",
        "    y_pred = clf_object.score_samples(X_test) \n",
        "    return y_pred \n",
        "\n",
        "def result_of_Class(y_test, y_pred, saveFile):       \n",
        "    np.savetxt(saveFile, y_pred, fmt='%.4f')"
      ],
      "execution_count": null,
      "outputs": []
    },
    {
      "cell_type": "code",
      "metadata": {
        "colab": {
          "base_uri": "https://localhost:8080/"
        },
        "id": "xHoL36IXy4dV",
        "outputId": "0f4a7888-425a-4ec3-84de-aa1ed1606e7e"
      },
      "source": [
        "from google.colab import drive\n",
        "drive.mount('/content/drive')"
      ],
      "execution_count": null,
      "outputs": [
        {
          "output_type": "stream",
          "name": "stdout",
          "text": [
            "Mounted at /content/drive\n"
          ]
        }
      ]
    },
    {
      "cell_type": "code",
      "metadata": {
        "id": "Nbu-3eVIzFNt"
      },
      "source": [
        "%cd /content/drive/MyDrive/Colab Notebooks/Databases\n",
        "%ls"
      ],
      "execution_count": null,
      "outputs": []
    },
    {
      "cell_type": "code",
      "metadata": {
        "id": "KTdxqjDhQN4r"
      },
      "source": [
        "models_df = pd.DataFrame()\n",
        "\n",
        "data_2 = {\n",
        "    'Database': [],\n",
        "    'AUC': [],\n",
        "    'Normalization': [],\n",
        "    'Classifier': [],\n",
        "}"
      ],
      "execution_count": null,
      "outputs": []
    },
    {
      "cell_type": "code",
      "metadata": {
        "id": "LmauA-r8J2Li"
      },
      "source": [
        "def apply_classifier(rootDir, classifier, str_classifier, normalization=None, brm_custom_dissimilarity_measure='euclidean'):\n",
        "  print('Implementing', str_classifier, '...')\n",
        "\n",
        "  if str_classifier == 'BRMCustom':\n",
        "    clf_classif = classifier(dissimilarity_measure=brm_custom_dissimilarity_measure)\n",
        "  else:\n",
        "    clf_classif = classifier()\n",
        "\n",
        "  data = {\n",
        "    'Database': [],\n",
        "    'AUC': [],\n",
        "  }\n",
        "\n",
        "  i = 0\n",
        "  for dirName, subdirList, fileList in os.walk(rootDir):\n",
        "      #print('Directorio encontrado: %s' % dirName)\n",
        "      #print(\"************************************ DIRECTORIO **************************************\")\n",
        "\n",
        "      if i == 0:\n",
        "        i += 1\n",
        "\n",
        "        continue\n",
        "\n",
        "      if len(fileList) > 0:\n",
        "          arr_auc = []\n",
        "          arr_folder_name = dirName.split(\"/\")\n",
        "          folder_name = arr_folder_name[len(arr_folder_name) - 1]\n",
        "          completed_name = folder_name + \"-5-\"\n",
        "          for i in range(len(fileList)):\n",
        "              #print(\"!!!!!!!!!!!!!!!!!!!!!!!!!!!!!!!!!! DATASET !!!!!!!!!!!!!!!!!!!!!!!!!!!!!!!!!!!!!!!!!\") \n",
        "              trainFile = str(dirName) + '/' + completed_name + \"1tra.dat\"\n",
        "              testFile = str(dirName) + '/' + completed_name + \"1tst.dat\"\n",
        "              #print('trainFile ' + trainFile)\n",
        "              #print('testFile ' + testFile)\n",
        "\n",
        "              with open(trainFile) as file:\n",
        "                skipTrain = 0\n",
        "                for line in file:\n",
        "                    skipTrain += 1\n",
        "                    \n",
        "                    if line[0] != '@':\n",
        "                      break\n",
        "\n",
        "              with open(testFile) as file:\n",
        "                skipTest = 0\n",
        "                for line in file:\n",
        "                    skipTest += 1\n",
        "                    \n",
        "                    if line[0] != '@':\n",
        "                      break\n",
        "\n",
        "              # Loading data \n",
        "              train, test = importdata(trainFile, testFile, skipTrain - 1, skipTest - 1)\n",
        "\n",
        "              # Training\n",
        "              X_train, X_test, y_train, y_test, X_train_minmax, X_test_minmax, X_train_std, X_test_std, X_train_minmax_std, X_test_minmax_std = splitdataset(train, test)\n",
        "\n",
        "              auc = 0\n",
        "              if normalization is None:\n",
        "                # Performing training \n",
        "                clf_classif.fit(X_train, y_train) \n",
        "\n",
        "                # Operational Phase \n",
        "                y_pred_classif = prediction(X_test, clf_classif) \n",
        "\n",
        "                auc = metrics.roc_auc_score(y_test,  y_pred_classif)\n",
        "              elif normalization is 'MinMax':\n",
        "                # Performing training \n",
        "                clf_classif.fit(X_train_minmax, y_train) \n",
        "\n",
        "                # Operational Phase \n",
        "                y_pred_classif = prediction(X_test_minmax, clf_classif) \n",
        "\n",
        "                auc = metrics.roc_auc_score(y_test,  y_pred_classif)\n",
        "              elif normalization is 'Std':\n",
        "                # Performing training \n",
        "                clf_classif.fit(X_train_std, y_train) \n",
        "\n",
        "                # Operational Phase \n",
        "                y_pred_classif = prediction(X_test_std, clf_classif) \n",
        "\n",
        "                auc = metrics.roc_auc_score(y_test,  y_pred_classif)\n",
        "              \n",
        "              arr_auc.append(1 - auc if auc < 0.5 else auc)\n",
        "              #print(\"AUC: \"+str(1 - auc if auc < 0.5 else auc))\n",
        "              #print(y_pred_classif)\n",
        "          \n",
        "          #print('AUC!! ' + str(arr_auc))\n",
        "          aver_auc = sum(arr_auc) / len(arr_auc)\n",
        "          #print('aver_auc!! ' + str(aver_auc))\n",
        "          data['Database'].append(folder_name)\n",
        "          data['AUC'].append(aver_auc)\n",
        "\n",
        "          data_2['Database'].append(folder_name)\n",
        "          data_2['AUC'].append(aver_auc)\n",
        "          data_2['Classifier'].append(str_classifier)\n",
        "          data_2['Normalization'].append(str(normalization))\n",
        "          #print('data[auc] ' + str(data['auc']))\n",
        "\n",
        "      df = pd.DataFrame(data, columns = ['Database', 'AUC'])\n",
        "\n",
        "      if str_classifier == 'BRMCustom':\n",
        "        df.to_csv(rootDir + str_classifier + '_' + str(normalization) + '_' + brm_custom_dissimilarity_measure  + '_results.csv')\n",
        "      else:  \n",
        "        df.to_csv(rootDir + str_classifier + '_' + str(normalization) + '_results.csv')\n",
        "\n",
        "  print(str_classifier, 'implemented')"
      ],
      "execution_count": null,
      "outputs": []
    },
    {
      "cell_type": "code",
      "metadata": {
        "colab": {
          "base_uri": "https://localhost:8080/"
        },
        "id": "f4_fuKUHNMhy",
        "outputId": "21dab242-083e-4b6d-8ac4-d8e3ec994544"
      },
      "source": [
        "!pip install brminer"
      ],
      "execution_count": null,
      "outputs": [
        {
          "output_type": "stream",
          "name": "stdout",
          "text": [
            "Collecting brminer\n",
            "  Downloading brminer-0.0.3-py3-none-any.whl (4.5 kB)\n",
            "Requirement already satisfied: scikit-learn in /usr/local/lib/python3.7/dist-packages (from brminer) (0.22.2.post1)\n",
            "Requirement already satisfied: pandas in /usr/local/lib/python3.7/dist-packages (from brminer) (1.1.5)\n",
            "Requirement already satisfied: numpy in /usr/local/lib/python3.7/dist-packages (from brminer) (1.19.5)\n",
            "Requirement already satisfied: python-dateutil>=2.7.3 in /usr/local/lib/python3.7/dist-packages (from pandas->brminer) (2.8.2)\n",
            "Requirement already satisfied: pytz>=2017.2 in /usr/local/lib/python3.7/dist-packages (from pandas->brminer) (2018.9)\n",
            "Requirement already satisfied: six>=1.5 in /usr/local/lib/python3.7/dist-packages (from python-dateutil>=2.7.3->pandas->brminer) (1.15.0)\n",
            "Requirement already satisfied: scipy>=0.17.0 in /usr/local/lib/python3.7/dist-packages (from scikit-learn->brminer) (1.4.1)\n",
            "Requirement already satisfied: joblib>=0.11 in /usr/local/lib/python3.7/dist-packages (from scikit-learn->brminer) (1.0.1)\n",
            "Installing collected packages: brminer\n",
            "Successfully installed brminer-0.0.3\n"
          ]
        }
      ]
    },
    {
      "cell_type": "code",
      "metadata": {
        "id": "FEM4FVMvbY-C"
      },
      "source": [
        "from brminer import BRM"
      ],
      "execution_count": null,
      "outputs": []
    },
    {
      "cell_type": "markdown",
      "metadata": {
        "id": "Uhai-nxhe1Lt"
      },
      "source": [
        "#### Normalization: None"
      ]
    },
    {
      "cell_type": "code",
      "metadata": {
        "colab": {
          "base_uri": "https://localhost:8080/"
        },
        "id": "H5Hnw8UTKIMd",
        "outputId": "bdb7d2a3-c92e-40fc-b6b0-df208f5455f2"
      },
      "source": [
        "rootDir = '/content/drive/MyDrive/Colab Notebooks/Databases/'\n",
        "\n",
        "apply_classifier(rootDir, OneClassSVM, 'OneClassSVM')\n",
        "apply_classifier(rootDir, IsolationForest, 'IsolationForest')\n",
        "apply_classifier(rootDir, GaussianMixture, 'GaussianMixture')\n",
        "apply_classifier(rootDir, BRM, 'BRM')"
      ],
      "execution_count": null,
      "outputs": [
        {
          "output_type": "stream",
          "name": "stdout",
          "text": [
            "Implementing OneClassSVM ...\n",
            "OneClassSVM implemented\n",
            "Implementing IsolationForest ...\n",
            "IsolationForest implemented\n",
            "Implementing GaussianMixture ...\n",
            "GaussianMixture implemented\n",
            "Implementing BRM ...\n",
            "BRM implemented\n"
          ]
        }
      ]
    },
    {
      "cell_type": "markdown",
      "metadata": {
        "id": "24lPA01Xe4Ox"
      },
      "source": [
        "#### Normalization: MinMax"
      ]
    },
    {
      "cell_type": "code",
      "metadata": {
        "colab": {
          "base_uri": "https://localhost:8080/"
        },
        "id": "cRH_OKFwznj4",
        "outputId": "aab1df34-2b57-47d4-c3fd-d788d1e18b4a"
      },
      "source": [
        "apply_classifier(rootDir, OneClassSVM, 'OneClassSVM', normalization='MinMax')\n",
        "apply_classifier(rootDir, IsolationForest, 'IsolationForest', normalization='MinMax')\n",
        "apply_classifier(rootDir, GaussianMixture, 'GaussianMixture', normalization='MinMax')\n",
        "apply_classifier(rootDir, BRM, 'BRM', normalization='MinMax')"
      ],
      "execution_count": null,
      "outputs": [
        {
          "output_type": "stream",
          "name": "stdout",
          "text": [
            "Implementing OneClassSVM ...\n",
            "OneClassSVM implemented\n",
            "Implementing IsolationForest ...\n",
            "IsolationForest implemented\n",
            "Implementing GaussianMixture ...\n",
            "GaussianMixture implemented\n",
            "Implementing BRM ...\n",
            "BRM implemented\n"
          ]
        }
      ]
    },
    {
      "cell_type": "markdown",
      "metadata": {
        "id": "YuAIGR7Ve6kR"
      },
      "source": [
        "#### Normalization: Standard Scaler"
      ]
    },
    {
      "cell_type": "code",
      "metadata": {
        "colab": {
          "base_uri": "https://localhost:8080/"
        },
        "id": "3bjtOPY8MDjA",
        "outputId": "932333f7-0bfc-4d59-8556-caec15a9f678"
      },
      "source": [
        "apply_classifier(rootDir, OneClassSVM, 'OneClassSVM', normalization='Std')\n",
        "apply_classifier(rootDir, IsolationForest, 'IsolationForest', normalization='Std')\n",
        "apply_classifier(rootDir, GaussianMixture, 'GaussianMixture', normalization='Std')\n",
        "apply_classifier(rootDir, BRM, 'BRM', normalization='Std')"
      ],
      "execution_count": null,
      "outputs": [
        {
          "output_type": "stream",
          "name": "stdout",
          "text": [
            "Implementing OneClassSVM ...\n",
            "OneClassSVM implemented\n",
            "Implementing IsolationForest ...\n",
            "IsolationForest implemented\n",
            "Implementing GaussianMixture ...\n",
            "GaussianMixture implemented\n",
            "Implementing BRM ...\n",
            "BRM implemented\n"
          ]
        }
      ]
    },
    {
      "cell_type": "markdown",
      "metadata": {
        "id": "qXg8zLB6WHNK"
      },
      "source": [
        "## Algorithms + Databases + Statistical Tests + Visualizations"
      ]
    },
    {
      "cell_type": "code",
      "metadata": {
        "colab": {
          "base_uri": "https://localhost:8080/",
          "height": 419
        },
        "id": "Xt_RIegvhtPJ",
        "outputId": "1b56dca3-358e-4c09-aab7-f100c7033bcf"
      },
      "source": [
        "models_df = pd.DataFrame(data_2)\n",
        "models_df"
      ],
      "execution_count": null,
      "outputs": [
        {
          "output_type": "execute_result",
          "data": {
            "text/html": [
              "<div>\n",
              "<style scoped>\n",
              "    .dataframe tbody tr th:only-of-type {\n",
              "        vertical-align: middle;\n",
              "    }\n",
              "\n",
              "    .dataframe tbody tr th {\n",
              "        vertical-align: top;\n",
              "    }\n",
              "\n",
              "    .dataframe thead th {\n",
              "        text-align: right;\n",
              "    }\n",
              "</style>\n",
              "<table border=\"1\" class=\"dataframe\">\n",
              "  <thead>\n",
              "    <tr style=\"text-align: right;\">\n",
              "      <th></th>\n",
              "      <th>Database</th>\n",
              "      <th>AUC</th>\n",
              "      <th>Normalization</th>\n",
              "      <th>Classifier</th>\n",
              "    </tr>\n",
              "  </thead>\n",
              "  <tbody>\n",
              "    <tr>\n",
              "      <th>0</th>\n",
              "      <td>yeast-2_vs_8</td>\n",
              "      <td>0.577957</td>\n",
              "      <td>None</td>\n",
              "      <td>OneClassSVM</td>\n",
              "    </tr>\n",
              "    <tr>\n",
              "      <th>1</th>\n",
              "      <td>zoo-3</td>\n",
              "      <td>0.950000</td>\n",
              "      <td>None</td>\n",
              "      <td>OneClassSVM</td>\n",
              "    </tr>\n",
              "    <tr>\n",
              "      <th>2</th>\n",
              "      <td>yeast4</td>\n",
              "      <td>0.758106</td>\n",
              "      <td>None</td>\n",
              "      <td>OneClassSVM</td>\n",
              "    </tr>\n",
              "    <tr>\n",
              "      <th>3</th>\n",
              "      <td>yeast1</td>\n",
              "      <td>0.560895</td>\n",
              "      <td>None</td>\n",
              "      <td>OneClassSVM</td>\n",
              "    </tr>\n",
              "    <tr>\n",
              "      <th>4</th>\n",
              "      <td>yeast3</td>\n",
              "      <td>0.509757</td>\n",
              "      <td>None</td>\n",
              "      <td>OneClassSVM</td>\n",
              "    </tr>\n",
              "    <tr>\n",
              "      <th>...</th>\n",
              "      <td>...</td>\n",
              "      <td>...</td>\n",
              "      <td>...</td>\n",
              "      <td>...</td>\n",
              "    </tr>\n",
              "    <tr>\n",
              "      <th>1135</th>\n",
              "      <td>abalone-21_vs_8</td>\n",
              "      <td>0.991228</td>\n",
              "      <td>Std</td>\n",
              "      <td>BRM</td>\n",
              "    </tr>\n",
              "    <tr>\n",
              "      <th>1136</th>\n",
              "      <td>abalone-19_vs_10-11-12-13</td>\n",
              "      <td>0.580189</td>\n",
              "      <td>Std</td>\n",
              "      <td>BRM</td>\n",
              "    </tr>\n",
              "    <tr>\n",
              "      <th>1137</th>\n",
              "      <td>abalone-20_vs_8-9-10</td>\n",
              "      <td>0.845899</td>\n",
              "      <td>Std</td>\n",
              "      <td>BRM</td>\n",
              "    </tr>\n",
              "    <tr>\n",
              "      <th>1138</th>\n",
              "      <td>abalone-3_vs_11</td>\n",
              "      <td>0.680272</td>\n",
              "      <td>Std</td>\n",
              "      <td>BRM</td>\n",
              "    </tr>\n",
              "    <tr>\n",
              "      <th>1139</th>\n",
              "      <td>abalone-17_vs_7-8-9-10</td>\n",
              "      <td>0.831414</td>\n",
              "      <td>Std</td>\n",
              "      <td>BRM</td>\n",
              "    </tr>\n",
              "  </tbody>\n",
              "</table>\n",
              "<p>1140 rows × 4 columns</p>\n",
              "</div>"
            ],
            "text/plain": [
              "                       Database       AUC Normalization   Classifier\n",
              "0                  yeast-2_vs_8  0.577957          None  OneClassSVM\n",
              "1                         zoo-3  0.950000          None  OneClassSVM\n",
              "2                        yeast4  0.758106          None  OneClassSVM\n",
              "3                        yeast1  0.560895          None  OneClassSVM\n",
              "4                        yeast3  0.509757          None  OneClassSVM\n",
              "...                         ...       ...           ...          ...\n",
              "1135            abalone-21_vs_8  0.991228           Std          BRM\n",
              "1136  abalone-19_vs_10-11-12-13  0.580189           Std          BRM\n",
              "1137       abalone-20_vs_8-9-10  0.845899           Std          BRM\n",
              "1138            abalone-3_vs_11  0.680272           Std          BRM\n",
              "1139     abalone-17_vs_7-8-9-10  0.831414           Std          BRM\n",
              "\n",
              "[1140 rows x 4 columns]"
            ]
          },
          "metadata": {},
          "execution_count": 12
        }
      ]
    },
    {
      "cell_type": "code",
      "metadata": {
        "colab": {
          "base_uri": "https://localhost:8080/",
          "height": 279
        },
        "id": "jLp72PYLiSh1",
        "outputId": "c5f5ea43-7932-4364-9646-d2c624b9d7f4"
      },
      "source": [
        "sns.boxplot(x='Classifier', y='AUC', hue='Normalization', data=models_df)\n",
        "plt.legend(bbox_to_anchor=(1.05, 1), loc='upper left', borderaxespad=0)\n",
        "plt.show()"
      ],
      "execution_count": null,
      "outputs": [
        {
          "output_type": "display_data",
          "data": {
            "image/png": "[encoded data removed]",
            "text/plain": [
              "<Figure size 432x288 with 1 Axes>"
            ]
          },
          "metadata": {
            "needs_background": "light"
          }
        }
      ]
    },
    {
      "cell_type": "code",
      "metadata": {
        "colab": {
          "base_uri": "https://localhost:8080/",
          "height": 419
        },
        "id": "rjEj1QCYZzor",
        "outputId": "7aba1187-cdea-4861-9ffd-4b3c54f105ee"
      },
      "source": [
        "none_df = models_df[models_df.Normalization == 'None']\n",
        "none_df"
      ],
      "execution_count": null,
      "outputs": [
        {
          "output_type": "execute_result",
          "data": {
            "text/html": [
              "<div>\n",
              "<style scoped>\n",
              "    .dataframe tbody tr th:only-of-type {\n",
              "        vertical-align: middle;\n",
              "    }\n",
              "\n",
              "    .dataframe tbody tr th {\n",
              "        vertical-align: top;\n",
              "    }\n",
              "\n",
              "    .dataframe thead th {\n",
              "        text-align: right;\n",
              "    }\n",
              "</style>\n",
              "<table border=\"1\" class=\"dataframe\">\n",
              "  <thead>\n",
              "    <tr style=\"text-align: right;\">\n",
              "      <th></th>\n",
              "      <th>Database</th>\n",
              "      <th>AUC</th>\n",
              "      <th>Normalization</th>\n",
              "      <th>Classifier</th>\n",
              "    </tr>\n",
              "  </thead>\n",
              "  <tbody>\n",
              "    <tr>\n",
              "      <th>0</th>\n",
              "      <td>yeast-2_vs_8</td>\n",
              "      <td>0.577957</td>\n",
              "      <td>None</td>\n",
              "      <td>OneClassSVM</td>\n",
              "    </tr>\n",
              "    <tr>\n",
              "      <th>1</th>\n",
              "      <td>zoo-3</td>\n",
              "      <td>0.950000</td>\n",
              "      <td>None</td>\n",
              "      <td>OneClassSVM</td>\n",
              "    </tr>\n",
              "    <tr>\n",
              "      <th>2</th>\n",
              "      <td>yeast4</td>\n",
              "      <td>0.758106</td>\n",
              "      <td>None</td>\n",
              "      <td>OneClassSVM</td>\n",
              "    </tr>\n",
              "    <tr>\n",
              "      <th>3</th>\n",
              "      <td>yeast1</td>\n",
              "      <td>0.560895</td>\n",
              "      <td>None</td>\n",
              "      <td>OneClassSVM</td>\n",
              "    </tr>\n",
              "    <tr>\n",
              "      <th>4</th>\n",
              "      <td>yeast3</td>\n",
              "      <td>0.509757</td>\n",
              "      <td>None</td>\n",
              "      <td>OneClassSVM</td>\n",
              "    </tr>\n",
              "    <tr>\n",
              "      <th>...</th>\n",
              "      <td>...</td>\n",
              "      <td>...</td>\n",
              "      <td>...</td>\n",
              "      <td>...</td>\n",
              "    </tr>\n",
              "    <tr>\n",
              "      <th>375</th>\n",
              "      <td>abalone-21_vs_8</td>\n",
              "      <td>0.992690</td>\n",
              "      <td>None</td>\n",
              "      <td>BRM</td>\n",
              "    </tr>\n",
              "    <tr>\n",
              "      <th>376</th>\n",
              "      <td>abalone-19_vs_10-11-12-13</td>\n",
              "      <td>0.580189</td>\n",
              "      <td>None</td>\n",
              "      <td>BRM</td>\n",
              "    </tr>\n",
              "    <tr>\n",
              "      <th>377</th>\n",
              "      <td>abalone-20_vs_8-9-10</td>\n",
              "      <td>0.844577</td>\n",
              "      <td>None</td>\n",
              "      <td>BRM</td>\n",
              "    </tr>\n",
              "    <tr>\n",
              "      <th>378</th>\n",
              "      <td>abalone-3_vs_11</td>\n",
              "      <td>0.673469</td>\n",
              "      <td>None</td>\n",
              "      <td>BRM</td>\n",
              "    </tr>\n",
              "    <tr>\n",
              "      <th>379</th>\n",
              "      <td>abalone-17_vs_7-8-9-10</td>\n",
              "      <td>0.830135</td>\n",
              "      <td>None</td>\n",
              "      <td>BRM</td>\n",
              "    </tr>\n",
              "  </tbody>\n",
              "</table>\n",
              "<p>380 rows × 4 columns</p>\n",
              "</div>"
            ],
            "text/plain": [
              "                      Database       AUC Normalization   Classifier\n",
              "0                 yeast-2_vs_8  0.577957          None  OneClassSVM\n",
              "1                        zoo-3  0.950000          None  OneClassSVM\n",
              "2                       yeast4  0.758106          None  OneClassSVM\n",
              "3                       yeast1  0.560895          None  OneClassSVM\n",
              "4                       yeast3  0.509757          None  OneClassSVM\n",
              "..                         ...       ...           ...          ...\n",
              "375            abalone-21_vs_8  0.992690          None          BRM\n",
              "376  abalone-19_vs_10-11-12-13  0.580189          None          BRM\n",
              "377       abalone-20_vs_8-9-10  0.844577          None          BRM\n",
              "378            abalone-3_vs_11  0.673469          None          BRM\n",
              "379     abalone-17_vs_7-8-9-10  0.830135          None          BRM\n",
              "\n",
              "[380 rows x 4 columns]"
            ]
          },
          "metadata": {},
          "execution_count": 136
        }
      ]
    },
    {
      "cell_type": "code",
      "metadata": {
        "colab": {
          "base_uri": "https://localhost:8080/",
          "height": 279
        },
        "id": "EKGY9Q8zZtXo",
        "outputId": "d500e255-f046-4a83-f2c2-3dc6c7bdfdf4"
      },
      "source": [
        "sns.boxplot(x='Classifier', y='AUC', hue='Normalization', data=none_df)\n",
        "plt.legend(bbox_to_anchor=(1.05, 1), loc='upper left', borderaxespad=0)\n",
        "plt.show()"
      ],
      "execution_count": null,
      "outputs": [
        {
          "output_type": "display_data",
          "data": {
            "image/png": "[encoded data removed]",
            "text/plain": [
              "<Figure size 432x288 with 1 Axes>"
            ]
          },
          "metadata": {
            "needs_background": "light"
          }
        }
      ]
    },
    {
      "cell_type": "code",
      "metadata": {
        "colab": {
          "base_uri": "https://localhost:8080/",
          "height": 419
        },
        "id": "mgTRavw-acRe",
        "outputId": "a1e40715-6a28-4fa9-e4cc-5d80b59e42c8"
      },
      "source": [
        "minmax_df = models_df[models_df.Normalization == 'MinMax']\n",
        "minmax_df"
      ],
      "execution_count": null,
      "outputs": [
        {
          "output_type": "execute_result",
          "data": {
            "text/html": [
              "<div>\n",
              "<style scoped>\n",
              "    .dataframe tbody tr th:only-of-type {\n",
              "        vertical-align: middle;\n",
              "    }\n",
              "\n",
              "    .dataframe tbody tr th {\n",
              "        vertical-align: top;\n",
              "    }\n",
              "\n",
              "    .dataframe thead th {\n",
              "        text-align: right;\n",
              "    }\n",
              "</style>\n",
              "<table border=\"1\" class=\"dataframe\">\n",
              "  <thead>\n",
              "    <tr style=\"text-align: right;\">\n",
              "      <th></th>\n",
              "      <th>Database</th>\n",
              "      <th>AUC</th>\n",
              "      <th>Normalization</th>\n",
              "      <th>Classifier</th>\n",
              "    </tr>\n",
              "  </thead>\n",
              "  <tbody>\n",
              "    <tr>\n",
              "      <th>380</th>\n",
              "      <td>yeast-2_vs_8</td>\n",
              "      <td>0.577957</td>\n",
              "      <td>MinMax</td>\n",
              "      <td>OneClassSVM</td>\n",
              "    </tr>\n",
              "    <tr>\n",
              "      <th>381</th>\n",
              "      <td>zoo-3</td>\n",
              "      <td>0.950000</td>\n",
              "      <td>MinMax</td>\n",
              "      <td>OneClassSVM</td>\n",
              "    </tr>\n",
              "    <tr>\n",
              "      <th>382</th>\n",
              "      <td>yeast4</td>\n",
              "      <td>0.764781</td>\n",
              "      <td>MinMax</td>\n",
              "      <td>OneClassSVM</td>\n",
              "    </tr>\n",
              "    <tr>\n",
              "      <th>383</th>\n",
              "      <td>yeast1</td>\n",
              "      <td>0.555274</td>\n",
              "      <td>MinMax</td>\n",
              "      <td>OneClassSVM</td>\n",
              "    </tr>\n",
              "    <tr>\n",
              "      <th>384</th>\n",
              "      <td>yeast3</td>\n",
              "      <td>0.515381</td>\n",
              "      <td>MinMax</td>\n",
              "      <td>OneClassSVM</td>\n",
              "    </tr>\n",
              "    <tr>\n",
              "      <th>...</th>\n",
              "      <td>...</td>\n",
              "      <td>...</td>\n",
              "      <td>...</td>\n",
              "      <td>...</td>\n",
              "    </tr>\n",
              "    <tr>\n",
              "      <th>755</th>\n",
              "      <td>abalone-21_vs_8</td>\n",
              "      <td>0.991228</td>\n",
              "      <td>MinMax</td>\n",
              "      <td>BRM</td>\n",
              "    </tr>\n",
              "    <tr>\n",
              "      <th>756</th>\n",
              "      <td>abalone-19_vs_10-11-12-13</td>\n",
              "      <td>0.584232</td>\n",
              "      <td>MinMax</td>\n",
              "      <td>BRM</td>\n",
              "    </tr>\n",
              "    <tr>\n",
              "      <th>757</th>\n",
              "      <td>abalone-20_vs_8-9-10</td>\n",
              "      <td>0.841490</td>\n",
              "      <td>MinMax</td>\n",
              "      <td>BRM</td>\n",
              "    </tr>\n",
              "    <tr>\n",
              "      <th>758</th>\n",
              "      <td>abalone-3_vs_11</td>\n",
              "      <td>0.697279</td>\n",
              "      <td>MinMax</td>\n",
              "      <td>BRM</td>\n",
              "    </tr>\n",
              "    <tr>\n",
              "      <th>759</th>\n",
              "      <td>abalone-17_vs_7-8-9-10</td>\n",
              "      <td>0.826663</td>\n",
              "      <td>MinMax</td>\n",
              "      <td>BRM</td>\n",
              "    </tr>\n",
              "  </tbody>\n",
              "</table>\n",
              "<p>380 rows × 4 columns</p>\n",
              "</div>"
            ],
            "text/plain": [
              "                      Database       AUC Normalization   Classifier\n",
              "380               yeast-2_vs_8  0.577957        MinMax  OneClassSVM\n",
              "381                      zoo-3  0.950000        MinMax  OneClassSVM\n",
              "382                     yeast4  0.764781        MinMax  OneClassSVM\n",
              "383                     yeast1  0.555274        MinMax  OneClassSVM\n",
              "384                     yeast3  0.515381        MinMax  OneClassSVM\n",
              "..                         ...       ...           ...          ...\n",
              "755            abalone-21_vs_8  0.991228        MinMax          BRM\n",
              "756  abalone-19_vs_10-11-12-13  0.584232        MinMax          BRM\n",
              "757       abalone-20_vs_8-9-10  0.841490        MinMax          BRM\n",
              "758            abalone-3_vs_11  0.697279        MinMax          BRM\n",
              "759     abalone-17_vs_7-8-9-10  0.826663        MinMax          BRM\n",
              "\n",
              "[380 rows x 4 columns]"
            ]
          },
          "metadata": {},
          "execution_count": 138
        }
      ]
    },
    {
      "cell_type": "code",
      "metadata": {
        "colab": {
          "base_uri": "https://localhost:8080/",
          "height": 279
        },
        "id": "Oi4QWuh-aimJ",
        "outputId": "88f9f01b-7e3a-4e65-9d8f-9a3d8cd90dca"
      },
      "source": [
        "sns.boxplot(x='Classifier', y='AUC', hue='Normalization', data=minmax_df)\n",
        "plt.legend(bbox_to_anchor=(1.05, 1), loc='upper left', borderaxespad=0)\n",
        "plt.show()"
      ],
      "execution_count": null,
      "outputs": [
        {
          "output_type": "display_data",
          "data": {
            "image/png": "[encoded data removed]",
            "text/plain": [
              "<Figure size 432x288 with 1 Axes>"
            ]
          },
          "metadata": {
            "needs_background": "light"
          }
        }
      ]
    },
    {
      "cell_type": "code",
      "metadata": {
        "colab": {
          "base_uri": "https://localhost:8080/",
          "height": 419
        },
        "id": "thWbYjtAavGr",
        "outputId": "97616400-21f0-4164-8db5-1faf229cfd97"
      },
      "source": [
        "std_df = models_df[models_df.Normalization == 'Std']\n",
        "std_df"
      ],
      "execution_count": null,
      "outputs": [
        {
          "output_type": "execute_result",
          "data": {
            "text/html": [
              "<div>\n",
              "<style scoped>\n",
              "    .dataframe tbody tr th:only-of-type {\n",
              "        vertical-align: middle;\n",
              "    }\n",
              "\n",
              "    .dataframe tbody tr th {\n",
              "        vertical-align: top;\n",
              "    }\n",
              "\n",
              "    .dataframe thead th {\n",
              "        text-align: right;\n",
              "    }\n",
              "</style>\n",
              "<table border=\"1\" class=\"dataframe\">\n",
              "  <thead>\n",
              "    <tr style=\"text-align: right;\">\n",
              "      <th></th>\n",
              "      <th>Database</th>\n",
              "      <th>AUC</th>\n",
              "      <th>Normalization</th>\n",
              "      <th>Classifier</th>\n",
              "    </tr>\n",
              "  </thead>\n",
              "  <tbody>\n",
              "    <tr>\n",
              "      <th>760</th>\n",
              "      <td>yeast-2_vs_8</td>\n",
              "      <td>0.626344</td>\n",
              "      <td>Std</td>\n",
              "      <td>OneClassSVM</td>\n",
              "    </tr>\n",
              "    <tr>\n",
              "      <th>761</th>\n",
              "      <td>zoo-3</td>\n",
              "      <td>0.900000</td>\n",
              "      <td>Std</td>\n",
              "      <td>OneClassSVM</td>\n",
              "    </tr>\n",
              "    <tr>\n",
              "      <th>762</th>\n",
              "      <td>yeast4</td>\n",
              "      <td>0.727908</td>\n",
              "      <td>Std</td>\n",
              "      <td>OneClassSVM</td>\n",
              "    </tr>\n",
              "    <tr>\n",
              "      <th>763</th>\n",
              "      <td>yeast1</td>\n",
              "      <td>0.555770</td>\n",
              "      <td>Std</td>\n",
              "      <td>OneClassSVM</td>\n",
              "    </tr>\n",
              "    <tr>\n",
              "      <th>764</th>\n",
              "      <td>yeast3</td>\n",
              "      <td>0.521350</td>\n",
              "      <td>Std</td>\n",
              "      <td>OneClassSVM</td>\n",
              "    </tr>\n",
              "    <tr>\n",
              "      <th>...</th>\n",
              "      <td>...</td>\n",
              "      <td>...</td>\n",
              "      <td>...</td>\n",
              "      <td>...</td>\n",
              "    </tr>\n",
              "    <tr>\n",
              "      <th>1135</th>\n",
              "      <td>abalone-21_vs_8</td>\n",
              "      <td>0.991228</td>\n",
              "      <td>Std</td>\n",
              "      <td>BRM</td>\n",
              "    </tr>\n",
              "    <tr>\n",
              "      <th>1136</th>\n",
              "      <td>abalone-19_vs_10-11-12-13</td>\n",
              "      <td>0.580189</td>\n",
              "      <td>Std</td>\n",
              "      <td>BRM</td>\n",
              "    </tr>\n",
              "    <tr>\n",
              "      <th>1137</th>\n",
              "      <td>abalone-20_vs_8-9-10</td>\n",
              "      <td>0.845899</td>\n",
              "      <td>Std</td>\n",
              "      <td>BRM</td>\n",
              "    </tr>\n",
              "    <tr>\n",
              "      <th>1138</th>\n",
              "      <td>abalone-3_vs_11</td>\n",
              "      <td>0.680272</td>\n",
              "      <td>Std</td>\n",
              "      <td>BRM</td>\n",
              "    </tr>\n",
              "    <tr>\n",
              "      <th>1139</th>\n",
              "      <td>abalone-17_vs_7-8-9-10</td>\n",
              "      <td>0.831414</td>\n",
              "      <td>Std</td>\n",
              "      <td>BRM</td>\n",
              "    </tr>\n",
              "  </tbody>\n",
              "</table>\n",
              "<p>380 rows × 4 columns</p>\n",
              "</div>"
            ],
            "text/plain": [
              "                       Database       AUC Normalization   Classifier\n",
              "760                yeast-2_vs_8  0.626344           Std  OneClassSVM\n",
              "761                       zoo-3  0.900000           Std  OneClassSVM\n",
              "762                      yeast4  0.727908           Std  OneClassSVM\n",
              "763                      yeast1  0.555770           Std  OneClassSVM\n",
              "764                      yeast3  0.521350           Std  OneClassSVM\n",
              "...                         ...       ...           ...          ...\n",
              "1135            abalone-21_vs_8  0.991228           Std          BRM\n",
              "1136  abalone-19_vs_10-11-12-13  0.580189           Std          BRM\n",
              "1137       abalone-20_vs_8-9-10  0.845899           Std          BRM\n",
              "1138            abalone-3_vs_11  0.680272           Std          BRM\n",
              "1139     abalone-17_vs_7-8-9-10  0.831414           Std          BRM\n",
              "\n",
              "[380 rows x 4 columns]"
            ]
          },
          "metadata": {},
          "execution_count": 140
        }
      ]
    },
    {
      "cell_type": "code",
      "metadata": {
        "colab": {
          "base_uri": "https://localhost:8080/",
          "height": 279
        },
        "id": "Tmckt5A_ayiL",
        "outputId": "00718b27-47dd-49d5-8319-2670d0ce6f60"
      },
      "source": [
        "sns.boxplot(x='Classifier', y='AUC', hue='Normalization', data=std_df)\n",
        "plt.legend(bbox_to_anchor=(1.05, 1), loc='upper left', borderaxespad=0)\n",
        "plt.show()"
      ],
      "execution_count": null,
      "outputs": [
        {
          "output_type": "display_data",
          "data": {
            "image/png": "[encoded data removed]",
            "text/plain": [
              "<Figure size 432x288 with 1 Axes>"
            ]
          },
          "metadata": {
            "needs_background": "light"
          }
        }
      ]
    },
    {
      "cell_type": "code",
      "metadata": {
        "colab": {
          "base_uri": "https://localhost:8080/",
          "height": 297
        },
        "id": "ckI76uxQggOz",
        "outputId": "dea22981-1f7f-4b82-a254-2ff61768c7b8"
      },
      "source": [
        "none_df.describe()"
      ],
      "execution_count": 173,
      "outputs": [
        {
          "output_type": "execute_result",
          "data": {
            "text/html": [
              "<div>\n",
              "<style scoped>\n",
              "    .dataframe tbody tr th:only-of-type {\n",
              "        vertical-align: middle;\n",
              "    }\n",
              "\n",
              "    .dataframe tbody tr th {\n",
              "        vertical-align: top;\n",
              "    }\n",
              "\n",
              "    .dataframe thead th {\n",
              "        text-align: right;\n",
              "    }\n",
              "</style>\n",
              "<table border=\"1\" class=\"dataframe\">\n",
              "  <thead>\n",
              "    <tr style=\"text-align: right;\">\n",
              "      <th></th>\n",
              "      <th>AUC</th>\n",
              "    </tr>\n",
              "  </thead>\n",
              "  <tbody>\n",
              "    <tr>\n",
              "      <th>count</th>\n",
              "      <td>380.000000</td>\n",
              "    </tr>\n",
              "    <tr>\n",
              "      <th>mean</th>\n",
              "      <td>0.739335</td>\n",
              "    </tr>\n",
              "    <tr>\n",
              "      <th>std</th>\n",
              "      <td>0.142878</td>\n",
              "    </tr>\n",
              "    <tr>\n",
              "      <th>min</th>\n",
              "      <td>0.500654</td>\n",
              "    </tr>\n",
              "    <tr>\n",
              "      <th>25%</th>\n",
              "      <td>0.610209</td>\n",
              "    </tr>\n",
              "    <tr>\n",
              "      <th>50%</th>\n",
              "      <td>0.724723</td>\n",
              "    </tr>\n",
              "    <tr>\n",
              "      <th>75%</th>\n",
              "      <td>0.850000</td>\n",
              "    </tr>\n",
              "    <tr>\n",
              "      <th>max</th>\n",
              "      <td>1.000000</td>\n",
              "    </tr>\n",
              "  </tbody>\n",
              "</table>\n",
              "</div>"
            ],
            "text/plain": [
              "              AUC\n",
              "count  380.000000\n",
              "mean     0.739335\n",
              "std      0.142878\n",
              "min      0.500654\n",
              "25%      0.610209\n",
              "50%      0.724723\n",
              "75%      0.850000\n",
              "max      1.000000"
            ]
          },
          "metadata": {},
          "execution_count": 173
        }
      ]
    },
    {
      "cell_type": "code",
      "metadata": {
        "colab": {
          "base_uri": "https://localhost:8080/",
          "height": 297
        },
        "id": "91ibjHiCguvr",
        "outputId": "f969c81d-3449-446d-aa53-82198d061f84"
      },
      "source": [
        "minmax_df.describe()"
      ],
      "execution_count": 174,
      "outputs": [
        {
          "output_type": "execute_result",
          "data": {
            "text/html": [
              "<div>\n",
              "<style scoped>\n",
              "    .dataframe tbody tr th:only-of-type {\n",
              "        vertical-align: middle;\n",
              "    }\n",
              "\n",
              "    .dataframe tbody tr th {\n",
              "        vertical-align: top;\n",
              "    }\n",
              "\n",
              "    .dataframe thead th {\n",
              "        text-align: right;\n",
              "    }\n",
              "</style>\n",
              "<table border=\"1\" class=\"dataframe\">\n",
              "  <thead>\n",
              "    <tr style=\"text-align: right;\">\n",
              "      <th></th>\n",
              "      <th>AUC</th>\n",
              "    </tr>\n",
              "  </thead>\n",
              "  <tbody>\n",
              "    <tr>\n",
              "      <th>count</th>\n",
              "      <td>380.000000</td>\n",
              "    </tr>\n",
              "    <tr>\n",
              "      <th>mean</th>\n",
              "      <td>0.740176</td>\n",
              "    </tr>\n",
              "    <tr>\n",
              "      <th>std</th>\n",
              "      <td>0.143677</td>\n",
              "    </tr>\n",
              "    <tr>\n",
              "      <th>min</th>\n",
              "      <td>0.500654</td>\n",
              "    </tr>\n",
              "    <tr>\n",
              "      <th>25%</th>\n",
              "      <td>0.615951</td>\n",
              "    </tr>\n",
              "    <tr>\n",
              "      <th>50%</th>\n",
              "      <td>0.728017</td>\n",
              "    </tr>\n",
              "    <tr>\n",
              "      <th>75%</th>\n",
              "      <td>0.845762</td>\n",
              "    </tr>\n",
              "    <tr>\n",
              "      <th>max</th>\n",
              "      <td>1.000000</td>\n",
              "    </tr>\n",
              "  </tbody>\n",
              "</table>\n",
              "</div>"
            ],
            "text/plain": [
              "              AUC\n",
              "count  380.000000\n",
              "mean     0.740176\n",
              "std      0.143677\n",
              "min      0.500654\n",
              "25%      0.615951\n",
              "50%      0.728017\n",
              "75%      0.845762\n",
              "max      1.000000"
            ]
          },
          "metadata": {},
          "execution_count": 174
        }
      ]
    },
    {
      "cell_type": "code",
      "metadata": {
        "colab": {
          "base_uri": "https://localhost:8080/",
          "height": 297
        },
        "id": "3Rv4fsPQgwfp",
        "outputId": "fcc0a253-1437-4d48-c65f-3d97ebc67579"
      },
      "source": [
        "std_df.describe()"
      ],
      "execution_count": 175,
      "outputs": [
        {
          "output_type": "execute_result",
          "data": {
            "text/html": [
              "<div>\n",
              "<style scoped>\n",
              "    .dataframe tbody tr th:only-of-type {\n",
              "        vertical-align: middle;\n",
              "    }\n",
              "\n",
              "    .dataframe tbody tr th {\n",
              "        vertical-align: top;\n",
              "    }\n",
              "\n",
              "    .dataframe thead th {\n",
              "        text-align: right;\n",
              "    }\n",
              "</style>\n",
              "<table border=\"1\" class=\"dataframe\">\n",
              "  <thead>\n",
              "    <tr style=\"text-align: right;\">\n",
              "      <th></th>\n",
              "      <th>AUC</th>\n",
              "    </tr>\n",
              "  </thead>\n",
              "  <tbody>\n",
              "    <tr>\n",
              "      <th>count</th>\n",
              "      <td>380.000000</td>\n",
              "    </tr>\n",
              "    <tr>\n",
              "      <th>mean</th>\n",
              "      <td>0.743174</td>\n",
              "    </tr>\n",
              "    <tr>\n",
              "      <th>std</th>\n",
              "      <td>0.145341</td>\n",
              "    </tr>\n",
              "    <tr>\n",
              "      <th>min</th>\n",
              "      <td>0.500654</td>\n",
              "    </tr>\n",
              "    <tr>\n",
              "      <th>25%</th>\n",
              "      <td>0.624758</td>\n",
              "    </tr>\n",
              "    <tr>\n",
              "      <th>50%</th>\n",
              "      <td>0.726288</td>\n",
              "    </tr>\n",
              "    <tr>\n",
              "      <th>75%</th>\n",
              "      <td>0.854499</td>\n",
              "    </tr>\n",
              "    <tr>\n",
              "      <th>max</th>\n",
              "      <td>1.000000</td>\n",
              "    </tr>\n",
              "  </tbody>\n",
              "</table>\n",
              "</div>"
            ],
            "text/plain": [
              "              AUC\n",
              "count  380.000000\n",
              "mean     0.743174\n",
              "std      0.145341\n",
              "min      0.500654\n",
              "25%      0.624758\n",
              "50%      0.726288\n",
              "75%      0.854499\n",
              "max      1.000000"
            ]
          },
          "metadata": {},
          "execution_count": 175
        }
      ]
    },
    {
      "cell_type": "markdown",
      "metadata": {
        "id": "exVSBXIQqdjR"
      },
      "source": [
        "### Normalization: None"
      ]
    },
    {
      "cell_type": "markdown",
      "metadata": {
        "id": "z870ApcffCi9"
      },
      "source": [
        "#### Friedman's test"
      ]
    },
    {
      "cell_type": "code",
      "metadata": {
        "id": "U21YLcFMcQRu"
      },
      "source": [
        "import scipy.stats as st"
      ],
      "execution_count": null,
      "outputs": []
    },
    {
      "cell_type": "code",
      "metadata": {
        "id": "if25h1Nusi3S"
      },
      "source": [
        "# Credits: https://github.com/citiususc/stac/blob/master/stac/nonparametric_tests.py\n",
        "# Implementation: https://github.com/citiususc/stac/blob/master/stac/unit_tests.py\n",
        "\n",
        "def friedman_test(*args):\n",
        "    \"\"\"\n",
        "        Performs a Friedman ranking test.\n",
        "        Tests the hypothesis that in a set of k dependent samples groups (where k >= 2) at least two of the groups represent populations with different median values.\n",
        "        \n",
        "        Parameters\n",
        "        ----------\n",
        "        sample1, sample2, ... : array_like\n",
        "            The sample measurements for each group.\n",
        "            \n",
        "        Returns\n",
        "        -------\n",
        "        F-value : float\n",
        "            The computed F-value of the test.\n",
        "        p-value : float\n",
        "            The associated p-value from the F-distribution.\n",
        "        rankings : array_like\n",
        "            The ranking for each group.\n",
        "        pivots : array_like\n",
        "            The pivotal quantities for each group.\n",
        "            \n",
        "        References\n",
        "        ----------\n",
        "        M. Friedman, The use of ranks to avoid the assumption of normality implicit in the analysis of variance, Journal of the American Statistical Association 32 (1937) 674–701.\n",
        "        D.J. Sheskin, Handbook of parametric and nonparametric statistical procedures. crc Press, 2003, Test 25: The Friedman Two-Way Analysis of Variance by Ranks\n",
        "    \"\"\"\n",
        "    k = len(args)\n",
        "    if k < 2: raise ValueError('Less than 2 levels')\n",
        "    n = len(args[0])\n",
        "    if len(set([len(v) for v in args])) != 1: raise ValueError('Unequal number of samples')\n",
        "\n",
        "    rankings = []\n",
        "    for i in range(n):\n",
        "        row = [col[i] for col in args]\n",
        "        row_sort = sorted(row)\n",
        "        rankings.append([row_sort.index(v) + 1 + (row_sort.count(v)-1)/2. for v in row])\n",
        "\n",
        "    rankings_avg = [np.mean([case[j] for case in rankings]) for j in range(k)]\n",
        "    rankings_cmp = [r/np.sqrt(k*(k+1)/(6.*n)) for r in rankings_avg]\n",
        "\n",
        "    chi2 = ((12*n)/float((k*(k+1))))*((np.sum(r**2 for r in rankings_avg))-((k*(k+1)**2)/float(4)))\n",
        "    iman_davenport = ((n-1)*chi2)/float((n*(k-1)-chi2))\n",
        "\n",
        "    p_value = 1 - st.f.cdf(iman_davenport, k-1, (k-1)*(n-1))\n",
        "\n",
        "    return rankings_avg"
      ],
      "execution_count": null,
      "outputs": []
    },
    {
      "cell_type": "code",
      "metadata": {
        "id": "MSx44oSFlkuE"
      },
      "source": [
        "classifiers = np.unique(models_df.Classifier)\n",
        "normalization = np.unique(models_df.Normalization)"
      ],
      "execution_count": null,
      "outputs": []
    },
    {
      "cell_type": "code",
      "metadata": {
        "colab": {
          "base_uri": "https://localhost:8080/",
          "height": 439
        },
        "id": "5fskdLKRlwAM",
        "outputId": "b78ce876-fa11-4c21-e6ea-ed7c02834b1e"
      },
      "source": [
        "dic = {}\n",
        "\n",
        "for i in classifiers:\n",
        "  for j in normalization:\n",
        "    dic[f'AUC_{i}_{j}'] = models_df[(models_df.Classifier == i) & (models_df.Normalization == j)].AUC.values\n",
        "\n",
        "final_df = pd.DataFrame(dic)\n",
        "final_df"
      ],
      "execution_count": null,
      "outputs": [
        {
          "output_type": "execute_result",
          "data": {
            "text/html": [
              "<div>\n",
              "<style scoped>\n",
              "    .dataframe tbody tr th:only-of-type {\n",
              "        vertical-align: middle;\n",
              "    }\n",
              "\n",
              "    .dataframe tbody tr th {\n",
              "        vertical-align: top;\n",
              "    }\n",
              "\n",
              "    .dataframe thead th {\n",
              "        text-align: right;\n",
              "    }\n",
              "</style>\n",
              "<table border=\"1\" class=\"dataframe\">\n",
              "  <thead>\n",
              "    <tr style=\"text-align: right;\">\n",
              "      <th></th>\n",
              "      <th>AUC_BRM_MinMax</th>\n",
              "      <th>AUC_BRM_None</th>\n",
              "      <th>AUC_BRM_Std</th>\n",
              "      <th>AUC_GaussianMixture_MinMax</th>\n",
              "      <th>AUC_GaussianMixture_None</th>\n",
              "      <th>AUC_GaussianMixture_Std</th>\n",
              "      <th>AUC_IsolationForest_MinMax</th>\n",
              "      <th>AUC_IsolationForest_None</th>\n",
              "      <th>AUC_IsolationForest_Std</th>\n",
              "      <th>AUC_OneClassSVM_MinMax</th>\n",
              "      <th>AUC_OneClassSVM_None</th>\n",
              "      <th>AUC_OneClassSVM_Std</th>\n",
              "    </tr>\n",
              "  </thead>\n",
              "  <tbody>\n",
              "    <tr>\n",
              "      <th>0</th>\n",
              "      <td>0.629032</td>\n",
              "      <td>0.626344</td>\n",
              "      <td>0.633065</td>\n",
              "      <td>0.647849</td>\n",
              "      <td>0.647849</td>\n",
              "      <td>0.647849</td>\n",
              "      <td>0.596774</td>\n",
              "      <td>0.642473</td>\n",
              "      <td>0.631720</td>\n",
              "      <td>0.577957</td>\n",
              "      <td>0.577957</td>\n",
              "      <td>0.626344</td>\n",
              "    </tr>\n",
              "    <tr>\n",
              "      <th>1</th>\n",
              "      <td>0.600000</td>\n",
              "      <td>0.600000</td>\n",
              "      <td>0.600000</td>\n",
              "      <td>0.600000</td>\n",
              "      <td>0.600000</td>\n",
              "      <td>0.600000</td>\n",
              "      <td>0.575000</td>\n",
              "      <td>0.600000</td>\n",
              "      <td>0.625000</td>\n",
              "      <td>0.950000</td>\n",
              "      <td>0.950000</td>\n",
              "      <td>0.900000</td>\n",
              "    </tr>\n",
              "    <tr>\n",
              "      <th>2</th>\n",
              "      <td>0.686109</td>\n",
              "      <td>0.689447</td>\n",
              "      <td>0.692467</td>\n",
              "      <td>0.734584</td>\n",
              "      <td>0.734584</td>\n",
              "      <td>0.734584</td>\n",
              "      <td>0.732200</td>\n",
              "      <td>0.724094</td>\n",
              "      <td>0.734743</td>\n",
              "      <td>0.764781</td>\n",
              "      <td>0.758106</td>\n",
              "      <td>0.727908</td>\n",
              "    </tr>\n",
              "    <tr>\n",
              "      <th>3</th>\n",
              "      <td>0.529593</td>\n",
              "      <td>0.528629</td>\n",
              "      <td>0.528574</td>\n",
              "      <td>0.552904</td>\n",
              "      <td>0.552904</td>\n",
              "      <td>0.552904</td>\n",
              "      <td>0.551086</td>\n",
              "      <td>0.564615</td>\n",
              "      <td>0.528105</td>\n",
              "      <td>0.555274</td>\n",
              "      <td>0.560895</td>\n",
              "      <td>0.555770</td>\n",
              "    </tr>\n",
              "    <tr>\n",
              "      <th>4</th>\n",
              "      <td>0.533173</td>\n",
              "      <td>0.528983</td>\n",
              "      <td>0.533460</td>\n",
              "      <td>0.587810</td>\n",
              "      <td>0.587810</td>\n",
              "      <td>0.587810</td>\n",
              "      <td>0.536616</td>\n",
              "      <td>0.525482</td>\n",
              "      <td>0.550792</td>\n",
              "      <td>0.515381</td>\n",
              "      <td>0.509757</td>\n",
              "      <td>0.521350</td>\n",
              "    </tr>\n",
              "    <tr>\n",
              "      <th>...</th>\n",
              "      <td>...</td>\n",
              "      <td>...</td>\n",
              "      <td>...</td>\n",
              "      <td>...</td>\n",
              "      <td>...</td>\n",
              "      <td>...</td>\n",
              "      <td>...</td>\n",
              "      <td>...</td>\n",
              "      <td>...</td>\n",
              "      <td>...</td>\n",
              "      <td>...</td>\n",
              "      <td>...</td>\n",
              "    </tr>\n",
              "    <tr>\n",
              "      <th>90</th>\n",
              "      <td>0.991228</td>\n",
              "      <td>0.992690</td>\n",
              "      <td>0.991228</td>\n",
              "      <td>0.985380</td>\n",
              "      <td>0.985380</td>\n",
              "      <td>0.985380</td>\n",
              "      <td>0.941520</td>\n",
              "      <td>0.940058</td>\n",
              "      <td>0.945906</td>\n",
              "      <td>0.891813</td>\n",
              "      <td>0.856725</td>\n",
              "      <td>0.956140</td>\n",
              "    </tr>\n",
              "    <tr>\n",
              "      <th>91</th>\n",
              "      <td>0.584232</td>\n",
              "      <td>0.580189</td>\n",
              "      <td>0.580189</td>\n",
              "      <td>0.615903</td>\n",
              "      <td>0.616352</td>\n",
              "      <td>0.615903</td>\n",
              "      <td>0.634322</td>\n",
              "      <td>0.637017</td>\n",
              "      <td>0.630054</td>\n",
              "      <td>0.650943</td>\n",
              "      <td>0.639712</td>\n",
              "      <td>0.561096</td>\n",
              "    </tr>\n",
              "    <tr>\n",
              "      <th>92</th>\n",
              "      <td>0.841490</td>\n",
              "      <td>0.844577</td>\n",
              "      <td>0.845899</td>\n",
              "      <td>0.854056</td>\n",
              "      <td>0.854056</td>\n",
              "      <td>0.854056</td>\n",
              "      <td>0.672619</td>\n",
              "      <td>0.650132</td>\n",
              "      <td>0.611552</td>\n",
              "      <td>0.518078</td>\n",
              "      <td>0.503527</td>\n",
              "      <td>0.758818</td>\n",
              "    </tr>\n",
              "    <tr>\n",
              "      <th>93</th>\n",
              "      <td>0.697279</td>\n",
              "      <td>0.673469</td>\n",
              "      <td>0.680272</td>\n",
              "      <td>0.982993</td>\n",
              "      <td>0.982993</td>\n",
              "      <td>0.982993</td>\n",
              "      <td>0.993197</td>\n",
              "      <td>0.994898</td>\n",
              "      <td>0.996599</td>\n",
              "      <td>1.000000</td>\n",
              "      <td>0.976190</td>\n",
              "      <td>1.000000</td>\n",
              "    </tr>\n",
              "    <tr>\n",
              "      <th>94</th>\n",
              "      <td>0.826663</td>\n",
              "      <td>0.830135</td>\n",
              "      <td>0.831414</td>\n",
              "      <td>0.805556</td>\n",
              "      <td>0.805373</td>\n",
              "      <td>0.806287</td>\n",
              "      <td>0.723136</td>\n",
              "      <td>0.679642</td>\n",
              "      <td>0.695998</td>\n",
              "      <td>0.504751</td>\n",
              "      <td>0.540205</td>\n",
              "      <td>0.704130</td>\n",
              "    </tr>\n",
              "  </tbody>\n",
              "</table>\n",
              "<p>95 rows × 12 columns</p>\n",
              "</div>"
            ],
            "text/plain": [
              "    AUC_BRM_MinMax  AUC_BRM_None  ...  AUC_OneClassSVM_None  AUC_OneClassSVM_Std\n",
              "0         0.629032      0.626344  ...              0.577957             0.626344\n",
              "1         0.600000      0.600000  ...              0.950000             0.900000\n",
              "2         0.686109      0.689447  ...              0.758106             0.727908\n",
              "3         0.529593      0.528629  ...              0.560895             0.555770\n",
              "4         0.533173      0.528983  ...              0.509757             0.521350\n",
              "..             ...           ...  ...                   ...                  ...\n",
              "90        0.991228      0.992690  ...              0.856725             0.956140\n",
              "91        0.584232      0.580189  ...              0.639712             0.561096\n",
              "92        0.841490      0.844577  ...              0.503527             0.758818\n",
              "93        0.697279      0.673469  ...              0.976190             1.000000\n",
              "94        0.826663      0.830135  ...              0.540205             0.704130\n",
              "\n",
              "[95 rows x 12 columns]"
            ]
          },
          "metadata": {},
          "execution_count": 17
        }
      ]
    },
    {
      "cell_type": "code",
      "metadata": {
        "colab": {
          "base_uri": "https://localhost:8080/"
        },
        "id": "kSdVmxQUdg9v",
        "outputId": "95cc0d6b-4b63-4989-9bf1-d79c9aa09cf7"
      },
      "source": [
        "alpha = 0.05 # significance level\n",
        "\n",
        "result = st.friedmanchisquare(final_df.AUC_OneClassSVM_None, final_df.AUC_IsolationForest_None, final_df.AUC_GaussianMixture_None, final_df.AUC_BRM_None)\n",
        "result"
      ],
      "execution_count": null,
      "outputs": [
        {
          "output_type": "execute_result",
          "data": {
            "text/plain": [
              "FriedmanchisquareResult(statistic=3.599999999999921, pvalue=0.30802217155900236)"
            ]
          },
          "metadata": {},
          "execution_count": 19
        }
      ]
    },
    {
      "cell_type": "code",
      "metadata": {
        "colab": {
          "base_uri": "https://localhost:8080/"
        },
        "id": "yJlVlNFDdzAs",
        "outputId": "b618c60a-9de1-4d34-a41a-f85b4d0acaec"
      },
      "source": [
        "if result.pvalue < alpha:\n",
        "  print(\"We can reject the null hypothesis: so the results obtained by all the tested classifiers, in all the databases, are not similar statistically. Therefore, we can proceed with a post-hoc test.\")\n",
        "else:\n",
        "  print(\"We can accept the null hypothesis: so the results obtained by all the tested classifiers, in all the databases, are similar statistically.\")"
      ],
      "execution_count": null,
      "outputs": [
        {
          "output_type": "stream",
          "name": "stdout",
          "text": [
            "We can accept the null hypothesis: so the results obtained by all the tested classifiers, in all the databases, are similar statistically.\n"
          ]
        }
      ]
    },
    {
      "cell_type": "code",
      "metadata": {
        "id": "QMIVs85ZuUwX"
      },
      "source": [
        "auc_data_none = {\n",
        "    'AUC_OneClass_SVM_None': final_df.AUC_OneClassSVM_None,\n",
        "    'AUC_Isolation_Forest_None': final_df.AUC_IsolationForest_None,\n",
        "    'AUC_Gaussian_Mixture_None': final_df.AUC_GaussianMixture_None,\n",
        "    'AUC_BRM_None': final_df.AUC_BRM_None,\n",
        "}"
      ],
      "execution_count": null,
      "outputs": []
    },
    {
      "cell_type": "code",
      "metadata": {
        "colab": {
          "base_uri": "https://localhost:8080/"
        },
        "id": "IOGyY0tqtO_A",
        "outputId": "f07f17e5-5874-4e70-ca00-8b2953362a41"
      },
      "source": [
        "rankings_avg = friedman_test(*auc_data_none.values())\n",
        "rankings_avg"
      ],
      "execution_count": null,
      "outputs": [
        {
          "output_type": "stream",
          "name": "stderr",
          "text": [
            "/usr/local/lib/python3.7/dist-packages/ipykernel_launcher.py:44: DeprecationWarning: Calling np.sum(generator) is deprecated, and in the future will give a different result. Use np.sum(np.fromiter(generator)) or the python sum builtin instead.\n"
          ]
        },
        {
          "output_type": "execute_result",
          "data": {
            "text/plain": [
              "[2.3473684210526318, 2.642105263157895, 2.6, 2.4105263157894736]"
            ]
          },
          "metadata": {},
          "execution_count": 22
        }
      ]
    },
    {
      "cell_type": "markdown",
      "metadata": {
        "id": "fz6jjh2gfGhn"
      },
      "source": [
        "#### Post-hoc test"
      ]
    },
    {
      "cell_type": "code",
      "metadata": {
        "id": "MKgus7kmziRp",
        "colab": {
          "base_uri": "https://localhost:8080/"
        },
        "outputId": "7c25b2a1-eb64-4ac1-f63f-a8189e9bd1c3"
      },
      "source": [
        "!pip install scikit-posthocs"
      ],
      "execution_count": null,
      "outputs": [
        {
          "output_type": "stream",
          "name": "stdout",
          "text": [
            "Collecting scikit-posthocs\n",
            "  Downloading scikit-posthocs-0.6.7.tar.gz (43 kB)\n",
            "\u001b[?25l\r\u001b[K     |███████▋                        | 10 kB 25.1 MB/s eta 0:00:01\r\u001b[K     |███████████████▏                | 20 kB 28.8 MB/s eta 0:00:01\r\u001b[K     |██████████████████████▊         | 30 kB 32.4 MB/s eta 0:00:01\r\u001b[K     |██████████████████████████████▎ | 40 kB 34.8 MB/s eta 0:00:01\r\u001b[K     |████████████████████████████████| 43 kB 1.8 MB/s \n",
            "\u001b[?25h  Installing build dependencies ... \u001b[?25l\u001b[?25hdone\n",
            "  Getting requirements to build wheel ... \u001b[?25l\u001b[?25hdone\n",
            "    Preparing wheel metadata ... \u001b[?25l\u001b[?25hdone\n",
            "Requirement already satisfied: numpy in /usr/local/lib/python3.7/dist-packages (from scikit-posthocs) (1.19.5)\n",
            "Requirement already satisfied: seaborn in /usr/local/lib/python3.7/dist-packages (from scikit-posthocs) (0.11.2)\n",
            "Requirement already satisfied: statsmodels in /usr/local/lib/python3.7/dist-packages (from scikit-posthocs) (0.10.2)\n",
            "Requirement already satisfied: matplotlib in /usr/local/lib/python3.7/dist-packages (from scikit-posthocs) (3.2.2)\n",
            "Requirement already satisfied: scipy in /usr/local/lib/python3.7/dist-packages (from scikit-posthocs) (1.4.1)\n",
            "Requirement already satisfied: pandas>=0.20.0 in /usr/local/lib/python3.7/dist-packages (from scikit-posthocs) (1.1.5)\n",
            "Requirement already satisfied: python-dateutil>=2.7.3 in /usr/local/lib/python3.7/dist-packages (from pandas>=0.20.0->scikit-posthocs) (2.8.2)\n",
            "Requirement already satisfied: pytz>=2017.2 in /usr/local/lib/python3.7/dist-packages (from pandas>=0.20.0->scikit-posthocs) (2018.9)\n",
            "Requirement already satisfied: six>=1.5 in /usr/local/lib/python3.7/dist-packages (from python-dateutil>=2.7.3->pandas>=0.20.0->scikit-posthocs) (1.15.0)\n",
            "Requirement already satisfied: pyparsing!=2.0.4,!=2.1.2,!=2.1.6,>=2.0.1 in /usr/local/lib/python3.7/dist-packages (from matplotlib->scikit-posthocs) (2.4.7)\n",
            "Requirement already satisfied: kiwisolver>=1.0.1 in /usr/local/lib/python3.7/dist-packages (from matplotlib->scikit-posthocs) (1.3.2)\n",
            "Requirement already satisfied: cycler>=0.10 in /usr/local/lib/python3.7/dist-packages (from matplotlib->scikit-posthocs) (0.10.0)\n",
            "Requirement already satisfied: patsy>=0.4.0 in /usr/local/lib/python3.7/dist-packages (from statsmodels->scikit-posthocs) (0.5.2)\n",
            "Building wheels for collected packages: scikit-posthocs\n",
            "  Building wheel for scikit-posthocs (PEP 517) ... \u001b[?25l\u001b[?25hdone\n",
            "  Created wheel for scikit-posthocs: filename=scikit_posthocs-0.6.7-py3-none-any.whl size=37902 sha256=76d8966b78f54d3806157e55e99794319c3ce69146d18b705a7e329317069466\n",
            "  Stored in directory: /root/.cache/pip/wheels/b8/21/e6/f39794d4a6ee3d3cc5146ca80b5cd949452ad4a8fde9f6b9fc\n",
            "Successfully built scikit-posthocs\n",
            "Installing collected packages: scikit-posthocs\n",
            "Successfully installed scikit-posthocs-0.6.7\n"
          ]
        }
      ]
    },
    {
      "cell_type": "code",
      "metadata": {
        "id": "rqkVB_Grz88r",
        "colab": {
          "base_uri": "https://localhost:8080/"
        },
        "outputId": "a1024bc9-4fec-443d-ec7a-16007f0370a8"
      },
      "source": [
        "import scikit_posthocs as sp"
      ],
      "execution_count": null,
      "outputs": [
        {
          "output_type": "stream",
          "name": "stderr",
          "text": [
            "/usr/local/lib/python3.7/dist-packages/statsmodels/tools/_testing.py:19: FutureWarning: pandas.util.testing is deprecated. Use the functions in the public API at pandas.testing instead.\n",
            "  import pandas.util.testing as tm\n"
          ]
        }
      ]
    },
    {
      "cell_type": "code",
      "metadata": {
        "id": "LtK_izb_xVL2"
      },
      "source": [
        "data = np.array([final_df.AUC_OneClassSVM_None, final_df.AUC_IsolationForest_None, final_df.AUC_GaussianMixture_None, final_df.AUC_BRM_None])"
      ],
      "execution_count": null,
      "outputs": []
    },
    {
      "cell_type": "code",
      "metadata": {
        "colab": {
          "base_uri": "https://localhost:8080/",
          "height": 173
        },
        "id": "iDGQRDOXzxlC",
        "outputId": "8e396a91-7056-4d06-c551-c2711e3902e4"
      },
      "source": [
        "p_values = sp.posthoc_nemenyi_friedman(data.T)\n",
        "p_values"
      ],
      "execution_count": null,
      "outputs": [
        {
          "output_type": "execute_result",
          "data": {
            "text/html": [
              "<div>\n",
              "<style scoped>\n",
              "    .dataframe tbody tr th:only-of-type {\n",
              "        vertical-align: middle;\n",
              "    }\n",
              "\n",
              "    .dataframe tbody tr th {\n",
              "        vertical-align: top;\n",
              "    }\n",
              "\n",
              "    .dataframe thead th {\n",
              "        text-align: right;\n",
              "    }\n",
              "</style>\n",
              "<table border=\"1\" class=\"dataframe\">\n",
              "  <thead>\n",
              "    <tr style=\"text-align: right;\">\n",
              "      <th></th>\n",
              "      <th>0</th>\n",
              "      <th>1</th>\n",
              "      <th>2</th>\n",
              "      <th>3</th>\n",
              "    </tr>\n",
              "  </thead>\n",
              "  <tbody>\n",
              "    <tr>\n",
              "      <th>0</th>\n",
              "      <td>1.000000</td>\n",
              "      <td>0.395067</td>\n",
              "      <td>0.528131</td>\n",
              "      <td>0.900000</td>\n",
              "    </tr>\n",
              "    <tr>\n",
              "      <th>1</th>\n",
              "      <td>0.395067</td>\n",
              "      <td>1.000000</td>\n",
              "      <td>0.900000</td>\n",
              "      <td>0.591216</td>\n",
              "    </tr>\n",
              "    <tr>\n",
              "      <th>2</th>\n",
              "      <td>0.528131</td>\n",
              "      <td>0.900000</td>\n",
              "      <td>1.000000</td>\n",
              "      <td>0.717386</td>\n",
              "    </tr>\n",
              "    <tr>\n",
              "      <th>3</th>\n",
              "      <td>0.900000</td>\n",
              "      <td>0.591216</td>\n",
              "      <td>0.717386</td>\n",
              "      <td>1.000000</td>\n",
              "    </tr>\n",
              "  </tbody>\n",
              "</table>\n",
              "</div>"
            ],
            "text/plain": [
              "          0         1         2         3\n",
              "0  1.000000  0.395067  0.528131  0.900000\n",
              "1  0.395067  1.000000  0.900000  0.591216\n",
              "2  0.528131  0.900000  1.000000  0.717386\n",
              "3  0.900000  0.591216  0.717386  1.000000"
            ]
          },
          "metadata": {},
          "execution_count": 26
        }
      ]
    },
    {
      "cell_type": "code",
      "metadata": {
        "id": "SOdzC6g96OSJ"
      },
      "source": [
        "import scipy as scp\n",
        "import itertools as it"
      ],
      "execution_count": null,
      "outputs": []
    },
    {
      "cell_type": "code",
      "metadata": {
        "id": "tOWryGuv1Hxo"
      },
      "source": [
        "def _S(k):\n",
        "    \"\"\"\n",
        "        Helper function for the Shaffer test.\n",
        "        It obtains the number of independent test hypotheses when using an All vs All strategy using the number of groups to be compared.\n",
        "    \"\"\"\n",
        "    if k == 0 or k == 1:\n",
        "        return {0}\n",
        "    else:\n",
        "        result = set()\n",
        "        for j in reversed(range(1, k+1)):\n",
        "            tmp = _S(k - j)\n",
        "            for s in tmp:\n",
        "                result = result.union({scp.special.binom(j, 2) + s})\n",
        "        return list(result)\n",
        "\n",
        "\n",
        "def shaffer_multitest(ranks):\n",
        "    \"\"\"\n",
        "        Performs a Shaffer post-hoc test using the pivot quantities obtained by a ranking test.\n",
        "        Tests the hypothesis that the ranking of each pair of groups are different.\n",
        "        \n",
        "        Parameters\n",
        "        ----------\n",
        "        pivots : dictionary_like\n",
        "            A dictionary with format 'groupname':'pivotal quantity' \n",
        "            \n",
        "        Returns\n",
        "        ----------\n",
        "        Comparions : array-like\n",
        "            Strings identifier of each comparison with format 'group_i vs group_j'\n",
        "        Z-values : array-like\n",
        "            The computed Z-value statistic for each comparison.\n",
        "        p-values : array-like\n",
        "            The associated p-value from the Z-distribution wich depends on the index of the comparison\n",
        "        Adjusted p-values : array-like\n",
        "            The associated adjusted p-values wich can be compared with a significance level\n",
        "            \n",
        "        References\n",
        "        ----------\n",
        "        J. Li, A two-step rejection procedure for testing multiple hypotheses, Journal of Statistical Planning and Inference 138 (2008) 1521–1527.\n",
        "    \"\"\"\n",
        "    k = len(ranks)\n",
        "    values = list(ranks.values())\n",
        "    keys = list(ranks.keys())\n",
        "    versus = list(it.combinations(range(k), 2))\n",
        "    \n",
        "    m = int(k*(k-1)/2.)\n",
        "    A = _S(int((1 + np.sqrt(1+4*m*2))/2))\n",
        "    t = [max([a for a in A if a <= m-i]) for i in range(m)]\n",
        "\n",
        "    comparisons = [keys[vs[0]] + \" vs \" + keys[vs[1]] for vs in versus]\n",
        "    z_values = [abs(values[vs[0]] - values[vs[1]]) for vs in versus]\n",
        "    p_values = [2*(1-st.norm.cdf(abs(z))) for z in z_values]\n",
        "    # Sort values by p_value so that p_0 < p_1\n",
        "    p_values, z_values, comparisons = map(list, zip(*sorted(zip(p_values, z_values, comparisons), key=lambda t: t[0])))\n",
        "    adj_p_values = [min(max(t[j]*p_values[j] for j in range(i+1)), 1) for i in range(m)]\n",
        "    \n",
        "    return comparisons, z_values, p_values, adj_p_values"
      ],
      "execution_count": null,
      "outputs": []
    },
    {
      "cell_type": "code",
      "metadata": {
        "colab": {
          "base_uri": "https://localhost:8080/"
        },
        "id": "uurXTmPf6dkj",
        "outputId": "51314836-724e-4e44-fdde-9d917d17b5bb"
      },
      "source": [
        "ranks = {key: rankings_avg[i] for i, key in enumerate(auc_data_none.keys())}\n",
        "ranks"
      ],
      "execution_count": null,
      "outputs": [
        {
          "output_type": "execute_result",
          "data": {
            "text/plain": [
              "{'AUC_BRM_None': 2.4105263157894736,\n",
              " 'AUC_Gaussian_Mixture_None': 2.6,\n",
              " 'AUC_Isolation_Forest_None': 2.642105263157895,\n",
              " 'AUC_OneClass_SVM_None': 2.3473684210526318}"
            ]
          },
          "metadata": {},
          "execution_count": 29
        }
      ]
    },
    {
      "cell_type": "code",
      "metadata": {
        "colab": {
          "base_uri": "https://localhost:8080/"
        },
        "id": "LpCT-jfV39NT",
        "outputId": "b9f2bb85-52de-4c65-c05c-e1a87e8daa59"
      },
      "source": [
        "comparisons, z_values, p_values, adj_p_values = shaffer_multitest(ranks)\n",
        "comparisons, z_values, p_values, adj_p_values"
      ],
      "execution_count": null,
      "outputs": [
        {
          "output_type": "execute_result",
          "data": {
            "text/plain": [
              "(['AUC_OneClass_SVM_None vs AUC_Isolation_Forest_None',\n",
              "  'AUC_OneClass_SVM_None vs AUC_Gaussian_Mixture_None',\n",
              "  'AUC_Isolation_Forest_None vs AUC_BRM_None',\n",
              "  'AUC_Gaussian_Mixture_None vs AUC_BRM_None',\n",
              "  'AUC_OneClass_SVM_None vs AUC_BRM_None',\n",
              "  'AUC_Isolation_Forest_None vs AUC_Gaussian_Mixture_None'],\n",
              " [0.2947368421052632,\n",
              "  0.2526315789473683,\n",
              "  0.23157894736842133,\n",
              "  0.18947368421052646,\n",
              "  0.06315789473684186,\n",
              "  0.04210526315789487],\n",
              " [0.7681949167459463,\n",
              "  0.800552924922785,\n",
              "  0.8168650606090959,\n",
              "  0.8497215784715073,\n",
              "  0.9496407729386862,\n",
              "  0.9664147845002375],\n",
              " [1, 1, 1, 1, 1, 1])"
            ]
          },
          "metadata": {},
          "execution_count": 30
        }
      ]
    },
    {
      "cell_type": "code",
      "metadata": {
        "id": "_H_207wB7FWM"
      },
      "source": [
        "def nemenyi_multitest(ranks):\n",
        "    \"\"\"\n",
        "        Performs a Nemenyi post-hoc test using the pivot quantities obtained by a ranking test.\n",
        "        Tests the hypothesis that the ranking of each pair of groups are different.\n",
        "\n",
        "        Parameters\n",
        "        ----------\n",
        "        pivots : dictionary_like\n",
        "            A dictionary with format 'groupname':'pivotal quantity' \n",
        "\n",
        "        Returns\n",
        "        ----------\n",
        "        Comparions : array-like\n",
        "            Strings identifier of each comparison with format 'group_i vs group_j'\n",
        "        Z-values : array-like\n",
        "            The computed Z-value statistic for each comparison.\n",
        "        p-values : array-like\n",
        "            The associated p-value from the Z-distribution wich depends on the index of the comparison\n",
        "        Adjusted p-values : array-like\n",
        "            The associated adjusted p-values wich can be compared with a significance level\n",
        "\n",
        "        References\n",
        "        ----------\n",
        "        Bonferroni-Dunn: O.J. Dunn, Multiple comparisons among means, Journal of the American Statistical Association 56 (1961) 52–64.\n",
        "    \"\"\"\n",
        "    k = len(ranks)\n",
        "    values = list(ranks.values())\n",
        "    keys = list(ranks.keys())\n",
        "    versus = list(it.combinations(range(k), 2))\n",
        "\n",
        "    comparisons = [keys[vs[0]] + \" vs \" + keys[vs[1]] for vs in versus]\n",
        "    z_values = [abs(values[vs[0]] - values[vs[1]]) for vs in versus]\n",
        "\n",
        "    p_values = [2 * (1-st.norm.cdf(abs(z))) for z in z_values]\n",
        "    # Sort values by p_value so that p_0 < p_1\n",
        "    m = int(k * (k-1)/2.)\n",
        "    adj_p_values = [min(m*p_value,1) for p_value in p_values]\n",
        "\n",
        "    return comparisons, z_values, p_values, adj_p_values"
      ],
      "execution_count": null,
      "outputs": []
    },
    {
      "cell_type": "code",
      "metadata": {
        "colab": {
          "base_uri": "https://localhost:8080/"
        },
        "id": "3olIJfms9U8r",
        "outputId": "dba4a87d-647f-46a2-9206-87cc264a5ff6"
      },
      "source": [
        "comparisons, z_values, p_values, adj_p_values = nemenyi_multitest(ranks)\n",
        "comparisons, z_values, p_values, adj_p_values"
      ],
      "execution_count": null,
      "outputs": [
        {
          "output_type": "execute_result",
          "data": {
            "text/plain": [
              "(['AUC_OneClass_SVM_None vs AUC_Isolation_Forest_None',\n",
              "  'AUC_OneClass_SVM_None vs AUC_Gaussian_Mixture_None',\n",
              "  'AUC_OneClass_SVM_None vs AUC_BRM_None',\n",
              "  'AUC_Isolation_Forest_None vs AUC_Gaussian_Mixture_None',\n",
              "  'AUC_Isolation_Forest_None vs AUC_BRM_None',\n",
              "  'AUC_Gaussian_Mixture_None vs AUC_BRM_None'],\n",
              " [0.2947368421052632,\n",
              "  0.2526315789473683,\n",
              "  0.06315789473684186,\n",
              "  0.04210526315789487,\n",
              "  0.23157894736842133,\n",
              "  0.18947368421052646],\n",
              " [0.7681949167459463,\n",
              "  0.800552924922785,\n",
              "  0.9496407729386862,\n",
              "  0.9664147845002375,\n",
              "  0.8168650606090959,\n",
              "  0.8497215784715073],\n",
              " [1, 1, 1, 1, 1, 1])"
            ]
          },
          "metadata": {},
          "execution_count": 32
        }
      ]
    },
    {
      "cell_type": "markdown",
      "metadata": {
        "id": "d1Ty15pUEXan"
      },
      "source": [
        "#### Critical Difference Diagram"
      ]
    },
    {
      "cell_type": "code",
      "metadata": {
        "id": "rqsDOUwhFEAj",
        "colab": {
          "base_uri": "https://localhost:8080/",
          "height": 1000
        },
        "outputId": "15b95f1e-aa0e-4902-bc46-bd7e0548a754"
      },
      "source": [
        "!pip install Orange3"
      ],
      "execution_count": null,
      "outputs": [
        {
          "output_type": "stream",
          "name": "stdout",
          "text": [
            "Collecting Orange3\n",
            "  Downloading Orange3-3.30.2-cp37-cp37m-manylinux_2_17_x86_64.manylinux2014_x86_64.whl (26.5 MB)\n",
            "\u001b[K     |████████████████████████████████| 26.5 MB 86 kB/s \n",
            "\u001b[?25hCollecting baycomp>=1.0.2\n",
            "  Downloading baycomp-1.0.2-py3-none-any.whl (17 kB)\n",
            "Requirement already satisfied: xlrd>=0.9.2 in /usr/local/lib/python3.7/dist-packages (from Orange3) (1.1.0)\n",
            "Collecting AnyQt>=0.0.11\n",
            "  Downloading AnyQt-0.0.13-py3-none-any.whl (47 kB)\n",
            "\u001b[K     |████████████████████████████████| 47 kB 5.4 MB/s \n",
            "\u001b[?25hRequirement already satisfied: networkx in /usr/local/lib/python3.7/dist-packages (from Orange3) (2.6.3)\n",
            "Requirement already satisfied: scipy>=0.16.1 in /usr/local/lib/python3.7/dist-packages (from Orange3) (1.4.1)\n",
            "Collecting serverfiles\n",
            "  Downloading serverfiles-0.3.1.tar.gz (11 kB)\n",
            "Requirement already satisfied: matplotlib>=2.0.0 in /usr/local/lib/python3.7/dist-packages (from Orange3) (3.2.2)\n",
            "Requirement already satisfied: numpy>=1.16.0 in /usr/local/lib/python3.7/dist-packages (from Orange3) (1.19.5)\n",
            "Requirement already satisfied: openpyxl in /usr/local/lib/python3.7/dist-packages (from Orange3) (2.5.9)\n",
            "Collecting keyring\n",
            "  Downloading keyring-23.2.1-py3-none-any.whl (33 kB)\n",
            "Collecting xlsxwriter\n",
            "  Downloading XlsxWriter-3.0.2-py3-none-any.whl (149 kB)\n",
            "\u001b[K     |████████████████████████████████| 149 kB 57.0 MB/s \n",
            "\u001b[?25hRequirement already satisfied: bottleneck>=1.0.0 in /usr/local/lib/python3.7/dist-packages (from Orange3) (1.3.2)\n",
            "Requirement already satisfied: chardet>=3.0.2 in /usr/local/lib/python3.7/dist-packages (from Orange3) (3.0.4)\n",
            "Collecting httpx<0.20,>=0.14.0\n",
            "  Downloading httpx-0.19.0-py3-none-any.whl (77 kB)\n",
            "\u001b[K     |████████████████████████████████| 77 kB 6.5 MB/s \n",
            "\u001b[?25hCollecting orange-canvas-core<0.2a,>=0.1.23\n",
            "  Downloading orange_canvas_core-0.1.23-py3-none-any.whl (489 kB)\n",
            "\u001b[K     |████████████████████████████████| 489 kB 61.1 MB/s \n",
            "\u001b[?25hCollecting pyqtgraph>=0.11.1\n",
            "  Downloading pyqtgraph-0.12.3-py3-none-any.whl (992 kB)\n",
            "\u001b[K     |████████████████████████████████| 992 kB 59.4 MB/s \n",
            "\u001b[?25hCollecting orange-widget-base>=4.15.1\n",
            "  Downloading orange-widget-base-4.15.1.tar.gz (852 kB)\n",
            "\u001b[K     |████████████████████████████████| 852 kB 59.5 MB/s \n",
            "\u001b[?25hRequirement already satisfied: pip>=9.0 in /usr/local/lib/python3.7/dist-packages (from Orange3) (21.1.3)\n",
            "Requirement already satisfied: joblib>=0.9.4 in /usr/local/lib/python3.7/dist-packages (from Orange3) (1.0.1)\n",
            "Collecting pygments>=2.8.0\n",
            "  Downloading Pygments-2.10.0-py3-none-any.whl (1.0 MB)\n",
            "\u001b[K     |████████████████████████████████| 1.0 MB 57.5 MB/s \n",
            "\u001b[?25hCollecting PyQt5!=5.15.1,>=5.12\n",
            "  Downloading PyQt5-5.15.6-cp36-abi3-manylinux1_x86_64.whl (8.3 MB)\n",
            "\u001b[K     |████████████████████████████████| 8.3 MB 14.9 MB/s \n",
            "\u001b[?25hRequirement already satisfied: requests in /usr/local/lib/python3.7/dist-packages (from Orange3) (2.23.0)\n",
            "Requirement already satisfied: setuptools>=36.3 in /usr/local/lib/python3.7/dist-packages (from Orange3) (57.4.0)\n",
            "Requirement already satisfied: pandas>=1.0.0 in /usr/local/lib/python3.7/dist-packages (from Orange3) (1.1.5)\n",
            "Requirement already satisfied: python-louvain>=0.13 in /usr/local/lib/python3.7/dist-packages (from Orange3) (0.15)\n",
            "Requirement already satisfied: pyyaml in /usr/local/lib/python3.7/dist-packages (from Orange3) (3.13)\n",
            "Collecting PyQtWebEngine>=5.12\n",
            "  Downloading PyQtWebEngine-5.15.5-cp36-abi3-manylinux1_x86_64.whl (228 kB)\n",
            "\u001b[K     |████████████████████████████████| 228 kB 67.8 MB/s \n",
            "\u001b[?25hCollecting openTSNE>=0.6.1\n",
            "  Downloading openTSNE-0.6.1-cp37-cp37m-manylinux_2_12_x86_64.manylinux2010_x86_64.whl (2.4 MB)\n",
            "\u001b[K     |████████████████████████████████| 2.4 MB 21.5 MB/s \n",
            "\u001b[?25hCollecting keyrings.alt\n",
            "  Downloading keyrings.alt-4.1.0-py3-none-any.whl (20 kB)\n",
            "Requirement already satisfied: scikit-learn!=0.23.0,!=1.0.0,>=0.22.0 in /usr/local/lib/python3.7/dist-packages (from Orange3) (0.22.2.post1)\n",
            "Requirement already satisfied: qtconsole>=4.7.2 in /usr/local/lib/python3.7/dist-packages (from Orange3) (5.1.1)\n",
            "Requirement already satisfied: certifi in /usr/local/lib/python3.7/dist-packages (from httpx<0.20,>=0.14.0->Orange3) (2021.5.30)\n",
            "Collecting rfc3986[idna2008]<2,>=1.3\n",
            "  Downloading rfc3986-1.5.0-py2.py3-none-any.whl (31 kB)\n",
            "Collecting httpcore<0.14.0,>=0.13.3\n",
            "  Downloading httpcore-0.13.7-py3-none-any.whl (58 kB)\n",
            "\u001b[K     |████████████████████████████████| 58 kB 7.4 MB/s \n",
            "\u001b[?25hRequirement already satisfied: charset-normalizer in /usr/local/lib/python3.7/dist-packages (from httpx<0.20,>=0.14.0->Orange3) (2.0.7)\n",
            "Collecting sniffio\n",
            "  Downloading sniffio-1.2.0-py3-none-any.whl (10 kB)\n",
            "Collecting h11<0.13,>=0.11\n",
            "  Downloading h11-0.12.0-py3-none-any.whl (54 kB)\n",
            "\u001b[K     |████████████████████████████████| 54 kB 3.6 MB/s \n",
            "\u001b[?25hCollecting anyio==3.*\n",
            "  Downloading anyio-3.3.4-py3-none-any.whl (78 kB)\n",
            "\u001b[K     |████████████████████████████████| 78 kB 7.5 MB/s \n",
            "\u001b[?25hRequirement already satisfied: idna>=2.8 in /usr/local/lib/python3.7/dist-packages (from anyio==3.*->httpcore<0.14.0,>=0.13.3->httpx<0.20,>=0.14.0->Orange3) (2.10)\n",
            "Requirement already satisfied: typing-extensions in /usr/local/lib/python3.7/dist-packages (from anyio==3.*->httpcore<0.14.0,>=0.13.3->httpx<0.20,>=0.14.0->Orange3) (3.7.4.3)\n",
            "Requirement already satisfied: python-dateutil>=2.1 in /usr/local/lib/python3.7/dist-packages (from matplotlib>=2.0.0->Orange3) (2.8.2)\n",
            "Requirement already satisfied: cycler>=0.10 in /usr/local/lib/python3.7/dist-packages (from matplotlib>=2.0.0->Orange3) (0.10.0)\n",
            "Requirement already satisfied: kiwisolver>=1.0.1 in /usr/local/lib/python3.7/dist-packages (from matplotlib>=2.0.0->Orange3) (1.3.2)\n",
            "Requirement already satisfied: pyparsing!=2.0.4,!=2.1.2,!=2.1.6,>=2.0.1 in /usr/local/lib/python3.7/dist-packages (from matplotlib>=2.0.0->Orange3) (2.4.7)\n",
            "Requirement already satisfied: six in /usr/local/lib/python3.7/dist-packages (from cycler>=0.10->matplotlib>=2.0.0->Orange3) (1.15.0)\n",
            "Requirement already satisfied: cachecontrol[filecache] in /usr/local/lib/python3.7/dist-packages (from orange-canvas-core<0.2a,>=0.1.23->Orange3) (0.12.6)\n",
            "Requirement already satisfied: docutils in /usr/local/lib/python3.7/dist-packages (from orange-canvas-core<0.2a,>=0.1.23->Orange3) (0.17.1)\n",
            "Requirement already satisfied: importlib-metadata in /usr/local/lib/python3.7/dist-packages (from orange-canvas-core<0.2a,>=0.1.23->Orange3) (4.8.1)\n",
            "Collecting qasync\n",
            "  Downloading qasync-0.22.0-py3-none-any.whl (13 kB)\n",
            "Collecting dictdiffer\n",
            "  Downloading dictdiffer-0.9.0-py2.py3-none-any.whl (16 kB)\n",
            "Collecting commonmark>=0.8.1\n",
            "  Downloading commonmark-0.9.1-py2.py3-none-any.whl (51 kB)\n",
            "\u001b[K     |████████████████████████████████| 51 kB 8.1 MB/s \n",
            "\u001b[?25hRequirement already satisfied: pytz>=2017.2 in /usr/local/lib/python3.7/dist-packages (from pandas>=1.0.0->Orange3) (2018.9)\n",
            "Collecting PyQt5-Qt5>=5.15.2\n",
            "  Downloading PyQt5_Qt5-5.15.2-py3-none-manylinux2014_x86_64.whl (59.9 MB)\n",
            "\u001b[K     |████████████████████████████████| 59.9 MB 59 kB/s \n",
            "\u001b[?25hCollecting PyQt5-sip<13,>=12.8\n",
            "  Downloading PyQt5_sip-12.9.0-cp37-cp37m-manylinux1_x86_64.whl (317 kB)\n",
            "\u001b[K     |████████████████████████████████| 317 kB 75.6 MB/s \n",
            "\u001b[?25hCollecting PyQtWebEngine-Qt5>=5.15.2\n",
            "  Downloading PyQtWebEngine_Qt5-5.15.2-py3-none-manylinux2014_x86_64.whl (67.5 MB)\n",
            "\u001b[K     |████████████████████████████████| 67.5 MB 39 kB/s \n",
            "\u001b[?25hRequirement already satisfied: pyzmq>=17.1 in /usr/local/lib/python3.7/dist-packages (from qtconsole>=4.7.2->Orange3) (22.3.0)\n",
            "Requirement already satisfied: ipykernel>=4.1 in /usr/local/lib/python3.7/dist-packages (from qtconsole>=4.7.2->Orange3) (4.10.1)\n",
            "Requirement already satisfied: ipython-genutils in /usr/local/lib/python3.7/dist-packages (from qtconsole>=4.7.2->Orange3) (0.2.0)\n",
            "Requirement already satisfied: qtpy in /usr/local/lib/python3.7/dist-packages (from qtconsole>=4.7.2->Orange3) (1.11.2)\n",
            "Requirement already satisfied: jupyter-client>=4.1 in /usr/local/lib/python3.7/dist-packages (from qtconsole>=4.7.2->Orange3) (5.3.5)\n",
            "Requirement already satisfied: traitlets in /usr/local/lib/python3.7/dist-packages (from qtconsole>=4.7.2->Orange3) (5.1.0)\n",
            "Requirement already satisfied: jupyter-core in /usr/local/lib/python3.7/dist-packages (from qtconsole>=4.7.2->Orange3) (4.8.1)\n",
            "Requirement already satisfied: ipython>=4.0.0 in /usr/local/lib/python3.7/dist-packages (from ipykernel>=4.1->qtconsole>=4.7.2->Orange3) (5.5.0)\n",
            "Requirement already satisfied: tornado>=4.0 in /usr/local/lib/python3.7/dist-packages (from ipykernel>=4.1->qtconsole>=4.7.2->Orange3) (5.1.1)\n",
            "Requirement already satisfied: pexpect in /usr/local/lib/python3.7/dist-packages (from ipython>=4.0.0->ipykernel>=4.1->qtconsole>=4.7.2->Orange3) (4.8.0)\n",
            "Requirement already satisfied: prompt-toolkit<2.0.0,>=1.0.4 in /usr/local/lib/python3.7/dist-packages (from ipython>=4.0.0->ipykernel>=4.1->qtconsole>=4.7.2->Orange3) (1.0.18)\n",
            "Requirement already satisfied: decorator in /usr/local/lib/python3.7/dist-packages (from ipython>=4.0.0->ipykernel>=4.1->qtconsole>=4.7.2->Orange3) (4.4.2)\n",
            "Requirement already satisfied: pickleshare in /usr/local/lib/python3.7/dist-packages (from ipython>=4.0.0->ipykernel>=4.1->qtconsole>=4.7.2->Orange3) (0.7.5)\n",
            "Requirement already satisfied: simplegeneric>0.8 in /usr/local/lib/python3.7/dist-packages (from ipython>=4.0.0->ipykernel>=4.1->qtconsole>=4.7.2->Orange3) (0.8.1)\n",
            "Requirement already satisfied: wcwidth in /usr/local/lib/python3.7/dist-packages (from prompt-toolkit<2.0.0,>=1.0.4->ipython>=4.0.0->ipykernel>=4.1->qtconsole>=4.7.2->Orange3) (0.2.5)\n",
            "Requirement already satisfied: msgpack>=0.5.2 in /usr/local/lib/python3.7/dist-packages (from cachecontrol[filecache]->orange-canvas-core<0.2a,>=0.1.23->Orange3) (1.0.2)\n",
            "Collecting lockfile>=0.9\n",
            "  Downloading lockfile-0.12.2-py2.py3-none-any.whl (13 kB)\n",
            "Requirement already satisfied: zipp>=0.5 in /usr/local/lib/python3.7/dist-packages (from importlib-metadata->orange-canvas-core<0.2a,>=0.1.23->Orange3) (3.6.0)\n",
            "Collecting SecretStorage>=3.2\n",
            "  Downloading SecretStorage-3.3.1-py3-none-any.whl (15 kB)\n",
            "Collecting jeepney>=0.4.2\n",
            "  Downloading jeepney-0.7.1-py3-none-any.whl (54 kB)\n",
            "\u001b[K     |████████████████████████████████| 54 kB 3.2 MB/s \n",
            "\u001b[?25hCollecting cryptography>=2.0\n",
            "  Downloading cryptography-35.0.0-cp36-abi3-manylinux_2_24_x86_64.whl (3.5 MB)\n",
            "\u001b[K     |████████████████████████████████| 3.5 MB 28.4 MB/s \n",
            "\u001b[?25hRequirement already satisfied: cffi>=1.12 in /usr/local/lib/python3.7/dist-packages (from cryptography>=2.0->SecretStorage>=3.2->keyring->Orange3) (1.14.6)\n",
            "Requirement already satisfied: pycparser in /usr/local/lib/python3.7/dist-packages (from cffi>=1.12->cryptography>=2.0->SecretStorage>=3.2->keyring->Orange3) (2.20)\n",
            "Requirement already satisfied: et-xmlfile in /usr/local/lib/python3.7/dist-packages (from openpyxl->Orange3) (1.1.0)\n",
            "Requirement already satisfied: jdcal in /usr/local/lib/python3.7/dist-packages (from openpyxl->Orange3) (1.4.1)\n",
            "Requirement already satisfied: ptyprocess>=0.5 in /usr/local/lib/python3.7/dist-packages (from pexpect->ipython>=4.0.0->ipykernel>=4.1->qtconsole>=4.7.2->Orange3) (0.7.0)\n",
            "Requirement already satisfied: urllib3!=1.25.0,!=1.25.1,<1.26,>=1.21.1 in /usr/local/lib/python3.7/dist-packages (from requests->Orange3) (1.24.3)\n",
            "Building wheels for collected packages: orange-widget-base, serverfiles\n",
            "  Building wheel for orange-widget-base (setup.py) ... \u001b[?25l\u001b[?25hdone\n",
            "  Created wheel for orange-widget-base: filename=orange_widget_base-4.15.1-py3-none-any.whl size=258179 sha256=0892e002e649fc0687beb02083018be842ee1171e8db215a5ced936a4ec83f59\n",
            "  Stored in directory: /root/.cache/pip/wheels/eb/c1/ed/515cb4b908126d207154b78bc0b63c9febe527aa42d3753350\n",
            "  Building wheel for serverfiles (setup.py) ... \u001b[?25l\u001b[?25hdone\n",
            "  Created wheel for serverfiles: filename=serverfiles-0.3.1-py3-none-any.whl size=6947 sha256=7911f7a377f14afc99cddfa7cbab98401c43b5a8646f12b558ecb86d8cbb8f47\n",
            "  Stored in directory: /root/.cache/pip/wheels/f4/36/15/fcfe21874746d5cd17c18b1e5501fbf86544da90d4ab6afe17\n",
            "Successfully built orange-widget-base serverfiles\n",
            "Installing collected packages: sniffio, pygments, lockfile, rfc3986, qasync, PyQt5-sip, PyQt5-Qt5, jeepney, h11, dictdiffer, cryptography, commonmark, AnyQt, anyio, SecretStorage, PyQtWebEngine-Qt5, pyqtgraph, PyQt5, orange-canvas-core, httpcore, xlsxwriter, serverfiles, PyQtWebEngine, orange-widget-base, openTSNE, keyrings.alt, keyring, httpx, baycomp, Orange3\n",
            "  Attempting uninstall: pygments\n",
            "    Found existing installation: Pygments 2.6.1\n",
            "    Uninstalling Pygments-2.6.1:\n",
            "      Successfully uninstalled Pygments-2.6.1\n",
            "\u001b[31mERROR: pip's dependency resolver does not currently take into account all the packages that are installed. This behaviour is the source of the following dependency conflicts.\n",
            "datascience 0.10.6 requires folium==0.2.1, but you have folium 0.8.3 which is incompatible.\u001b[0m\n",
            "Successfully installed AnyQt-0.0.13 Orange3-3.30.2 PyQt5-5.15.6 PyQt5-Qt5-5.15.2 PyQt5-sip-12.9.0 PyQtWebEngine-5.15.5 PyQtWebEngine-Qt5-5.15.2 SecretStorage-3.3.1 anyio-3.3.4 baycomp-1.0.2 commonmark-0.9.1 cryptography-35.0.0 dictdiffer-0.9.0 h11-0.12.0 httpcore-0.13.7 httpx-0.19.0 jeepney-0.7.1 keyring-23.2.1 keyrings.alt-4.1.0 lockfile-0.12.2 openTSNE-0.6.1 orange-canvas-core-0.1.23 orange-widget-base-4.15.1 pygments-2.10.0 pyqtgraph-0.12.3 qasync-0.22.0 rfc3986-1.5.0 serverfiles-0.3.1 sniffio-1.2.0 xlsxwriter-3.0.2\n"
          ]
        },
        {
          "output_type": "display_data",
          "data": {
            "application/vnd.colab-display-data+json": {
              "pip_warning": {
                "packages": [
                  "pygments"
                ]
              }
            }
          },
          "metadata": {}
        }
      ]
    },
    {
      "cell_type": "code",
      "metadata": {
        "colab": {
          "base_uri": "https://localhost:8080/"
        },
        "id": "mtPf2Ly4Ij9I",
        "outputId": "0e7dfd80-66e0-40e9-e1dc-77c46501c8bc"
      },
      "source": [
        "rankings_avg"
      ],
      "execution_count": null,
      "outputs": [
        {
          "output_type": "execute_result",
          "data": {
            "text/plain": [
              "[2.3473684210526318, 2.642105263157895, 2.6, 2.4105263157894736]"
            ]
          },
          "metadata": {},
          "execution_count": 34
        }
      ]
    },
    {
      "cell_type": "code",
      "metadata": {
        "colab": {
          "base_uri": "https://localhost:8080/"
        },
        "id": "YsZVYR6zqIDt",
        "outputId": "c1e19504-18a5-439c-ba12-1c09da74bc80"
      },
      "source": [
        "final_df.shape"
      ],
      "execution_count": null,
      "outputs": [
        {
          "output_type": "execute_result",
          "data": {
            "text/plain": [
              "(95, 12)"
            ]
          },
          "metadata": {},
          "execution_count": 35
        }
      ]
    },
    {
      "cell_type": "code",
      "metadata": {
        "colab": {
          "base_uri": "https://localhost:8080/",
          "height": 143
        },
        "id": "fTIoc9LbEZIX",
        "outputId": "4d8050ec-5fac-4d74-d1ba-222adf8fba4f"
      },
      "source": [
        "import Orange\n",
        "\n",
        "names = ['One Class SVM None', 'Isolation Forest None', 'Gaussian Mixture None', 'BRM None']\n",
        "\n",
        "avranks = [rankings_avg[0], rankings_avg[1], rankings_avg[2], rankings_avg[3]]\n",
        "\n",
        "cd = Orange.evaluation.compute_CD(avranks, final_df.shape[0])\n",
        "Orange.evaluation.graph_ranks(avranks, names, cd=cd, width=6, textspace=1.5)\n",
        "plt.show();"
      ],
      "execution_count": null,
      "outputs": [
        {
          "output_type": "display_data",
          "data": {
            "image/png": "[encoded data removed]",
            "text/plain": [
              "<Figure size 432x111.6 with 1 Axes>"
            ]
          },
          "metadata": {}
        }
      ]
    },
    {
      "cell_type": "markdown",
      "metadata": {
        "id": "eqD7LrYbd1Jl"
      },
      "source": [
        "### Performance evaluation"
      ]
    },
    {
      "cell_type": "code",
      "metadata": {
        "id": "wJBgz-6pbxUK"
      },
      "source": [
        "average_auc = [final_df.AUC_OneClassSVM_None.mean(), final_df.AUC_IsolationForest_None.mean(), final_df.AUC_GaussianMixture_None.mean(), final_df.AUC_BRM_None.mean()]\n",
        "std_auc = [final_df.AUC_OneClassSVM_None.std(), final_df.AUC_IsolationForest_None.std(), final_df.AUC_GaussianMixture_None.std(), final_df.AUC_BRM_None.std()]"
      ],
      "execution_count": 176,
      "outputs": []
    },
    {
      "cell_type": "code",
      "metadata": {
        "colab": {
          "base_uri": "https://localhost:8080/",
          "height": 173
        },
        "id": "MoWr3poSbgiN",
        "outputId": "58f809ec-b633-4600-d978-cd74d753447f"
      },
      "source": [
        "evaluation = pd.DataFrame()\n",
        "evaluation['Classifier'] = ['One Class SVM None', 'Isolation Forest None', 'Gaussian Mixture None', 'BRM None']\n",
        "evaluation['Average AUC'] = average_auc\n",
        "evaluation['STD'] = std_auc\n",
        "evaluation['Ranking'] = [2.3473684210526318, 2.642105263157895, 2.6, 2.4105263157894736]\n",
        "evaluation['Adjusted p-value'] = [1, 1, 1, 1]\n",
        "evaluation.sort_values(by=['Ranking'], inplace=True)\n",
        "evaluation"
      ],
      "execution_count": 180,
      "outputs": [
        {
          "output_type": "execute_result",
          "data": {
            "text/html": [
              "<div>\n",
              "<style scoped>\n",
              "    .dataframe tbody tr th:only-of-type {\n",
              "        vertical-align: middle;\n",
              "    }\n",
              "\n",
              "    .dataframe tbody tr th {\n",
              "        vertical-align: top;\n",
              "    }\n",
              "\n",
              "    .dataframe thead th {\n",
              "        text-align: right;\n",
              "    }\n",
              "</style>\n",
              "<table border=\"1\" class=\"dataframe\">\n",
              "  <thead>\n",
              "    <tr style=\"text-align: right;\">\n",
              "      <th></th>\n",
              "      <th>Classifier</th>\n",
              "      <th>Average AUC</th>\n",
              "      <th>STD</th>\n",
              "      <th>Ranking</th>\n",
              "      <th>Adjusted p-value</th>\n",
              "    </tr>\n",
              "  </thead>\n",
              "  <tbody>\n",
              "    <tr>\n",
              "      <th>0</th>\n",
              "      <td>One Class SVM None</td>\n",
              "      <td>0.736568</td>\n",
              "      <td>0.141461</td>\n",
              "      <td>2.347368</td>\n",
              "      <td>1</td>\n",
              "    </tr>\n",
              "    <tr>\n",
              "      <th>3</th>\n",
              "      <td>BRM None</td>\n",
              "      <td>0.729249</td>\n",
              "      <td>0.137064</td>\n",
              "      <td>2.410526</td>\n",
              "      <td>1</td>\n",
              "    </tr>\n",
              "    <tr>\n",
              "      <th>2</th>\n",
              "      <td>Gaussian Mixture None</td>\n",
              "      <td>0.745060</td>\n",
              "      <td>0.150117</td>\n",
              "      <td>2.600000</td>\n",
              "      <td>1</td>\n",
              "    </tr>\n",
              "    <tr>\n",
              "      <th>1</th>\n",
              "      <td>Isolation Forest None</td>\n",
              "      <td>0.746463</td>\n",
              "      <td>0.144152</td>\n",
              "      <td>2.642105</td>\n",
              "      <td>1</td>\n",
              "    </tr>\n",
              "  </tbody>\n",
              "</table>\n",
              "</div>"
            ],
            "text/plain": [
              "              Classifier  Average AUC       STD   Ranking  Adjusted p-value\n",
              "0     One Class SVM None     0.736568  0.141461  2.347368                 1\n",
              "3               BRM None     0.729249  0.137064  2.410526                 1\n",
              "2  Gaussian Mixture None     0.745060  0.150117  2.600000                 1\n",
              "1  Isolation Forest None     0.746463  0.144152  2.642105                 1"
            ]
          },
          "metadata": {},
          "execution_count": 180
        }
      ]
    },
    {
      "cell_type": "markdown",
      "metadata": {
        "id": "AwVK74agqZ_6"
      },
      "source": [
        "### Normalization: MinMax"
      ]
    },
    {
      "cell_type": "markdown",
      "metadata": {
        "id": "q6ho14G8qqbM"
      },
      "source": [
        "#### Friedman's test"
      ]
    },
    {
      "cell_type": "code",
      "metadata": {
        "colab": {
          "base_uri": "https://localhost:8080/"
        },
        "id": "RzTVcZwOqjbi",
        "outputId": "f1e918b6-294d-4900-de26-963ddb5bbe50"
      },
      "source": [
        "alpha = 0.05 # significance level\n",
        "\n",
        "result = st.friedmanchisquare(final_df.AUC_OneClassSVM_MinMax, final_df.AUC_IsolationForest_MinMax, final_df.AUC_GaussianMixture_MinMax, final_df.AUC_BRM_MinMax)\n",
        "result"
      ],
      "execution_count": null,
      "outputs": [
        {
          "output_type": "execute_result",
          "data": {
            "text/plain": [
              "FriedmanchisquareResult(statistic=5.200000000000001, pvalue=0.15772445039666289)"
            ]
          },
          "metadata": {},
          "execution_count": 37
        }
      ]
    },
    {
      "cell_type": "code",
      "metadata": {
        "colab": {
          "base_uri": "https://localhost:8080/"
        },
        "id": "ZjB6BAyIq0E6",
        "outputId": "8e2e1401-068d-4ddf-db06-c789947a5e80"
      },
      "source": [
        "if result.pvalue < alpha:\n",
        "  print(\"We can reject the null hypothesis: so the results obtained by all the tested classifiers, in all the databases, are not similar statistically. Therefore, we can proceed with a post-hoc test.\")\n",
        "else:\n",
        "  print(\"We can accept the null hypothesis: so the results obtained by all the tested classifiers, in all the databases, are similar statistically.\")"
      ],
      "execution_count": null,
      "outputs": [
        {
          "output_type": "stream",
          "name": "stdout",
          "text": [
            "We can accept the null hypothesis: so the results obtained by all the tested classifiers, in all the databases, are similar statistically.\n"
          ]
        }
      ]
    },
    {
      "cell_type": "code",
      "metadata": {
        "id": "9rRKasT7rDr5"
      },
      "source": [
        "auc_data_minmax = {\n",
        "    'AUC_OneClass_SVM_MinMax': final_df.AUC_OneClassSVM_MinMax,\n",
        "    'AUC_Isolation_Forest_MinMax': final_df.AUC_IsolationForest_MinMax,\n",
        "    'AUC_Gaussian_Mixture_MinMax': final_df.AUC_GaussianMixture_MinMax,\n",
        "    'AUC_BRM_MinMax': final_df.AUC_BRM_MinMax,\n",
        "}"
      ],
      "execution_count": null,
      "outputs": []
    },
    {
      "cell_type": "code",
      "metadata": {
        "colab": {
          "base_uri": "https://localhost:8080/"
        },
        "id": "JtiMihu8rNO8",
        "outputId": "a87471da-c89b-4ccc-e87f-59d2f499804d"
      },
      "source": [
        "rankings_avg = friedman_test(*auc_data_minmax.values())\n",
        "rankings_avg"
      ],
      "execution_count": null,
      "outputs": [
        {
          "output_type": "stream",
          "name": "stderr",
          "text": [
            "/usr/local/lib/python3.7/dist-packages/ipykernel_launcher.py:44: DeprecationWarning: Calling np.sum(generator) is deprecated, and in the future will give a different result. Use np.sum(np.fromiter(generator)) or the python sum builtin instead.\n"
          ]
        },
        {
          "output_type": "execute_result",
          "data": {
            "text/plain": [
              "[2.278947368421053, 2.6473684210526316, 2.626315789473684, 2.4473684210526314]"
            ]
          },
          "metadata": {},
          "execution_count": 40
        }
      ]
    },
    {
      "cell_type": "markdown",
      "metadata": {
        "id": "HPiZKQZZrjrh"
      },
      "source": [
        "#### Post-hoc test"
      ]
    },
    {
      "cell_type": "code",
      "metadata": {
        "id": "5F9940V_rmEF"
      },
      "source": [
        "data = np.array([final_df.AUC_OneClassSVM_MinMax, final_df.AUC_IsolationForest_MinMax, final_df.AUC_GaussianMixture_MinMax, final_df.AUC_BRM_MinMax])"
      ],
      "execution_count": null,
      "outputs": []
    },
    {
      "cell_type": "code",
      "metadata": {
        "colab": {
          "base_uri": "https://localhost:8080/",
          "height": 173
        },
        "id": "o3a1rxbxroH2",
        "outputId": "882c198d-b38a-4d92-f4e1-c26cd7569915"
      },
      "source": [
        "p_values = sp.posthoc_nemenyi_friedman(data.T)\n",
        "p_values"
      ],
      "execution_count": null,
      "outputs": [
        {
          "output_type": "execute_result",
          "data": {
            "text/html": [
              "<div>\n",
              "<style scoped>\n",
              "    .dataframe tbody tr th:only-of-type {\n",
              "        vertical-align: middle;\n",
              "    }\n",
              "\n",
              "    .dataframe tbody tr th {\n",
              "        vertical-align: top;\n",
              "    }\n",
              "\n",
              "    .dataframe thead th {\n",
              "        text-align: right;\n",
              "    }\n",
              "</style>\n",
              "<table border=\"1\" class=\"dataframe\">\n",
              "  <thead>\n",
              "    <tr style=\"text-align: right;\">\n",
              "      <th></th>\n",
              "      <th>0</th>\n",
              "      <th>1</th>\n",
              "      <th>2</th>\n",
              "      <th>3</th>\n",
              "    </tr>\n",
              "  </thead>\n",
              "  <tbody>\n",
              "    <tr>\n",
              "      <th>0</th>\n",
              "      <td>1.000000</td>\n",
              "      <td>0.200668</td>\n",
              "      <td>0.248011</td>\n",
              "      <td>0.780471</td>\n",
              "    </tr>\n",
              "    <tr>\n",
              "      <th>1</th>\n",
              "      <td>0.200668</td>\n",
              "      <td>1.000000</td>\n",
              "      <td>0.900000</td>\n",
              "      <td>0.685841</td>\n",
              "    </tr>\n",
              "    <tr>\n",
              "      <th>2</th>\n",
              "      <td>0.248011</td>\n",
              "      <td>0.900000</td>\n",
              "      <td>1.000000</td>\n",
              "      <td>0.748926</td>\n",
              "    </tr>\n",
              "    <tr>\n",
              "      <th>3</th>\n",
              "      <td>0.780471</td>\n",
              "      <td>0.685841</td>\n",
              "      <td>0.748926</td>\n",
              "      <td>1.000000</td>\n",
              "    </tr>\n",
              "  </tbody>\n",
              "</table>\n",
              "</div>"
            ],
            "text/plain": [
              "          0         1         2         3\n",
              "0  1.000000  0.200668  0.248011  0.780471\n",
              "1  0.200668  1.000000  0.900000  0.685841\n",
              "2  0.248011  0.900000  1.000000  0.748926\n",
              "3  0.780471  0.685841  0.748926  1.000000"
            ]
          },
          "metadata": {},
          "execution_count": 42
        }
      ]
    },
    {
      "cell_type": "code",
      "metadata": {
        "colab": {
          "base_uri": "https://localhost:8080/"
        },
        "id": "7CI8Ct9Crrjl",
        "outputId": "a3e9ae94-c812-4ea9-ffef-68dc706df871"
      },
      "source": [
        "ranks = {key: rankings_avg[i] for i, key in enumerate(auc_data_minmax.keys())}\n",
        "ranks"
      ],
      "execution_count": null,
      "outputs": [
        {
          "output_type": "execute_result",
          "data": {
            "text/plain": [
              "{'AUC_BRM_MinMax': 2.4473684210526314,\n",
              " 'AUC_Gaussian_Mixture_MinMax': 2.626315789473684,\n",
              " 'AUC_Isolation_Forest_MinMax': 2.6473684210526316,\n",
              " 'AUC_OneClass_SVM_MinMax': 2.278947368421053}"
            ]
          },
          "metadata": {},
          "execution_count": 43
        }
      ]
    },
    {
      "cell_type": "code",
      "metadata": {
        "colab": {
          "base_uri": "https://localhost:8080/"
        },
        "id": "a26YMMsdrvYT",
        "outputId": "5684d905-3421-4f19-e8b6-590a650d8ae4"
      },
      "source": [
        "comparisons, z_values, p_values, adj_p_values = shaffer_multitest(ranks)\n",
        "comparisons, z_values, p_values, adj_p_values"
      ],
      "execution_count": null,
      "outputs": [
        {
          "output_type": "execute_result",
          "data": {
            "text/plain": [
              "(['AUC_OneClass_SVM_MinMax vs AUC_Isolation_Forest_MinMax',\n",
              "  'AUC_OneClass_SVM_MinMax vs AUC_Gaussian_Mixture_MinMax',\n",
              "  'AUC_Isolation_Forest_MinMax vs AUC_BRM_MinMax',\n",
              "  'AUC_Gaussian_Mixture_MinMax vs AUC_BRM_MinMax',\n",
              "  'AUC_OneClass_SVM_MinMax vs AUC_BRM_MinMax',\n",
              "  'AUC_Isolation_Forest_MinMax vs AUC_Gaussian_Mixture_MinMax'],\n",
              " [0.36842105263157876,\n",
              "  0.3473684210526313,\n",
              "  0.20000000000000018,\n",
              "  0.17894736842105274,\n",
              "  0.16842105263157858,\n",
              "  0.021052631578947434],\n",
              " [0.7125593020062799,\n",
              "  0.7283145543573779,\n",
              "  0.8414805811217938,\n",
              "  0.8579790284090667,\n",
              "  0.8662520470606498,\n",
              "  0.9832036710341057],\n",
              " [1, 1, 1, 1, 1, 1])"
            ]
          },
          "metadata": {},
          "execution_count": 44
        }
      ]
    },
    {
      "cell_type": "code",
      "metadata": {
        "colab": {
          "base_uri": "https://localhost:8080/"
        },
        "id": "K2TEsBAVr2IU",
        "outputId": "4b312458-b5b2-468a-ab5f-0d090bb9e2ce"
      },
      "source": [
        "comparisons, z_values, p_values, adj_p_values = nemenyi_multitest(ranks)\n",
        "comparisons, z_values, p_values, adj_p_values"
      ],
      "execution_count": null,
      "outputs": [
        {
          "output_type": "execute_result",
          "data": {
            "text/plain": [
              "(['AUC_OneClass_SVM_MinMax vs AUC_Isolation_Forest_MinMax',\n",
              "  'AUC_OneClass_SVM_MinMax vs AUC_Gaussian_Mixture_MinMax',\n",
              "  'AUC_OneClass_SVM_MinMax vs AUC_BRM_MinMax',\n",
              "  'AUC_Isolation_Forest_MinMax vs AUC_Gaussian_Mixture_MinMax',\n",
              "  'AUC_Isolation_Forest_MinMax vs AUC_BRM_MinMax',\n",
              "  'AUC_Gaussian_Mixture_MinMax vs AUC_BRM_MinMax'],\n",
              " [0.36842105263157876,\n",
              "  0.3473684210526313,\n",
              "  0.16842105263157858,\n",
              "  0.021052631578947434,\n",
              "  0.20000000000000018,\n",
              "  0.17894736842105274],\n",
              " [0.7125593020062799,\n",
              "  0.7283145543573779,\n",
              "  0.8662520470606498,\n",
              "  0.9832036710341057,\n",
              "  0.8414805811217938,\n",
              "  0.8579790284090667],\n",
              " [1, 1, 1, 1, 1, 1])"
            ]
          },
          "metadata": {},
          "execution_count": 45
        }
      ]
    },
    {
      "cell_type": "markdown",
      "metadata": {
        "id": "wDkwJAvJsFB5"
      },
      "source": [
        "#### Critical Difference Diagram"
      ]
    },
    {
      "cell_type": "code",
      "metadata": {
        "colab": {
          "base_uri": "https://localhost:8080/",
          "height": 143
        },
        "id": "COKWeJRor7S_",
        "outputId": "4da8ca88-c239-4544-ec69-05a5336d862a"
      },
      "source": [
        "import Orange\n",
        "\n",
        "names = ['One Class SVM MinMax', 'Isolation Forest MinMax', 'Gaussian Mixture MinMax', 'BRM MinMax']\n",
        "\n",
        "avranks = [rankings_avg[0], rankings_avg[1], rankings_avg[2], rankings_avg[3]]\n",
        "\n",
        "cd = Orange.evaluation.compute_CD(avranks, final_df.shape[0])\n",
        "Orange.evaluation.graph_ranks(avranks, names, cd=cd, width=6, textspace=1.5)\n",
        "plt.show();"
      ],
      "execution_count": null,
      "outputs": [
        {
          "output_type": "display_data",
          "data": {
            "image/png": "[encoded data removed]",
            "text/plain": [
              "<Figure size 432x111.6 with 1 Axes>"
            ]
          },
          "metadata": {}
        }
      ]
    },
    {
      "cell_type": "markdown",
      "metadata": {
        "id": "m3iSD1RId4-o"
      },
      "source": [
        "### Performance evaluation"
      ]
    },
    {
      "cell_type": "code",
      "metadata": {
        "id": "iTU2ee99d_xA"
      },
      "source": [
        "average_auc = [final_df.AUC_OneClassSVM_MinMax.mean(), final_df.AUC_IsolationForest_MinMax.mean(), final_df.AUC_GaussianMixture_MinMax.mean(), final_df.AUC_BRM_MinMax.mean()]\n",
        "std_auc = [final_df.AUC_OneClassSVM_MinMax.std(), final_df.AUC_IsolationForest_MinMax.std(), final_df.AUC_GaussianMixture_MinMax.std(), final_df.AUC_BRM_MinMax.std()]"
      ],
      "execution_count": 181,
      "outputs": []
    },
    {
      "cell_type": "code",
      "metadata": {
        "colab": {
          "base_uri": "https://localhost:8080/",
          "height": 173
        },
        "id": "vkH2xdbEd8bs",
        "outputId": "7b35faa2-6af6-44ec-b85d-664b5c95c4df"
      },
      "source": [
        "evaluation = pd.DataFrame()\n",
        "evaluation['Classifier'] = ['One Class SVM MinMax', 'Isolation Forest MinMax', 'Gaussian Mixture MinMax', 'BRM MinMax']\n",
        "evaluation['Average AUC'] = average_auc\n",
        "evaluation['STD'] = std_auc\n",
        "evaluation['Ranking'] = [2.278947368421053, 2.6473684210526316, 2.626315789473684, 2.4473684210526314]\n",
        "evaluation['Adjusted p-value'] = [1, 1, 1, 1]\n",
        "evaluation.sort_values(by=['Ranking'], inplace=True)\n",
        "evaluation"
      ],
      "execution_count": 183,
      "outputs": [
        {
          "output_type": "execute_result",
          "data": {
            "text/html": [
              "<div>\n",
              "<style scoped>\n",
              "    .dataframe tbody tr th:only-of-type {\n",
              "        vertical-align: middle;\n",
              "    }\n",
              "\n",
              "    .dataframe tbody tr th {\n",
              "        vertical-align: top;\n",
              "    }\n",
              "\n",
              "    .dataframe thead th {\n",
              "        text-align: right;\n",
              "    }\n",
              "</style>\n",
              "<table border=\"1\" class=\"dataframe\">\n",
              "  <thead>\n",
              "    <tr style=\"text-align: right;\">\n",
              "      <th></th>\n",
              "      <th>Classifier</th>\n",
              "      <th>Average AUC</th>\n",
              "      <th>STD</th>\n",
              "      <th>Ranking</th>\n",
              "      <th>Adjusted p-value</th>\n",
              "    </tr>\n",
              "  </thead>\n",
              "  <tbody>\n",
              "    <tr>\n",
              "      <th>0</th>\n",
              "      <td>One Class SVM MinMax</td>\n",
              "      <td>0.734071</td>\n",
              "      <td>0.145566</td>\n",
              "      <td>2.278947</td>\n",
              "      <td>1</td>\n",
              "    </tr>\n",
              "    <tr>\n",
              "      <th>3</th>\n",
              "      <td>BRM MinMax</td>\n",
              "      <td>0.730807</td>\n",
              "      <td>0.137279</td>\n",
              "      <td>2.447368</td>\n",
              "      <td>1</td>\n",
              "    </tr>\n",
              "    <tr>\n",
              "      <th>2</th>\n",
              "      <td>Gaussian Mixture MinMax</td>\n",
              "      <td>0.744806</td>\n",
              "      <td>0.150099</td>\n",
              "      <td>2.626316</td>\n",
              "      <td>1</td>\n",
              "    </tr>\n",
              "    <tr>\n",
              "      <th>1</th>\n",
              "      <td>Isolation Forest MinMax</td>\n",
              "      <td>0.751021</td>\n",
              "      <td>0.142827</td>\n",
              "      <td>2.647368</td>\n",
              "      <td>1</td>\n",
              "    </tr>\n",
              "  </tbody>\n",
              "</table>\n",
              "</div>"
            ],
            "text/plain": [
              "                Classifier  Average AUC       STD   Ranking  Adjusted p-value\n",
              "0     One Class SVM MinMax     0.734071  0.145566  2.278947                 1\n",
              "3               BRM MinMax     0.730807  0.137279  2.447368                 1\n",
              "2  Gaussian Mixture MinMax     0.744806  0.150099  2.626316                 1\n",
              "1  Isolation Forest MinMax     0.751021  0.142827  2.647368                 1"
            ]
          },
          "metadata": {},
          "execution_count": 183
        }
      ]
    },
    {
      "cell_type": "markdown",
      "metadata": {
        "id": "T3yBCaaQsRqP"
      },
      "source": [
        "### Normalization: Standard Scaler"
      ]
    },
    {
      "cell_type": "markdown",
      "metadata": {
        "id": "FaB43GZtsXOs"
      },
      "source": [
        "#### Friedman's test"
      ]
    },
    {
      "cell_type": "code",
      "metadata": {
        "colab": {
          "base_uri": "https://localhost:8080/"
        },
        "id": "-H7eTCqVsZB8",
        "outputId": "dcf66b9f-970d-46f0-8eb1-dde75dc4384d"
      },
      "source": [
        "alpha = 0.05 # significance level\n",
        "\n",
        "result = st.friedmanchisquare(final_df.AUC_OneClassSVM_Std, final_df.AUC_IsolationForest_Std, final_df.AUC_GaussianMixture_Std, final_df.AUC_BRM_Std)\n",
        "result"
      ],
      "execution_count": null,
      "outputs": [
        {
          "output_type": "execute_result",
          "data": {
            "text/plain": [
              "FriedmanchisquareResult(statistic=3.436893203883533, pvalue=0.3290395642834584)"
            ]
          },
          "metadata": {},
          "execution_count": 47
        }
      ]
    },
    {
      "cell_type": "code",
      "metadata": {
        "colab": {
          "base_uri": "https://localhost:8080/"
        },
        "id": "YSUNVAOCscCj",
        "outputId": "e1ec5a37-4cf3-44ea-c6f4-e9d070b6c46d"
      },
      "source": [
        "if result.pvalue < alpha:\n",
        "  print(\"We can reject the null hypothesis: so the results obtained by all the tested classifiers, in all the databases, are not similar statistically. Therefore, we can proceed with a post-hoc test.\")\n",
        "else:\n",
        "  print(\"We can accept the null hypothesis: so the results obtained by all the tested classifiers, in all the databases, are similar statistically.\")"
      ],
      "execution_count": null,
      "outputs": [
        {
          "output_type": "stream",
          "name": "stdout",
          "text": [
            "We can accept the null hypothesis: so the results obtained by all the tested classifiers, in all the databases, are similar statistically.\n"
          ]
        }
      ]
    },
    {
      "cell_type": "code",
      "metadata": {
        "id": "h5Sxrd5BseJp"
      },
      "source": [
        "auc_data_std = {\n",
        "    'AUC_OneClass_SVM_Std': final_df.AUC_OneClassSVM_Std,\n",
        "    'AUC_Isolation_Forest_Std': final_df.AUC_IsolationForest_Std,\n",
        "    'AUC_Gaussian_Mixture_Std': final_df.AUC_GaussianMixture_Std,\n",
        "    'AUC_BRM_Std': final_df.AUC_BRM_Std,\n",
        "}"
      ],
      "execution_count": null,
      "outputs": []
    },
    {
      "cell_type": "code",
      "metadata": {
        "colab": {
          "base_uri": "https://localhost:8080/"
        },
        "id": "r974V1b-sjOx",
        "outputId": "740ead85-450d-4c01-e7b7-815b2c0760e1"
      },
      "source": [
        "rankings_avg = friedman_test(*auc_data_std.values())\n",
        "rankings_avg"
      ],
      "execution_count": null,
      "outputs": [
        {
          "output_type": "stream",
          "name": "stderr",
          "text": [
            "/usr/local/lib/python3.7/dist-packages/ipykernel_launcher.py:44: DeprecationWarning: Calling np.sum(generator) is deprecated, and in the future will give a different result. Use np.sum(np.fromiter(generator)) or the python sum builtin instead.\n"
          ]
        },
        {
          "output_type": "execute_result",
          "data": {
            "text/plain": [
              "[2.5789473684210527, 2.642105263157895, 2.4526315789473685, 2.3263157894736843]"
            ]
          },
          "metadata": {},
          "execution_count": 50
        }
      ]
    },
    {
      "cell_type": "markdown",
      "metadata": {
        "id": "Dz0LCYVjst9J"
      },
      "source": [
        "#### Post-hoc test"
      ]
    },
    {
      "cell_type": "code",
      "metadata": {
        "id": "K6aSy2kvsu_X"
      },
      "source": [
        "data = np.array([final_df.AUC_OneClassSVM_Std, final_df.AUC_IsolationForest_Std, final_df.AUC_GaussianMixture_Std, final_df.AUC_BRM_Std])"
      ],
      "execution_count": null,
      "outputs": []
    },
    {
      "cell_type": "code",
      "metadata": {
        "colab": {
          "base_uri": "https://localhost:8080/",
          "height": 173
        },
        "id": "_T4sAqKSsyIl",
        "outputId": "dfe3b34f-caec-4841-acce-6980bc4af778"
      },
      "source": [
        "p_values = sp.posthoc_nemenyi_friedman(data.T)\n",
        "p_values"
      ],
      "execution_count": null,
      "outputs": [
        {
          "output_type": "execute_result",
          "data": {
            "text/html": [
              "<div>\n",
              "<style scoped>\n",
              "    .dataframe tbody tr th:only-of-type {\n",
              "        vertical-align: middle;\n",
              "    }\n",
              "\n",
              "    .dataframe tbody tr th {\n",
              "        vertical-align: top;\n",
              "    }\n",
              "\n",
              "    .dataframe thead th {\n",
              "        text-align: right;\n",
              "    }\n",
              "</style>\n",
              "<table border=\"1\" class=\"dataframe\">\n",
              "  <thead>\n",
              "    <tr style=\"text-align: right;\">\n",
              "      <th></th>\n",
              "      <th>0</th>\n",
              "      <th>1</th>\n",
              "      <th>2</th>\n",
              "      <th>3</th>\n",
              "    </tr>\n",
              "  </thead>\n",
              "  <tbody>\n",
              "    <tr>\n",
              "      <th>0</th>\n",
              "      <td>1.000000</td>\n",
              "      <td>0.900000</td>\n",
              "      <td>0.900000</td>\n",
              "      <td>0.528131</td>\n",
              "    </tr>\n",
              "    <tr>\n",
              "      <th>1</th>\n",
              "      <td>0.900000</td>\n",
              "      <td>1.000000</td>\n",
              "      <td>0.717386</td>\n",
              "      <td>0.331251</td>\n",
              "    </tr>\n",
              "    <tr>\n",
              "      <th>2</th>\n",
              "      <td>0.900000</td>\n",
              "      <td>0.717386</td>\n",
              "      <td>1.000000</td>\n",
              "      <td>0.900000</td>\n",
              "    </tr>\n",
              "    <tr>\n",
              "      <th>3</th>\n",
              "      <td>0.528131</td>\n",
              "      <td>0.331251</td>\n",
              "      <td>0.900000</td>\n",
              "      <td>1.000000</td>\n",
              "    </tr>\n",
              "  </tbody>\n",
              "</table>\n",
              "</div>"
            ],
            "text/plain": [
              "          0         1         2         3\n",
              "0  1.000000  0.900000  0.900000  0.528131\n",
              "1  0.900000  1.000000  0.717386  0.331251\n",
              "2  0.900000  0.717386  1.000000  0.900000\n",
              "3  0.528131  0.331251  0.900000  1.000000"
            ]
          },
          "metadata": {},
          "execution_count": 52
        }
      ]
    },
    {
      "cell_type": "code",
      "metadata": {
        "colab": {
          "base_uri": "https://localhost:8080/"
        },
        "id": "mznDvOUss1c9",
        "outputId": "5ea6f22d-7d93-4e06-cdde-a37c03907bfa"
      },
      "source": [
        "ranks = {key: rankings_avg[i] for i, key in enumerate(auc_data_std.keys())}\n",
        "ranks"
      ],
      "execution_count": null,
      "outputs": [
        {
          "output_type": "execute_result",
          "data": {
            "text/plain": [
              "{'AUC_BRM_Std': 2.3263157894736843,\n",
              " 'AUC_Gaussian_Mixture_Std': 2.4526315789473685,\n",
              " 'AUC_Isolation_Forest_Std': 2.642105263157895,\n",
              " 'AUC_OneClass_SVM_Std': 2.5789473684210527}"
            ]
          },
          "metadata": {},
          "execution_count": 53
        }
      ]
    },
    {
      "cell_type": "code",
      "metadata": {
        "colab": {
          "base_uri": "https://localhost:8080/"
        },
        "id": "51EDT_EZs6KG",
        "outputId": "305c9973-ce96-4cf8-ad06-145cb69bf137"
      },
      "source": [
        "comparisons, z_values, p_values, adj_p_values = shaffer_multitest(ranks)\n",
        "comparisons, z_values, p_values, adj_p_values"
      ],
      "execution_count": null,
      "outputs": [
        {
          "output_type": "execute_result",
          "data": {
            "text/plain": [
              "(['AUC_Isolation_Forest_Std vs AUC_BRM_Std',\n",
              "  'AUC_OneClass_SVM_Std vs AUC_BRM_Std',\n",
              "  'AUC_Isolation_Forest_Std vs AUC_Gaussian_Mixture_Std',\n",
              "  'AUC_OneClass_SVM_Std vs AUC_Gaussian_Mixture_Std',\n",
              "  'AUC_Gaussian_Mixture_Std vs AUC_BRM_Std',\n",
              "  'AUC_OneClass_SVM_Std vs AUC_Isolation_Forest_Std'],\n",
              " [0.3157894736842106,\n",
              "  0.2526315789473683,\n",
              "  0.18947368421052646,\n",
              "  0.12631578947368416,\n",
              "  0.12631578947368416,\n",
              "  0.0631578947368423],\n",
              " [0.7521623083780538,\n",
              "  0.800552924922785,\n",
              "  0.8497215784715073,\n",
              "  0.899481958176398,\n",
              "  0.899481958176398,\n",
              "  0.949640772938686],\n",
              " [1, 1, 1, 1, 1, 1])"
            ]
          },
          "metadata": {},
          "execution_count": 54
        }
      ]
    },
    {
      "cell_type": "code",
      "metadata": {
        "colab": {
          "base_uri": "https://localhost:8080/"
        },
        "id": "jsp5iCJ9s9a0",
        "outputId": "053b1568-95be-4438-8e7d-4750ec923124"
      },
      "source": [
        "comparisons, z_values, p_values, adj_p_values = nemenyi_multitest(ranks)\n",
        "comparisons, z_values, p_values, adj_p_values"
      ],
      "execution_count": null,
      "outputs": [
        {
          "output_type": "execute_result",
          "data": {
            "text/plain": [
              "(['AUC_OneClass_SVM_Std vs AUC_Isolation_Forest_Std',\n",
              "  'AUC_OneClass_SVM_Std vs AUC_Gaussian_Mixture_Std',\n",
              "  'AUC_OneClass_SVM_Std vs AUC_BRM_Std',\n",
              "  'AUC_Isolation_Forest_Std vs AUC_Gaussian_Mixture_Std',\n",
              "  'AUC_Isolation_Forest_Std vs AUC_BRM_Std',\n",
              "  'AUC_Gaussian_Mixture_Std vs AUC_BRM_Std'],\n",
              " [0.0631578947368423,\n",
              "  0.12631578947368416,\n",
              "  0.2526315789473683,\n",
              "  0.18947368421052646,\n",
              "  0.3157894736842106,\n",
              "  0.12631578947368416],\n",
              " [0.949640772938686,\n",
              "  0.899481958176398,\n",
              "  0.800552924922785,\n",
              "  0.8497215784715073,\n",
              "  0.7521623083780538,\n",
              "  0.899481958176398],\n",
              " [1, 1, 1, 1, 1, 1])"
            ]
          },
          "metadata": {},
          "execution_count": 55
        }
      ]
    },
    {
      "cell_type": "markdown",
      "metadata": {
        "id": "7LGXFtBKtBHL"
      },
      "source": [
        "#### Critical Difference Diagram"
      ]
    },
    {
      "cell_type": "code",
      "metadata": {
        "colab": {
          "base_uri": "https://localhost:8080/",
          "height": 143
        },
        "id": "zV4x3ZMwtCuA",
        "outputId": "7e7c5c7b-43c3-4a51-b9c3-0f0747f831f3"
      },
      "source": [
        "import Orange\n",
        "\n",
        "names = ['One Class SVM Std', 'Isolation Forest Std', 'Gaussian Mixture Std', 'BRM Std']\n",
        "\n",
        "avranks = [rankings_avg[0], rankings_avg[1], rankings_avg[2], rankings_avg[3]]\n",
        "\n",
        "cd = Orange.evaluation.compute_CD(avranks, final_df.shape[0])\n",
        "Orange.evaluation.graph_ranks(avranks, names, cd=cd, width=6, textspace=1.5)\n",
        "plt.show();"
      ],
      "execution_count": null,
      "outputs": [
        {
          "output_type": "display_data",
          "data": {
            "image/png": "[encoded data removed]",
            "text/plain": [
              "<Figure size 432x111.6 with 1 Axes>"
            ]
          },
          "metadata": {}
        }
      ]
    },
    {
      "cell_type": "markdown",
      "metadata": {
        "id": "achVxbKyenPD"
      },
      "source": [
        "### Performance Evaluation"
      ]
    },
    {
      "cell_type": "code",
      "metadata": {
        "id": "T9MJtaXOerCj"
      },
      "source": [
        "average_auc = [final_df.AUC_OneClassSVM_Std.mean(), final_df.AUC_IsolationForest_Std.mean(), final_df.AUC_GaussianMixture_Std.mean(), final_df.AUC_BRM_Std.mean()]\n",
        "std_auc = [final_df.AUC_OneClassSVM_Std.std(), final_df.AUC_IsolationForest_Std.std(), final_df.AUC_GaussianMixture_Std.std(), final_df.AUC_BRM_Std.std()]"
      ],
      "execution_count": 184,
      "outputs": []
    },
    {
      "cell_type": "code",
      "metadata": {
        "colab": {
          "base_uri": "https://localhost:8080/",
          "height": 173
        },
        "id": "jxPEs7Bieo6k",
        "outputId": "65ff7592-ef76-4512-ba6c-bc74f0f3e386"
      },
      "source": [
        "evaluation = pd.DataFrame()\n",
        "evaluation['Classifier'] = ['One Class SVM Std', 'Isolation Forest Std', 'Gaussian Mixture Std', 'BRM Std']\n",
        "evaluation['Average AUC'] = average_auc\n",
        "evaluation['STD'] = std_auc\n",
        "evaluation['Ranking'] = [2.5789473684210527, 2.642105263157895, 2.4526315789473685, 2.3263157894736843]\n",
        "evaluation['Adjusted p-value'] = [1, 1, 1, 1]\n",
        "evaluation.sort_values(by=['Ranking'], inplace=True)\n",
        "evaluation"
      ],
      "execution_count": 185,
      "outputs": [
        {
          "output_type": "execute_result",
          "data": {
            "text/html": [
              "<div>\n",
              "<style scoped>\n",
              "    .dataframe tbody tr th:only-of-type {\n",
              "        vertical-align: middle;\n",
              "    }\n",
              "\n",
              "    .dataframe tbody tr th {\n",
              "        vertical-align: top;\n",
              "    }\n",
              "\n",
              "    .dataframe thead th {\n",
              "        text-align: right;\n",
              "    }\n",
              "</style>\n",
              "<table border=\"1\" class=\"dataframe\">\n",
              "  <thead>\n",
              "    <tr style=\"text-align: right;\">\n",
              "      <th></th>\n",
              "      <th>Classifier</th>\n",
              "      <th>Average AUC</th>\n",
              "      <th>STD</th>\n",
              "      <th>Ranking</th>\n",
              "      <th>Adjusted p-value</th>\n",
              "    </tr>\n",
              "  </thead>\n",
              "  <tbody>\n",
              "    <tr>\n",
              "      <th>3</th>\n",
              "      <td>BRM Std</td>\n",
              "      <td>0.729811</td>\n",
              "      <td>0.137715</td>\n",
              "      <td>2.326316</td>\n",
              "      <td>1</td>\n",
              "    </tr>\n",
              "    <tr>\n",
              "      <th>2</th>\n",
              "      <td>Gaussian Mixture Std</td>\n",
              "      <td>0.744744</td>\n",
              "      <td>0.149977</td>\n",
              "      <td>2.452632</td>\n",
              "      <td>1</td>\n",
              "    </tr>\n",
              "    <tr>\n",
              "      <th>0</th>\n",
              "      <td>One Class SVM Std</td>\n",
              "      <td>0.745807</td>\n",
              "      <td>0.151697</td>\n",
              "      <td>2.578947</td>\n",
              "      <td>1</td>\n",
              "    </tr>\n",
              "    <tr>\n",
              "      <th>1</th>\n",
              "      <td>Isolation Forest Std</td>\n",
              "      <td>0.752336</td>\n",
              "      <td>0.142917</td>\n",
              "      <td>2.642105</td>\n",
              "      <td>1</td>\n",
              "    </tr>\n",
              "  </tbody>\n",
              "</table>\n",
              "</div>"
            ],
            "text/plain": [
              "             Classifier  Average AUC       STD   Ranking  Adjusted p-value\n",
              "3               BRM Std     0.729811  0.137715  2.326316                 1\n",
              "2  Gaussian Mixture Std     0.744744  0.149977  2.452632                 1\n",
              "0     One Class SVM Std     0.745807  0.151697  2.578947                 1\n",
              "1  Isolation Forest Std     0.752336  0.142917  2.642105                 1"
            ]
          },
          "metadata": {},
          "execution_count": 185
        }
      ]
    },
    {
      "cell_type": "markdown",
      "metadata": {
        "id": "a7fRKFT7wTje"
      },
      "source": [
        "## Custom BRM"
      ]
    },
    {
      "cell_type": "code",
      "metadata": {
        "id": "DZqEpu4MwVie"
      },
      "source": [
        "import numpy as np\n",
        "import math\n",
        "import os\n",
        "import random\n",
        "import pandas as pd\n",
        "from sklearn.base import BaseEstimator\n",
        "from sklearn.preprocessing import MinMaxScaler\n",
        "from sklearn.metrics.pairwise import euclidean_distances, manhattan_distances, cosine_similarity, linear_kernel\n",
        "from sklearn.utils.validation import check_X_y, check_array, check_is_fitted\n",
        "\n",
        "class BRM_Custom(BRM):\n",
        "    def __init__(self, classifier_count=100, bootstrap_sample_percent=100, use_bootstrap_sample_count=False, bootstrap_sample_count=0, use_past_even_queue=False, max_event_count=3, alpha=0.5, user_threshold=95, dissimilarity_measure='euclidean'):\n",
        "        self.classifier_count = classifier_count\n",
        "        self.bootstrap_sample_percent = bootstrap_sample_percent\n",
        "        self.use_bootstrap_sample_count = use_bootstrap_sample_count\n",
        "        self.bootstrap_sample_count = bootstrap_sample_count\n",
        "        self.use_past_even_queue = use_past_even_queue\n",
        "        self.max_event_count = max_event_count\n",
        "        self.alpha = alpha\n",
        "        self.user_threshold = user_threshold\n",
        "        self.dissimilarity_measure = dissimilarity_measure\n",
        "\n",
        "    def get_distance(self,a,b):\n",
        "        if self.dissimilarity_measure == 'manhattan':\n",
        "            return manhattan_distances(a,b)\n",
        "        if self.dissimilarity_measure == 'cosine':\n",
        "            return cosine_similarity(a,b)\n",
        "        if self.dissimilarity_measure == 'linear':\n",
        "            return linear_kernel(a,b)\n",
        "        return euclidean_distances(a,b)\n",
        "\n",
        "    def score_samples(self, X):\n",
        "        X = np.array(X)\n",
        "        X_test = self._scaler.transform(X)\n",
        "\n",
        "        result = []\n",
        "        batch_size = 100\n",
        "        for i in range(min(len(X_test), batch_size), len(X_test) + batch_size, batch_size):\n",
        "            current_X_test = X_test[[j for j in range(max(0, i-batch_size), min(i, len(X_test)))]]\n",
        "\n",
        "            current_similarity = np.average([np.exp(-np.power(np.amin(self.get_distance(current_X_test, self._centers[i]), axis=1)/self._max_dissimilarity, 2)/(self._sd[i])) for i in range(len(self._centers))], axis=0)\n",
        "        \n",
        "            result = result + [j for j in list(map(self._evaluate, current_similarity))]\n",
        "\n",
        "        return result\n",
        "\n",
        "    def fit(self, X, y = None):\n",
        "        # Check that X and y have correct shape\n",
        "        if y is not None:\n",
        "            X_train, y_train = check_X_y(X, y)\n",
        "        else:\n",
        "             X_train = check_array(X)\n",
        "             \n",
        "        self._similarity_sum = 0\n",
        "        self._is_threshold_Computed = False\n",
        "\n",
        "        self.n_features_in_ = X_train.shape[1]\n",
        "\n",
        "        if self.n_features_in_ < 1:\n",
        "            raise ValueError('Unable to instantiate the train dataset - Empty vector')     \n",
        "        \n",
        "        self._scaler = MinMaxScaler()\n",
        "        X_train = pd.DataFrame(X_train)\n",
        "        X_train = pd.DataFrame(self._scaler.fit_transform(X_train[X_train.columns]), index=X_train.index, columns=X_train.columns)\n",
        "\n",
        "\n",
        "        self._max_dissimilarity = math.sqrt(self.n_features_in_)\n",
        "        self._sd = np.empty(0)\n",
        "        sampleSize = int(self.bootstrap_sample_count) if (self.use_bootstrap_sample_count) else int(0.01 * self.bootstrap_sample_percent * len(X_train));\n",
        "        self._centers = np.empty((0, sampleSize, self.n_features_in_))\n",
        "\n",
        "        list_instances = X_train.values.tolist()\n",
        "        for i in range(0, self.classifier_count):            \n",
        "            centers = random.choices(list_instances, k=sampleSize)\n",
        "            self._centers = np.insert(self._centers, i, centers, axis=0)\n",
        "            self._sd = np.insert(self._sd, i, 2*(np.mean(self.get_distance(centers, centers))/self._max_dissimilarity)**2)\n",
        "\n",
        "        return self"
      ],
      "execution_count": null,
      "outputs": []
    },
    {
      "cell_type": "markdown",
      "metadata": {
        "id": "iQ4YjF8kABZ6"
      },
      "source": [
        "### Custom BRM with at least three dissimilarity measures."
      ]
    },
    {
      "cell_type": "code",
      "metadata": {
        "colab": {
          "base_uri": "https://localhost:8080/"
        },
        "id": "zR2Ra_J0weex",
        "outputId": "8c57bd89-b3f1-4e76-b334-bbadc4c27a3e"
      },
      "source": [
        "apply_classifier(rootDir, BRM_Custom, 'BRMCustom', normalization='Std')"
      ],
      "execution_count": null,
      "outputs": [
        {
          "output_type": "stream",
          "name": "stdout",
          "text": [
            "Implementing BRMCustom ...\n",
            "BRMCustom implemented\n"
          ]
        }
      ]
    },
    {
      "cell_type": "code",
      "metadata": {
        "colab": {
          "base_uri": "https://localhost:8080/"
        },
        "id": "ixM4Vm7Yw7X0",
        "outputId": "4ced7223-851c-45e1-8e59-1c8acd933e2f"
      },
      "source": [
        "apply_classifier(rootDir, BRM_Custom, 'BRMCustom', normalization='Std', brm_custom_dissimilarity_measure='manhattan')"
      ],
      "execution_count": null,
      "outputs": [
        {
          "output_type": "stream",
          "name": "stdout",
          "text": [
            "Implementing BRMCustom ...\n",
            "BRMCustom implemented\n"
          ]
        }
      ]
    },
    {
      "cell_type": "code",
      "metadata": {
        "colab": {
          "base_uri": "https://localhost:8080/"
        },
        "id": "kOxpDKqGxU0N",
        "outputId": "cfe3eec2-4d59-4d3f-ab96-226539016d23"
      },
      "source": [
        "apply_classifier(rootDir, BRM_Custom, 'BRMCustom', normalization='Std', brm_custom_dissimilarity_measure='cosine')"
      ],
      "execution_count": null,
      "outputs": [
        {
          "output_type": "stream",
          "name": "stdout",
          "text": [
            "Implementing BRMCustom ...\n",
            "BRMCustom implemented\n"
          ]
        }
      ]
    },
    {
      "cell_type": "code",
      "metadata": {
        "colab": {
          "base_uri": "https://localhost:8080/"
        },
        "id": "d6bHrspyxWZg",
        "outputId": "355cf0ff-af24-4c5c-b9d1-fd27a4f8995f"
      },
      "source": [
        "apply_classifier(rootDir, BRM_Custom, 'BRMCustom', normalization='Std', brm_custom_dissimilarity_measure='linear')"
      ],
      "execution_count": null,
      "outputs": [
        {
          "output_type": "stream",
          "name": "stdout",
          "text": [
            "Implementing BRMCustom ...\n",
            "BRMCustom implemented\n"
          ]
        }
      ]
    },
    {
      "cell_type": "code",
      "metadata": {
        "id": "HcbCD11V2Q6p"
      },
      "source": [
        "brm_custom_euclidean = pd.read_csv(rootDir + 'BRMCustom_Std_results.csv', index_col=0)\n",
        "brm_custom_manhattan = pd.read_csv(rootDir + 'BRMCustom_Std_manhattan_results.csv', index_col=0)\n",
        "brm_custom_cosine = pd.read_csv(rootDir + 'BRMCustom_Std_cosine_results.csv', index_col=0)\n",
        "brm_custom_linear = pd.read_csv(rootDir + 'BRMCustom_Std_linear_results.csv', index_col=0)"
      ],
      "execution_count": null,
      "outputs": []
    },
    {
      "cell_type": "code",
      "metadata": {
        "colab": {
          "base_uri": "https://localhost:8080/",
          "height": 419
        },
        "id": "Wef9uu3W3b6v",
        "outputId": "3fffa9b5-e0c1-4063-f05e-acaa64637337"
      },
      "source": [
        "brm_custom_std = brm_custom_euclidean\n",
        "brm_custom_std.rename(columns={'AUC': 'AUC_Euclidean'}, inplace=True)\n",
        "brm_custom_std['AUC_Manhattan'] = brm_custom_manhattan.AUC\n",
        "brm_custom_std['AUC_Cosine'] = brm_custom_cosine.AUC\n",
        "brm_custom_std['AUC_Linear'] = brm_custom_linear.AUC\n",
        "brm_custom_std"
      ],
      "execution_count": null,
      "outputs": [
        {
          "output_type": "execute_result",
          "data": {
            "text/html": [
              "<div>\n",
              "<style scoped>\n",
              "    .dataframe tbody tr th:only-of-type {\n",
              "        vertical-align: middle;\n",
              "    }\n",
              "\n",
              "    .dataframe tbody tr th {\n",
              "        vertical-align: top;\n",
              "    }\n",
              "\n",
              "    .dataframe thead th {\n",
              "        text-align: right;\n",
              "    }\n",
              "</style>\n",
              "<table border=\"1\" class=\"dataframe\">\n",
              "  <thead>\n",
              "    <tr style=\"text-align: right;\">\n",
              "      <th></th>\n",
              "      <th>Database</th>\n",
              "      <th>AUC_Euclidean</th>\n",
              "      <th>AUC_Manhattan</th>\n",
              "      <th>AUC_Cosine</th>\n",
              "      <th>AUC_Linear</th>\n",
              "    </tr>\n",
              "  </thead>\n",
              "  <tbody>\n",
              "    <tr>\n",
              "      <th>0</th>\n",
              "      <td>yeast-2_vs_8</td>\n",
              "      <td>0.631720</td>\n",
              "      <td>0.629032</td>\n",
              "      <td>0.672043</td>\n",
              "      <td>0.514785</td>\n",
              "    </tr>\n",
              "    <tr>\n",
              "      <th>1</th>\n",
              "      <td>zoo-3</td>\n",
              "      <td>0.600000</td>\n",
              "      <td>0.675000</td>\n",
              "      <td>0.950000</td>\n",
              "      <td>0.850000</td>\n",
              "    </tr>\n",
              "    <tr>\n",
              "      <th>2</th>\n",
              "      <td>yeast4</td>\n",
              "      <td>0.686586</td>\n",
              "      <td>0.663859</td>\n",
              "      <td>0.829943</td>\n",
              "      <td>0.676573</td>\n",
              "    </tr>\n",
              "    <tr>\n",
              "      <th>3</th>\n",
              "      <td>yeast1</td>\n",
              "      <td>0.526976</td>\n",
              "      <td>0.545437</td>\n",
              "      <td>0.630222</td>\n",
              "      <td>0.505897</td>\n",
              "    </tr>\n",
              "    <tr>\n",
              "      <th>4</th>\n",
              "      <td>yeast3</td>\n",
              "      <td>0.530073</td>\n",
              "      <td>0.522153</td>\n",
              "      <td>0.869490</td>\n",
              "      <td>0.842746</td>\n",
              "    </tr>\n",
              "    <tr>\n",
              "      <th>...</th>\n",
              "      <td>...</td>\n",
              "      <td>...</td>\n",
              "      <td>...</td>\n",
              "      <td>...</td>\n",
              "      <td>...</td>\n",
              "    </tr>\n",
              "    <tr>\n",
              "      <th>90</th>\n",
              "      <td>abalone-21_vs_8</td>\n",
              "      <td>0.989766</td>\n",
              "      <td>0.994152</td>\n",
              "      <td>0.584795</td>\n",
              "      <td>0.530702</td>\n",
              "    </tr>\n",
              "    <tr>\n",
              "      <th>91</th>\n",
              "      <td>abalone-19_vs_10-11-12-13</td>\n",
              "      <td>0.589847</td>\n",
              "      <td>0.566936</td>\n",
              "      <td>0.640162</td>\n",
              "      <td>0.636343</td>\n",
              "    </tr>\n",
              "    <tr>\n",
              "      <th>92</th>\n",
              "      <td>abalone-20_vs_8-9-10</td>\n",
              "      <td>0.844577</td>\n",
              "      <td>0.852072</td>\n",
              "      <td>0.503307</td>\n",
              "      <td>0.584215</td>\n",
              "    </tr>\n",
              "    <tr>\n",
              "      <th>93</th>\n",
              "      <td>abalone-3_vs_11</td>\n",
              "      <td>0.676871</td>\n",
              "      <td>0.714286</td>\n",
              "      <td>0.998299</td>\n",
              "      <td>1.000000</td>\n",
              "    </tr>\n",
              "    <tr>\n",
              "      <th>94</th>\n",
              "      <td>abalone-17_vs_7-8-9-10</td>\n",
              "      <td>0.833699</td>\n",
              "      <td>0.833973</td>\n",
              "      <td>0.581049</td>\n",
              "      <td>0.596491</td>\n",
              "    </tr>\n",
              "  </tbody>\n",
              "</table>\n",
              "<p>95 rows × 5 columns</p>\n",
              "</div>"
            ],
            "text/plain": [
              "                     Database  AUC_Euclidean  ...  AUC_Cosine  AUC_Linear\n",
              "0                yeast-2_vs_8       0.631720  ...    0.672043    0.514785\n",
              "1                       zoo-3       0.600000  ...    0.950000    0.850000\n",
              "2                      yeast4       0.686586  ...    0.829943    0.676573\n",
              "3                      yeast1       0.526976  ...    0.630222    0.505897\n",
              "4                      yeast3       0.530073  ...    0.869490    0.842746\n",
              "..                        ...            ...  ...         ...         ...\n",
              "90            abalone-21_vs_8       0.989766  ...    0.584795    0.530702\n",
              "91  abalone-19_vs_10-11-12-13       0.589847  ...    0.640162    0.636343\n",
              "92       abalone-20_vs_8-9-10       0.844577  ...    0.503307    0.584215\n",
              "93            abalone-3_vs_11       0.676871  ...    0.998299    1.000000\n",
              "94     abalone-17_vs_7-8-9-10       0.833699  ...    0.581049    0.596491\n",
              "\n",
              "[95 rows x 5 columns]"
            ]
          },
          "metadata": {},
          "execution_count": 63
        }
      ]
    },
    {
      "cell_type": "code",
      "metadata": {
        "colab": {
          "base_uri": "https://localhost:8080/",
          "height": 282
        },
        "id": "HkMcrnsA4QEe",
        "outputId": "39b3f3b1-0389-45af-be48-f983826cb67c"
      },
      "source": [
        "brm_custom_std.boxplot(column=['AUC_Euclidean', 'AUC_Manhattan', 'AUC_Cosine', 'AUC_Linear'])\n",
        "plt.title('Standard Scaler')\n",
        "plt.show();"
      ],
      "execution_count": null,
      "outputs": [
        {
          "output_type": "display_data",
          "data": {
            "image/png": "[encoded data removed]",
            "text/plain": [
              "<Figure size 432x288 with 1 Axes>"
            ]
          },
          "metadata": {
            "needs_background": "light"
          }
        }
      ]
    },
    {
      "cell_type": "markdown",
      "metadata": {
        "id": "ykNZYPh0_c76"
      },
      "source": [
        "## Algorithms + Databases + Statistical Tests + Visualizations + Data Transformation + Dissimilarity measure"
      ]
    },
    {
      "cell_type": "markdown",
      "metadata": {
        "id": "cbPf0WbyAS7Q"
      },
      "source": [
        "### Normalization: None"
      ]
    },
    {
      "cell_type": "code",
      "metadata": {
        "colab": {
          "base_uri": "https://localhost:8080/"
        },
        "id": "UAmXYEAg__ie",
        "outputId": "b975613f-09e0-42a9-e359-276256b4e96e"
      },
      "source": [
        "apply_classifier(rootDir, BRM_Custom, 'BRMCustom')"
      ],
      "execution_count": null,
      "outputs": [
        {
          "output_type": "stream",
          "name": "stdout",
          "text": [
            "Implementing BRMCustom ...\n",
            "BRMCustom implemented\n"
          ]
        }
      ]
    },
    {
      "cell_type": "code",
      "metadata": {
        "colab": {
          "base_uri": "https://localhost:8080/"
        },
        "id": "YIYIctnMAR-7",
        "outputId": "955788a3-646d-497c-8454-84cca7be533e"
      },
      "source": [
        "apply_classifier(rootDir, BRM_Custom, 'BRMCustom', brm_custom_dissimilarity_measure='manhattan')"
      ],
      "execution_count": null,
      "outputs": [
        {
          "output_type": "stream",
          "name": "stdout",
          "text": [
            "Implementing BRMCustom ...\n",
            "BRMCustom implemented\n"
          ]
        }
      ]
    },
    {
      "cell_type": "code",
      "metadata": {
        "colab": {
          "base_uri": "https://localhost:8080/"
        },
        "id": "UOMxX-hNAaB9",
        "outputId": "a142a6d3-0555-4722-f3bc-e5f0e93618b9"
      },
      "source": [
        "apply_classifier(rootDir, BRM_Custom, 'BRMCustom', brm_custom_dissimilarity_measure='cosine')"
      ],
      "execution_count": null,
      "outputs": [
        {
          "output_type": "stream",
          "name": "stdout",
          "text": [
            "Implementing BRMCustom ...\n",
            "BRMCustom implemented\n"
          ]
        }
      ]
    },
    {
      "cell_type": "code",
      "metadata": {
        "colab": {
          "base_uri": "https://localhost:8080/"
        },
        "id": "AgGNPluBAd2O",
        "outputId": "5347afbf-a799-445b-b14b-c35f3d15c53d"
      },
      "source": [
        "apply_classifier(rootDir, BRM_Custom, 'BRMCustom', brm_custom_dissimilarity_measure='linear')"
      ],
      "execution_count": null,
      "outputs": [
        {
          "output_type": "stream",
          "name": "stdout",
          "text": [
            "Implementing BRMCustom ...\n",
            "BRMCustom implemented\n"
          ]
        }
      ]
    },
    {
      "cell_type": "code",
      "metadata": {
        "colab": {
          "base_uri": "https://localhost:8080/",
          "height": 419
        },
        "id": "StUHj7Ihp9bG",
        "outputId": "d0c47a70-42dc-42ff-ecbc-c1f71580111a"
      },
      "source": [
        "evaluation = pd.DataFrame()\n",
        "evaluation['BRMCustom_Euclidean_None'] = brm_custom_euclidean_none.AUC\n",
        "evaluation['BRMCustom_Manhattan_None'] = brm_custom_manhattan_none.AUC\n",
        "evaluation['BRMCustom_Cosine_None'] = brm_custom_cosine_none.AUC\n",
        "evaluation['BRMCustom_Linear_None'] = brm_custom_linear_none.AUC\n",
        "evaluation"
      ],
      "execution_count": 198,
      "outputs": [
        {
          "output_type": "execute_result",
          "data": {
            "text/html": [
              "<div>\n",
              "<style scoped>\n",
              "    .dataframe tbody tr th:only-of-type {\n",
              "        vertical-align: middle;\n",
              "    }\n",
              "\n",
              "    .dataframe tbody tr th {\n",
              "        vertical-align: top;\n",
              "    }\n",
              "\n",
              "    .dataframe thead th {\n",
              "        text-align: right;\n",
              "    }\n",
              "</style>\n",
              "<table border=\"1\" class=\"dataframe\">\n",
              "  <thead>\n",
              "    <tr style=\"text-align: right;\">\n",
              "      <th></th>\n",
              "      <th>BRMCustom_Euclidean_None</th>\n",
              "      <th>BRMCustom_Manhattan_None</th>\n",
              "      <th>BRMCustom_Cosine_None</th>\n",
              "      <th>BRMCustom_Linear_None</th>\n",
              "    </tr>\n",
              "  </thead>\n",
              "  <tbody>\n",
              "    <tr>\n",
              "      <th>0</th>\n",
              "      <td>0.629032</td>\n",
              "      <td>0.627688</td>\n",
              "      <td>0.665323</td>\n",
              "      <td>0.514785</td>\n",
              "    </tr>\n",
              "    <tr>\n",
              "      <th>1</th>\n",
              "      <td>0.600000</td>\n",
              "      <td>0.675000</td>\n",
              "      <td>0.950000</td>\n",
              "      <td>0.850000</td>\n",
              "    </tr>\n",
              "    <tr>\n",
              "      <th>2</th>\n",
              "      <td>0.692149</td>\n",
              "      <td>0.669580</td>\n",
              "      <td>0.822314</td>\n",
              "      <td>0.676891</td>\n",
              "    </tr>\n",
              "    <tr>\n",
              "      <th>3</th>\n",
              "      <td>0.526976</td>\n",
              "      <td>0.545657</td>\n",
              "      <td>0.630938</td>\n",
              "      <td>0.507274</td>\n",
              "    </tr>\n",
              "    <tr>\n",
              "      <th>4</th>\n",
              "      <td>0.532140</td>\n",
              "      <td>0.520202</td>\n",
              "      <td>0.870351</td>\n",
              "      <td>0.839474</td>\n",
              "    </tr>\n",
              "    <tr>\n",
              "      <th>...</th>\n",
              "      <td>...</td>\n",
              "      <td>...</td>\n",
              "      <td>...</td>\n",
              "      <td>...</td>\n",
              "    </tr>\n",
              "    <tr>\n",
              "      <th>90</th>\n",
              "      <td>0.992690</td>\n",
              "      <td>0.991228</td>\n",
              "      <td>0.589181</td>\n",
              "      <td>0.514620</td>\n",
              "    </tr>\n",
              "    <tr>\n",
              "      <th>91</th>\n",
              "      <td>0.587601</td>\n",
              "      <td>0.566712</td>\n",
              "      <td>0.640836</td>\n",
              "      <td>0.634546</td>\n",
              "    </tr>\n",
              "    <tr>\n",
              "      <th>92</th>\n",
              "      <td>0.845679</td>\n",
              "      <td>0.853836</td>\n",
              "      <td>0.518078</td>\n",
              "      <td>0.590608</td>\n",
              "    </tr>\n",
              "    <tr>\n",
              "      <th>93</th>\n",
              "      <td>0.673469</td>\n",
              "      <td>0.709184</td>\n",
              "      <td>1.000000</td>\n",
              "      <td>1.000000</td>\n",
              "    </tr>\n",
              "    <tr>\n",
              "      <th>94</th>\n",
              "      <td>0.830409</td>\n",
              "      <td>0.833882</td>\n",
              "      <td>0.580501</td>\n",
              "      <td>0.596948</td>\n",
              "    </tr>\n",
              "  </tbody>\n",
              "</table>\n",
              "<p>95 rows × 4 columns</p>\n",
              "</div>"
            ],
            "text/plain": [
              "    BRMCustom_Euclidean_None  ...  BRMCustom_Linear_None\n",
              "0                   0.629032  ...               0.514785\n",
              "1                   0.600000  ...               0.850000\n",
              "2                   0.692149  ...               0.676891\n",
              "3                   0.526976  ...               0.507274\n",
              "4                   0.532140  ...               0.839474\n",
              "..                       ...  ...                    ...\n",
              "90                  0.992690  ...               0.514620\n",
              "91                  0.587601  ...               0.634546\n",
              "92                  0.845679  ...               0.590608\n",
              "93                  0.673469  ...               1.000000\n",
              "94                  0.830409  ...               0.596948\n",
              "\n",
              "[95 rows x 4 columns]"
            ]
          },
          "metadata": {},
          "execution_count": 198
        }
      ]
    },
    {
      "cell_type": "code",
      "metadata": {
        "colab": {
          "base_uri": "https://localhost:8080/",
          "height": 369
        },
        "id": "4kvcjpiqpW2o",
        "outputId": "d2926558-4d0b-4d34-fa1e-e79b3a2afbb3"
      },
      "source": [
        "evaluation.boxplot()\n",
        "plt.xticks(rotation=45);"
      ],
      "execution_count": 202,
      "outputs": [
        {
          "output_type": "display_data",
          "data": {
            "image/png": "[encoded data removed]",
            "text/plain": [
              "<Figure size 432x288 with 1 Axes>"
            ]
          },
          "metadata": {
            "needs_background": "light"
          }
        }
      ]
    },
    {
      "cell_type": "markdown",
      "metadata": {
        "id": "Gqo1JUWeBYWQ"
      },
      "source": [
        "#### Friedman's test"
      ]
    },
    {
      "cell_type": "code",
      "metadata": {
        "id": "raq11NFqB3E-"
      },
      "source": [
        "brm_custom_euclidean_none = pd.read_csv(rootDir + 'BRMCustom_None_euclidean_results.csv', index_col=0)\n",
        "brm_custom_manhattan_none = pd.read_csv(rootDir + 'BRMCustom_None_manhattan_results.csv', index_col=0)\n",
        "brm_custom_cosine_none = pd.read_csv(rootDir + 'BRMCustom_None_cosine_results.csv', index_col=0)\n",
        "brm_custom_linear_none = pd.read_csv(rootDir + 'BRMCustom_None_linear_results.csv', index_col=0)"
      ],
      "execution_count": null,
      "outputs": []
    },
    {
      "cell_type": "code",
      "metadata": {
        "colab": {
          "base_uri": "https://localhost:8080/"
        },
        "id": "DoZ-Knr4BaMd",
        "outputId": "696cab98-8fa4-4f20-a7d9-cb4e5802f7ba"
      },
      "source": [
        "alpha = 0.05 # significance level\n",
        "\n",
        "result = st.friedmanchisquare(final_df.AUC_OneClassSVM_None, final_df.AUC_IsolationForest_None, final_df.AUC_GaussianMixture_None, brm_custom_euclidean_none.AUC,\n",
        "                              brm_custom_manhattan_none.AUC, brm_custom_cosine_none.AUC, brm_custom_linear_none.AUC)\n",
        "result"
      ],
      "execution_count": null,
      "outputs": [
        {
          "output_type": "execute_result",
          "data": {
            "text/plain": [
              "FriedmanchisquareResult(statistic=7.262021961378392, pvalue=0.29729391018232243)"
            ]
          },
          "metadata": {},
          "execution_count": 71
        }
      ]
    },
    {
      "cell_type": "code",
      "metadata": {
        "colab": {
          "base_uri": "https://localhost:8080/"
        },
        "id": "feA-ou2YCZRx",
        "outputId": "20e5b123-f18c-426f-a3d4-d6e6006163c5"
      },
      "source": [
        "if result.pvalue < alpha:\n",
        "  print(\"We can reject the null hypothesis: so the results obtained by all the tested classifiers, in all the databases, are not similar statistically. Therefore, we can proceed with a post-hoc test.\")\n",
        "else:\n",
        "  print(\"We can accept the null hypothesis: so the results obtained by all the tested classifiers, in all the databases, are similar statistically.\")"
      ],
      "execution_count": null,
      "outputs": [
        {
          "output_type": "stream",
          "name": "stdout",
          "text": [
            "We can accept the null hypothesis: so the results obtained by all the tested classifiers, in all the databases, are similar statistically.\n"
          ]
        }
      ]
    },
    {
      "cell_type": "code",
      "metadata": {
        "id": "JtklvOp8DSfR"
      },
      "source": [
        "auc_data_none = {\n",
        "    'AUC_OneClass_SVM_None': final_df.AUC_OneClassSVM_None,\n",
        "    'AUC_Isolation_Forest_None': final_df.AUC_IsolationForest_None,\n",
        "    'AUC_Gaussian_Mixture_None': final_df.AUC_GaussianMixture_None,\n",
        "    'AUC_BRM_None': brm_custom_euclidean_none.AUC,\n",
        "    'AUC_BRM_Manhattan_None': brm_custom_manhattan_none.AUC,\n",
        "    'AUC_BRM_Cosine_None': brm_custom_cosine_none.AUC,\n",
        "    'AUC_BRM_Linear_None': brm_custom_linear_none.AUC,\n",
        "}"
      ],
      "execution_count": null,
      "outputs": []
    },
    {
      "cell_type": "code",
      "metadata": {
        "colab": {
          "base_uri": "https://localhost:8080/"
        },
        "id": "LSUjQbPZFQHD",
        "outputId": "09796969-19a2-4a31-c63d-322f715bdc6f"
      },
      "source": [
        "rankings_avg = friedman_test(*auc_data_none.values())\n",
        "rankings_avg"
      ],
      "execution_count": null,
      "outputs": [
        {
          "output_type": "stream",
          "name": "stderr",
          "text": [
            "/usr/local/lib/python3.7/dist-packages/ipykernel_launcher.py:44: DeprecationWarning: Calling np.sum(generator) is deprecated, and in the future will give a different result. Use np.sum(np.fromiter(generator)) or the python sum builtin instead.\n"
          ]
        },
        {
          "output_type": "execute_result",
          "data": {
            "text/plain": [
              "[3.963157894736842,\n",
              " 4.457894736842105,\n",
              " 4.121052631578947,\n",
              " 3.836842105263158,\n",
              " 4.005263157894737,\n",
              " 3.9263157894736844,\n",
              " 3.6894736842105265]"
            ]
          },
          "metadata": {},
          "execution_count": 74
        }
      ]
    },
    {
      "cell_type": "markdown",
      "metadata": {
        "id": "kXhdFFoQFulm"
      },
      "source": [
        "#### Post-hoc test"
      ]
    },
    {
      "cell_type": "code",
      "metadata": {
        "id": "yej-k8MdGK0b"
      },
      "source": [
        "data = []\n",
        "\n",
        "for key, values in auc_data_none.items():\n",
        "    data.append(values)\n",
        "\n",
        "data = np.array(data)"
      ],
      "execution_count": null,
      "outputs": []
    },
    {
      "cell_type": "code",
      "metadata": {
        "colab": {
          "base_uri": "https://localhost:8080/",
          "height": 266
        },
        "id": "Ov-vCWiUFw4_",
        "outputId": "a67afe97-e2a7-4365-ac88-2c9d33d5364b"
      },
      "source": [
        "p_values = sp.posthoc_nemenyi_friedman(data.T)\n",
        "p_values"
      ],
      "execution_count": null,
      "outputs": [
        {
          "output_type": "execute_result",
          "data": {
            "text/html": [
              "<div>\n",
              "<style scoped>\n",
              "    .dataframe tbody tr th:only-of-type {\n",
              "        vertical-align: middle;\n",
              "    }\n",
              "\n",
              "    .dataframe tbody tr th {\n",
              "        vertical-align: top;\n",
              "    }\n",
              "\n",
              "    .dataframe thead th {\n",
              "        text-align: right;\n",
              "    }\n",
              "</style>\n",
              "<table border=\"1\" class=\"dataframe\">\n",
              "  <thead>\n",
              "    <tr style=\"text-align: right;\">\n",
              "      <th></th>\n",
              "      <th>0</th>\n",
              "      <th>1</th>\n",
              "      <th>2</th>\n",
              "      <th>3</th>\n",
              "      <th>4</th>\n",
              "      <th>5</th>\n",
              "      <th>6</th>\n",
              "    </tr>\n",
              "  </thead>\n",
              "  <tbody>\n",
              "    <tr>\n",
              "      <th>0</th>\n",
              "      <td>1.000000</td>\n",
              "      <td>0.671378</td>\n",
              "      <td>0.900000</td>\n",
              "      <td>0.900000</td>\n",
              "      <td>0.900000</td>\n",
              "      <td>0.900000</td>\n",
              "      <td>0.900000</td>\n",
              "    </tr>\n",
              "    <tr>\n",
              "      <th>1</th>\n",
              "      <td>0.671378</td>\n",
              "      <td>1.000000</td>\n",
              "      <td>0.900000</td>\n",
              "      <td>0.428876</td>\n",
              "      <td>0.750367</td>\n",
              "      <td>0.602262</td>\n",
              "      <td>0.177117</td>\n",
              "    </tr>\n",
              "    <tr>\n",
              "      <th>2</th>\n",
              "      <td>0.900000</td>\n",
              "      <td>0.900000</td>\n",
              "      <td>1.000000</td>\n",
              "      <td>0.900000</td>\n",
              "      <td>0.900000</td>\n",
              "      <td>0.900000</td>\n",
              "      <td>0.789862</td>\n",
              "    </tr>\n",
              "    <tr>\n",
              "      <th>3</th>\n",
              "      <td>0.900000</td>\n",
              "      <td>0.428876</td>\n",
              "      <td>0.900000</td>\n",
              "      <td>1.000000</td>\n",
              "      <td>0.900000</td>\n",
              "      <td>0.900000</td>\n",
              "      <td>0.900000</td>\n",
              "    </tr>\n",
              "    <tr>\n",
              "      <th>4</th>\n",
              "      <td>0.900000</td>\n",
              "      <td>0.750367</td>\n",
              "      <td>0.900000</td>\n",
              "      <td>0.900000</td>\n",
              "      <td>1.000000</td>\n",
              "      <td>0.900000</td>\n",
              "      <td>0.900000</td>\n",
              "    </tr>\n",
              "    <tr>\n",
              "      <th>5</th>\n",
              "      <td>0.900000</td>\n",
              "      <td>0.602262</td>\n",
              "      <td>0.900000</td>\n",
              "      <td>0.900000</td>\n",
              "      <td>0.900000</td>\n",
              "      <td>1.000000</td>\n",
              "      <td>0.900000</td>\n",
              "    </tr>\n",
              "    <tr>\n",
              "      <th>6</th>\n",
              "      <td>0.900000</td>\n",
              "      <td>0.177117</td>\n",
              "      <td>0.789862</td>\n",
              "      <td>0.900000</td>\n",
              "      <td>0.900000</td>\n",
              "      <td>0.900000</td>\n",
              "      <td>1.000000</td>\n",
              "    </tr>\n",
              "  </tbody>\n",
              "</table>\n",
              "</div>"
            ],
            "text/plain": [
              "          0         1         2         3         4         5         6\n",
              "0  1.000000  0.671378  0.900000  0.900000  0.900000  0.900000  0.900000\n",
              "1  0.671378  1.000000  0.900000  0.428876  0.750367  0.602262  0.177117\n",
              "2  0.900000  0.900000  1.000000  0.900000  0.900000  0.900000  0.789862\n",
              "3  0.900000  0.428876  0.900000  1.000000  0.900000  0.900000  0.900000\n",
              "4  0.900000  0.750367  0.900000  0.900000  1.000000  0.900000  0.900000\n",
              "5  0.900000  0.602262  0.900000  0.900000  0.900000  1.000000  0.900000\n",
              "6  0.900000  0.177117  0.789862  0.900000  0.900000  0.900000  1.000000"
            ]
          },
          "metadata": {},
          "execution_count": 77
        }
      ]
    },
    {
      "cell_type": "code",
      "metadata": {
        "colab": {
          "base_uri": "https://localhost:8080/"
        },
        "id": "DlokXr4vGb7-",
        "outputId": "92082e5c-054a-43bf-ecdf-7676ab42abde"
      },
      "source": [
        "ranks = {key: rankings_avg[i] for i, key in enumerate(auc_data_none.keys())}\n",
        "ranks"
      ],
      "execution_count": null,
      "outputs": [
        {
          "output_type": "execute_result",
          "data": {
            "text/plain": [
              "{'AUC_BRM_Cosine_None': 3.9263157894736844,\n",
              " 'AUC_BRM_Linear_None': 3.6894736842105265,\n",
              " 'AUC_BRM_Manhattan_None': 4.005263157894737,\n",
              " 'AUC_BRM_None': 3.836842105263158,\n",
              " 'AUC_Gaussian_Mixture_None': 4.121052631578947,\n",
              " 'AUC_Isolation_Forest_None': 4.457894736842105,\n",
              " 'AUC_OneClass_SVM_None': 3.963157894736842}"
            ]
          },
          "metadata": {},
          "execution_count": 78
        }
      ]
    },
    {
      "cell_type": "code",
      "metadata": {
        "colab": {
          "base_uri": "https://localhost:8080/"
        },
        "id": "AF66JLjfGhni",
        "outputId": "b4178d29-92fa-40c0-d498-498761ec1392"
      },
      "source": [
        "comparisons, z_values, p_values, adj_p_values = shaffer_multitest(ranks)\n",
        "comparisons, z_values, p_values, adj_p_values"
      ],
      "execution_count": null,
      "outputs": [
        {
          "output_type": "execute_result",
          "data": {
            "text/plain": [
              "(['AUC_Isolation_Forest_None vs AUC_BRM_Linear_None',\n",
              "  'AUC_Isolation_Forest_None vs AUC_BRM_None',\n",
              "  'AUC_Isolation_Forest_None vs AUC_BRM_Cosine_None',\n",
              "  'AUC_OneClass_SVM_None vs AUC_Isolation_Forest_None',\n",
              "  'AUC_Isolation_Forest_None vs AUC_BRM_Manhattan_None',\n",
              "  'AUC_Gaussian_Mixture_None vs AUC_BRM_Linear_None',\n",
              "  'AUC_Isolation_Forest_None vs AUC_Gaussian_Mixture_None',\n",
              "  'AUC_BRM_Manhattan_None vs AUC_BRM_Linear_None',\n",
              "  'AUC_Gaussian_Mixture_None vs AUC_BRM_None',\n",
              "  'AUC_OneClass_SVM_None vs AUC_BRM_Linear_None',\n",
              "  'AUC_BRM_Cosine_None vs AUC_BRM_Linear_None',\n",
              "  'AUC_Gaussian_Mixture_None vs AUC_BRM_Cosine_None',\n",
              "  'AUC_BRM_None vs AUC_BRM_Manhattan_None',\n",
              "  'AUC_OneClass_SVM_None vs AUC_Gaussian_Mixture_None',\n",
              "  'AUC_BRM_None vs AUC_BRM_Linear_None',\n",
              "  'AUC_OneClass_SVM_None vs AUC_BRM_None',\n",
              "  'AUC_Gaussian_Mixture_None vs AUC_BRM_Manhattan_None',\n",
              "  'AUC_BRM_None vs AUC_BRM_Cosine_None',\n",
              "  'AUC_BRM_Manhattan_None vs AUC_BRM_Cosine_None',\n",
              "  'AUC_OneClass_SVM_None vs AUC_BRM_Manhattan_None',\n",
              "  'AUC_OneClass_SVM_None vs AUC_BRM_Cosine_None'],\n",
              " [0.7684210526315787,\n",
              "  0.6210526315789471,\n",
              "  0.5315789473684207,\n",
              "  0.4947368421052629,\n",
              "  0.4526315789473685,\n",
              "  0.4315789473684206,\n",
              "  0.33684210526315805,\n",
              "  0.3157894736842102,\n",
              "  0.284210526315789,\n",
              "  0.27368421052631575,\n",
              "  0.23684210526315796,\n",
              "  0.19473684210526265,\n",
              "  0.16842105263157858,\n",
              "  0.15789473684210487,\n",
              "  0.1473684210526316,\n",
              "  0.12631578947368416,\n",
              "  0.11578947368421044,\n",
              "  0.08947368421052637,\n",
              "  0.07894736842105221,\n",
              "  0.042105263157894424,\n",
              "  0.03684210526315779],\n",
              " [0.4422370769056898,\n",
              "  0.5345649942949144,\n",
              "  0.5950176490062933,\n",
              "  0.620785891647925,\n",
              "  0.6508140555177435,\n",
              "  0.6660474622243915,\n",
              "  0.7362359305524098,\n",
              "  0.7521623083780542,\n",
              "  0.7762490491181451,\n",
              "  0.7843273128115062,\n",
              "  0.8127792854081952,\n",
              "  0.8455989681888161,\n",
              "  0.8662520470606498,\n",
              "  0.8745397454328061,\n",
              "  0.8828412296988473,\n",
              "  0.899481958176398,\n",
              "  0.9078193931820502,\n",
              "  0.9287054666442094,\n",
              "  0.9370744862382197,\n",
              "  0.9664147845002378,\n",
              "  0.9706109016767177],\n",
              " [1, 1, 1, 1, 1, 1, 1, 1, 1, 1, 1, 1, 1, 1, 1, 1, 1, 1, 1, 1, 1])"
            ]
          },
          "metadata": {},
          "execution_count": 79
        }
      ]
    },
    {
      "cell_type": "code",
      "metadata": {
        "colab": {
          "base_uri": "https://localhost:8080/"
        },
        "id": "EeBzr7oCGleZ",
        "outputId": "184991b7-6f1a-4ed3-ff7e-9ba057dcdc0c"
      },
      "source": [
        "comparisons, z_values, p_values, adj_p_values = nemenyi_multitest(ranks)\n",
        "comparisons, z_values, p_values, adj_p_values"
      ],
      "execution_count": null,
      "outputs": [
        {
          "output_type": "execute_result",
          "data": {
            "text/plain": [
              "(['AUC_OneClass_SVM_None vs AUC_Isolation_Forest_None',\n",
              "  'AUC_OneClass_SVM_None vs AUC_Gaussian_Mixture_None',\n",
              "  'AUC_OneClass_SVM_None vs AUC_BRM_None',\n",
              "  'AUC_OneClass_SVM_None vs AUC_BRM_Manhattan_None',\n",
              "  'AUC_OneClass_SVM_None vs AUC_BRM_Cosine_None',\n",
              "  'AUC_OneClass_SVM_None vs AUC_BRM_Linear_None',\n",
              "  'AUC_Isolation_Forest_None vs AUC_Gaussian_Mixture_None',\n",
              "  'AUC_Isolation_Forest_None vs AUC_BRM_None',\n",
              "  'AUC_Isolation_Forest_None vs AUC_BRM_Manhattan_None',\n",
              "  'AUC_Isolation_Forest_None vs AUC_BRM_Cosine_None',\n",
              "  'AUC_Isolation_Forest_None vs AUC_BRM_Linear_None',\n",
              "  'AUC_Gaussian_Mixture_None vs AUC_BRM_None',\n",
              "  'AUC_Gaussian_Mixture_None vs AUC_BRM_Manhattan_None',\n",
              "  'AUC_Gaussian_Mixture_None vs AUC_BRM_Cosine_None',\n",
              "  'AUC_Gaussian_Mixture_None vs AUC_BRM_Linear_None',\n",
              "  'AUC_BRM_None vs AUC_BRM_Manhattan_None',\n",
              "  'AUC_BRM_None vs AUC_BRM_Cosine_None',\n",
              "  'AUC_BRM_None vs AUC_BRM_Linear_None',\n",
              "  'AUC_BRM_Manhattan_None vs AUC_BRM_Cosine_None',\n",
              "  'AUC_BRM_Manhattan_None vs AUC_BRM_Linear_None',\n",
              "  'AUC_BRM_Cosine_None vs AUC_BRM_Linear_None'],\n",
              " [0.4947368421052629,\n",
              "  0.15789473684210487,\n",
              "  0.12631578947368416,\n",
              "  0.042105263157894424,\n",
              "  0.03684210526315779,\n",
              "  0.27368421052631575,\n",
              "  0.33684210526315805,\n",
              "  0.6210526315789471,\n",
              "  0.4526315789473685,\n",
              "  0.5315789473684207,\n",
              "  0.7684210526315787,\n",
              "  0.284210526315789,\n",
              "  0.11578947368421044,\n",
              "  0.19473684210526265,\n",
              "  0.4315789473684206,\n",
              "  0.16842105263157858,\n",
              "  0.08947368421052637,\n",
              "  0.1473684210526316,\n",
              "  0.07894736842105221,\n",
              "  0.3157894736842102,\n",
              "  0.23684210526315796],\n",
              " [0.620785891647925,\n",
              "  0.8745397454328061,\n",
              "  0.899481958176398,\n",
              "  0.9664147845002378,\n",
              "  0.9706109016767177,\n",
              "  0.7843273128115062,\n",
              "  0.7362359305524098,\n",
              "  0.5345649942949144,\n",
              "  0.6508140555177435,\n",
              "  0.5950176490062933,\n",
              "  0.4422370769056898,\n",
              "  0.7762490491181451,\n",
              "  0.9078193931820502,\n",
              "  0.8455989681888161,\n",
              "  0.6660474622243915,\n",
              "  0.8662520470606498,\n",
              "  0.9287054666442094,\n",
              "  0.8828412296988473,\n",
              "  0.9370744862382197,\n",
              "  0.7521623083780542,\n",
              "  0.8127792854081952],\n",
              " [1, 1, 1, 1, 1, 1, 1, 1, 1, 1, 1, 1, 1, 1, 1, 1, 1, 1, 1, 1, 1])"
            ]
          },
          "metadata": {},
          "execution_count": 80
        }
      ]
    },
    {
      "cell_type": "markdown",
      "metadata": {
        "id": "RBk8pIDuGtAe"
      },
      "source": [
        "### Critical Difference Diagram"
      ]
    },
    {
      "cell_type": "code",
      "metadata": {
        "id": "kfj6Wg1UG1yc"
      },
      "source": [
        "names = []\n",
        "\n",
        "for key, values in auc_data_none.items():\n",
        "    names.append(key)\n",
        "\n",
        "avranks = []\n",
        "for i in rankings_avg:\n",
        "  avranks.append(i)"
      ],
      "execution_count": null,
      "outputs": []
    },
    {
      "cell_type": "code",
      "metadata": {
        "colab": {
          "base_uri": "https://localhost:8080/",
          "height": 164
        },
        "id": "UgzusSY9Gvml",
        "outputId": "1e8cb788-5705-4812-8b15-85f9fa2c879a"
      },
      "source": [
        "import Orange\n",
        "\n",
        "cd = Orange.evaluation.compute_CD(avranks, final_df.shape[0])\n",
        "Orange.evaluation.graph_ranks(np.array(avranks), np.array(names), cd=cd, width=6, textspace=1.5)\n",
        "plt.show();"
      ],
      "execution_count": null,
      "outputs": [
        {
          "output_type": "display_data",
          "data": {
            "image/png": "[encoded data removed]",
            "text/plain": [
              "<Figure size 432x133.2 with 1 Axes>"
            ]
          },
          "metadata": {}
        }
      ]
    },
    {
      "cell_type": "markdown",
      "metadata": {
        "id": "yOcDukagAnMq"
      },
      "source": [
        "### Normalization: MinMax"
      ]
    },
    {
      "cell_type": "code",
      "metadata": {
        "colab": {
          "base_uri": "https://localhost:8080/"
        },
        "id": "iVyOhvYPAorr",
        "outputId": "b79dc2dd-294b-4224-8269-ebd3ec483001"
      },
      "source": [
        "apply_classifier(rootDir, BRM_Custom, 'BRMCustom', normalization='MinMax')"
      ],
      "execution_count": null,
      "outputs": [
        {
          "output_type": "stream",
          "name": "stdout",
          "text": [
            "Implementing BRMCustom ...\n",
            "BRMCustom implemented\n"
          ]
        }
      ]
    },
    {
      "cell_type": "code",
      "metadata": {
        "colab": {
          "base_uri": "https://localhost:8080/"
        },
        "id": "IYfFzV8qAt2o",
        "outputId": "165fb0b9-f54e-4a2f-d95a-d2087ac7007c"
      },
      "source": [
        "apply_classifier(rootDir, BRM_Custom, 'BRMCustom', normalization='MinMax', brm_custom_dissimilarity_measure='manhattan')"
      ],
      "execution_count": null,
      "outputs": [
        {
          "output_type": "stream",
          "name": "stdout",
          "text": [
            "Implementing BRMCustom ...\n",
            "BRMCustom implemented\n"
          ]
        }
      ]
    },
    {
      "cell_type": "code",
      "metadata": {
        "colab": {
          "base_uri": "https://localhost:8080/"
        },
        "id": "EFkKSyJxAwhb",
        "outputId": "2c024aff-8198-4a7d-d7a2-8c03d5a2d3e6"
      },
      "source": [
        "apply_classifier(rootDir, BRM_Custom, 'BRMCustom', normalization='MinMax', brm_custom_dissimilarity_measure='cosine')"
      ],
      "execution_count": null,
      "outputs": [
        {
          "output_type": "stream",
          "name": "stdout",
          "text": [
            "Implementing BRMCustom ...\n",
            "BRMCustom implemented\n"
          ]
        }
      ]
    },
    {
      "cell_type": "code",
      "metadata": {
        "colab": {
          "base_uri": "https://localhost:8080/"
        },
        "id": "MV-ltOWZAy9x",
        "outputId": "9da4f544-d687-4648-9588-d366dc0660bb"
      },
      "source": [
        "apply_classifier(rootDir, BRM_Custom, 'BRMCustom', normalization='MinMax', brm_custom_dissimilarity_measure='linear')"
      ],
      "execution_count": null,
      "outputs": [
        {
          "output_type": "stream",
          "name": "stdout",
          "text": [
            "Implementing BRMCustom ...\n",
            "BRMCustom implemented\n"
          ]
        }
      ]
    },
    {
      "cell_type": "code",
      "metadata": {
        "colab": {
          "base_uri": "https://localhost:8080/",
          "height": 419
        },
        "id": "95KX0Tjdqsr3",
        "outputId": "b48a53c7-ccea-4e6c-b828-720064f08400"
      },
      "source": [
        "evaluation = pd.DataFrame()\n",
        "evaluation['BRMCustom_Euclidean_MinMax'] = brm_custom_euclidean_minmax.AUC\n",
        "evaluation['BRMCustom_Manhattan_MinMax'] = brm_custom_manhattan_minmax.AUC\n",
        "evaluation['BRMCustom_Cosine_MinMax'] = brm_custom_cosine_minmax.AUC\n",
        "evaluation['BRMCustom_Linear_MinMax'] = brm_custom_linear_minmax.AUC\n",
        "evaluation"
      ],
      "execution_count": 203,
      "outputs": [
        {
          "output_type": "execute_result",
          "data": {
            "text/html": [
              "<div>\n",
              "<style scoped>\n",
              "    .dataframe tbody tr th:only-of-type {\n",
              "        vertical-align: middle;\n",
              "    }\n",
              "\n",
              "    .dataframe tbody tr th {\n",
              "        vertical-align: top;\n",
              "    }\n",
              "\n",
              "    .dataframe thead th {\n",
              "        text-align: right;\n",
              "    }\n",
              "</style>\n",
              "<table border=\"1\" class=\"dataframe\">\n",
              "  <thead>\n",
              "    <tr style=\"text-align: right;\">\n",
              "      <th></th>\n",
              "      <th>BRMCustom_Euclidean_MinMax</th>\n",
              "      <th>BRMCustom_Manhattan_MinMax</th>\n",
              "      <th>BRMCustom_Cosine_MinMax</th>\n",
              "      <th>BRMCustom_Linear_MinMax</th>\n",
              "    </tr>\n",
              "  </thead>\n",
              "  <tbody>\n",
              "    <tr>\n",
              "      <th>0</th>\n",
              "      <td>0.626344</td>\n",
              "      <td>0.631720</td>\n",
              "      <td>0.672043</td>\n",
              "      <td>0.516129</td>\n",
              "    </tr>\n",
              "    <tr>\n",
              "      <th>1</th>\n",
              "      <td>0.575000</td>\n",
              "      <td>0.700000</td>\n",
              "      <td>0.950000</td>\n",
              "      <td>0.850000</td>\n",
              "    </tr>\n",
              "    <tr>\n",
              "      <th>2</th>\n",
              "      <td>0.682613</td>\n",
              "      <td>0.668627</td>\n",
              "      <td>0.823109</td>\n",
              "      <td>0.680229</td>\n",
              "    </tr>\n",
              "    <tr>\n",
              "      <th>3</th>\n",
              "      <td>0.527279</td>\n",
              "      <td>0.543205</td>\n",
              "      <td>0.637827</td>\n",
              "      <td>0.506861</td>\n",
              "    </tr>\n",
              "    <tr>\n",
              "      <th>4</th>\n",
              "      <td>0.534780</td>\n",
              "      <td>0.523875</td>\n",
              "      <td>0.880337</td>\n",
              "      <td>0.840909</td>\n",
              "    </tr>\n",
              "    <tr>\n",
              "      <th>...</th>\n",
              "      <td>...</td>\n",
              "      <td>...</td>\n",
              "      <td>...</td>\n",
              "      <td>...</td>\n",
              "    </tr>\n",
              "    <tr>\n",
              "      <th>90</th>\n",
              "      <td>0.991228</td>\n",
              "      <td>0.994152</td>\n",
              "      <td>0.584795</td>\n",
              "      <td>0.513158</td>\n",
              "    </tr>\n",
              "    <tr>\n",
              "      <th>91</th>\n",
              "      <td>0.592767</td>\n",
              "      <td>0.577044</td>\n",
              "      <td>0.644654</td>\n",
              "      <td>0.635669</td>\n",
              "    </tr>\n",
              "    <tr>\n",
              "      <th>92</th>\n",
              "      <td>0.847884</td>\n",
              "      <td>0.854497</td>\n",
              "      <td>0.508157</td>\n",
              "      <td>0.587522</td>\n",
              "    </tr>\n",
              "    <tr>\n",
              "      <th>93</th>\n",
              "      <td>0.688776</td>\n",
              "      <td>0.702381</td>\n",
              "      <td>0.989796</td>\n",
              "      <td>0.998299</td>\n",
              "    </tr>\n",
              "    <tr>\n",
              "      <th>94</th>\n",
              "      <td>0.834247</td>\n",
              "      <td>0.834887</td>\n",
              "      <td>0.581323</td>\n",
              "      <td>0.595212</td>\n",
              "    </tr>\n",
              "  </tbody>\n",
              "</table>\n",
              "<p>95 rows × 4 columns</p>\n",
              "</div>"
            ],
            "text/plain": [
              "    BRMCustom_Euclidean_MinMax  ...  BRMCustom_Linear_MinMax\n",
              "0                     0.626344  ...                 0.516129\n",
              "1                     0.575000  ...                 0.850000\n",
              "2                     0.682613  ...                 0.680229\n",
              "3                     0.527279  ...                 0.506861\n",
              "4                     0.534780  ...                 0.840909\n",
              "..                         ...  ...                      ...\n",
              "90                    0.991228  ...                 0.513158\n",
              "91                    0.592767  ...                 0.635669\n",
              "92                    0.847884  ...                 0.587522\n",
              "93                    0.688776  ...                 0.998299\n",
              "94                    0.834247  ...                 0.595212\n",
              "\n",
              "[95 rows x 4 columns]"
            ]
          },
          "metadata": {},
          "execution_count": 203
        }
      ]
    },
    {
      "cell_type": "code",
      "metadata": {
        "colab": {
          "base_uri": "https://localhost:8080/",
          "height": 378
        },
        "id": "Dhk1osn9qy-g",
        "outputId": "de669fbc-c9a2-481e-c1d2-d990b27cac41"
      },
      "source": [
        "evaluation.boxplot()\n",
        "plt.xticks(rotation=45);"
      ],
      "execution_count": 204,
      "outputs": [
        {
          "output_type": "display_data",
          "data": {
            "image/png": "[encoded data removed]",
            "text/plain": [
              "<Figure size 432x288 with 1 Axes>"
            ]
          },
          "metadata": {
            "needs_background": "light"
          }
        }
      ]
    },
    {
      "cell_type": "markdown",
      "metadata": {
        "id": "TcImOXK7HhYF"
      },
      "source": [
        "#### Friedman's Test"
      ]
    },
    {
      "cell_type": "code",
      "metadata": {
        "id": "Lsw_YVIrHknE"
      },
      "source": [
        "brm_custom_euclidean_minmax = pd.read_csv(rootDir + 'BRMCustom_MinMax_euclidean_results.csv', index_col=0)\n",
        "brm_custom_manhattan_minmax = pd.read_csv(rootDir + 'BRMCustom_MinMax_manhattan_results.csv', index_col=0)\n",
        "brm_custom_cosine_minmax = pd.read_csv(rootDir + 'BRMCustom_MinMax_cosine_results.csv', index_col=0)\n",
        "brm_custom_linear_minmax = pd.read_csv(rootDir + 'BRMCustom_MinMax_linear_results.csv', index_col=0)"
      ],
      "execution_count": null,
      "outputs": []
    },
    {
      "cell_type": "code",
      "metadata": {
        "colab": {
          "base_uri": "https://localhost:8080/"
        },
        "id": "PyoKOxzQHueJ",
        "outputId": "4543cbe6-456f-4fc2-c617-9f2196952b02"
      },
      "source": [
        "alpha = 0.05 # significance level\n",
        "\n",
        "result = st.friedmanchisquare(final_df.AUC_OneClassSVM_MinMax, final_df.AUC_IsolationForest_MinMax, final_df.AUC_GaussianMixture_MinMax, brm_custom_euclidean_minmax.AUC,\n",
        "                              brm_custom_manhattan_minmax.AUC, brm_custom_cosine_minmax.AUC, brm_custom_linear_minmax.AUC)\n",
        "result"
      ],
      "execution_count": null,
      "outputs": [
        {
          "output_type": "execute_result",
          "data": {
            "text/plain": [
              "FriedmanchisquareResult(statistic=8.56931818181811, pvalue=0.1992869836178508)"
            ]
          },
          "metadata": {},
          "execution_count": 105
        }
      ]
    },
    {
      "cell_type": "code",
      "metadata": {
        "colab": {
          "base_uri": "https://localhost:8080/"
        },
        "id": "CNPgzKNKH22A",
        "outputId": "fec86e80-6af1-4f41-e691-ba77062e35bf"
      },
      "source": [
        "if result.pvalue < alpha:\n",
        "  print(\"We can reject the null hypothesis: so the results obtained by all the tested classifiers, in all the databases, are not similar statistically. Therefore, we can proceed with a post-hoc test.\")\n",
        "else:\n",
        "  print(\"We can accept the null hypothesis: so the results obtained by all the tested classifiers, in all the databases, are similar statistically.\")"
      ],
      "execution_count": null,
      "outputs": [
        {
          "output_type": "stream",
          "name": "stdout",
          "text": [
            "We can accept the null hypothesis: so the results obtained by all the tested classifiers, in all the databases, are similar statistically.\n"
          ]
        }
      ]
    },
    {
      "cell_type": "code",
      "metadata": {
        "id": "PmAbv2yJH5WK"
      },
      "source": [
        "auc_data_minmax = {\n",
        "    'AUC_OneClass_SVM_MinMax': final_df.AUC_OneClassSVM_MinMax,\n",
        "    'AUC_Isolation_Forest_MinMax': final_df.AUC_IsolationForest_MinMax,\n",
        "    'AUC_Gaussian_Mixture_MinMax': final_df.AUC_GaussianMixture_MinMax,\n",
        "    'AUC_BRM_MinMax': brm_custom_euclidean_minmax.AUC,\n",
        "    'AUC_BRM_Manhattan_MinMax': brm_custom_manhattan_minmax.AUC,\n",
        "    'AUC_BRM_Cosine_MinMax': brm_custom_cosine_minmax.AUC,\n",
        "    'AUC_BRM_Linear_MinMax': brm_custom_linear_minmax.AUC,\n",
        "}"
      ],
      "execution_count": null,
      "outputs": []
    },
    {
      "cell_type": "code",
      "metadata": {
        "colab": {
          "base_uri": "https://localhost:8080/"
        },
        "id": "_gc-3S03ISij",
        "outputId": "ae1376fa-99f2-44dc-8aed-065a7658af56"
      },
      "source": [
        "rankings_avg = friedman_test(*auc_data_minmax.values())\n",
        "rankings_avg"
      ],
      "execution_count": null,
      "outputs": [
        {
          "output_type": "stream",
          "name": "stderr",
          "text": [
            "/usr/local/lib/python3.7/dist-packages/ipykernel_launcher.py:44: DeprecationWarning: Calling np.sum(generator) is deprecated, and in the future will give a different result. Use np.sum(np.fromiter(generator)) or the python sum builtin instead.\n"
          ]
        },
        {
          "output_type": "execute_result",
          "data": {
            "text/plain": [
              "[3.9263157894736844,\n",
              " 4.442105263157894,\n",
              " 4.252631578947368,\n",
              " 3.931578947368421,\n",
              " 3.968421052631579,\n",
              " 3.8157894736842106,\n",
              " 3.663157894736842]"
            ]
          },
          "metadata": {},
          "execution_count": 108
        }
      ]
    },
    {
      "cell_type": "markdown",
      "metadata": {
        "id": "7opXQ1EWIWVa"
      },
      "source": [
        "#### Post-hoc test"
      ]
    },
    {
      "cell_type": "code",
      "metadata": {
        "id": "PXdxZ60bIZzz"
      },
      "source": [
        "data = []\n",
        "\n",
        "for key, values in auc_data_minmax.items():\n",
        "    data.append(values)\n",
        "\n",
        "data = np.array(data)"
      ],
      "execution_count": null,
      "outputs": []
    },
    {
      "cell_type": "code",
      "metadata": {
        "colab": {
          "base_uri": "https://localhost:8080/",
          "height": 266
        },
        "id": "rf89Q130Idmz",
        "outputId": "41336f38-a36f-4127-c356-24ad3aabb85a"
      },
      "source": [
        "p_values = sp.posthoc_nemenyi_friedman(data.T)\n",
        "p_values"
      ],
      "execution_count": null,
      "outputs": [
        {
          "output_type": "execute_result",
          "data": {
            "text/html": [
              "<div>\n",
              "<style scoped>\n",
              "    .dataframe tbody tr th:only-of-type {\n",
              "        vertical-align: middle;\n",
              "    }\n",
              "\n",
              "    .dataframe tbody tr th {\n",
              "        vertical-align: top;\n",
              "    }\n",
              "\n",
              "    .dataframe thead th {\n",
              "        text-align: right;\n",
              "    }\n",
              "</style>\n",
              "<table border=\"1\" class=\"dataframe\">\n",
              "  <thead>\n",
              "    <tr style=\"text-align: right;\">\n",
              "      <th></th>\n",
              "      <th>0</th>\n",
              "      <th>1</th>\n",
              "      <th>2</th>\n",
              "      <th>3</th>\n",
              "      <th>4</th>\n",
              "      <th>5</th>\n",
              "      <th>6</th>\n",
              "    </tr>\n",
              "  </thead>\n",
              "  <tbody>\n",
              "    <tr>\n",
              "      <th>0</th>\n",
              "      <td>1.000000</td>\n",
              "      <td>0.631881</td>\n",
              "      <td>0.900000</td>\n",
              "      <td>0.900000</td>\n",
              "      <td>0.900000</td>\n",
              "      <td>0.900000</td>\n",
              "      <td>0.900000</td>\n",
              "    </tr>\n",
              "    <tr>\n",
              "      <th>1</th>\n",
              "      <td>0.631881</td>\n",
              "      <td>1.000000</td>\n",
              "      <td>0.900000</td>\n",
              "      <td>0.641755</td>\n",
              "      <td>0.710872</td>\n",
              "      <td>0.417978</td>\n",
              "      <td>0.164678</td>\n",
              "    </tr>\n",
              "    <tr>\n",
              "      <th>2</th>\n",
              "      <td>0.900000</td>\n",
              "      <td>0.900000</td>\n",
              "      <td>1.000000</td>\n",
              "      <td>0.900000</td>\n",
              "      <td>0.900000</td>\n",
              "      <td>0.779989</td>\n",
              "      <td>0.493303</td>\n",
              "    </tr>\n",
              "    <tr>\n",
              "      <th>3</th>\n",
              "      <td>0.900000</td>\n",
              "      <td>0.641755</td>\n",
              "      <td>0.900000</td>\n",
              "      <td>1.000000</td>\n",
              "      <td>0.900000</td>\n",
              "      <td>0.900000</td>\n",
              "      <td>0.900000</td>\n",
              "    </tr>\n",
              "    <tr>\n",
              "      <th>4</th>\n",
              "      <td>0.900000</td>\n",
              "      <td>0.710872</td>\n",
              "      <td>0.900000</td>\n",
              "      <td>0.900000</td>\n",
              "      <td>1.000000</td>\n",
              "      <td>0.900000</td>\n",
              "      <td>0.900000</td>\n",
              "    </tr>\n",
              "    <tr>\n",
              "      <th>5</th>\n",
              "      <td>0.900000</td>\n",
              "      <td>0.417978</td>\n",
              "      <td>0.779989</td>\n",
              "      <td>0.900000</td>\n",
              "      <td>0.900000</td>\n",
              "      <td>1.000000</td>\n",
              "      <td>0.900000</td>\n",
              "    </tr>\n",
              "    <tr>\n",
              "      <th>6</th>\n",
              "      <td>0.900000</td>\n",
              "      <td>0.164678</td>\n",
              "      <td>0.493303</td>\n",
              "      <td>0.900000</td>\n",
              "      <td>0.900000</td>\n",
              "      <td>0.900000</td>\n",
              "      <td>1.000000</td>\n",
              "    </tr>\n",
              "  </tbody>\n",
              "</table>\n",
              "</div>"
            ],
            "text/plain": [
              "          0         1         2         3         4         5         6\n",
              "0  1.000000  0.631881  0.900000  0.900000  0.900000  0.900000  0.900000\n",
              "1  0.631881  1.000000  0.900000  0.641755  0.710872  0.417978  0.164678\n",
              "2  0.900000  0.900000  1.000000  0.900000  0.900000  0.779989  0.493303\n",
              "3  0.900000  0.641755  0.900000  1.000000  0.900000  0.900000  0.900000\n",
              "4  0.900000  0.710872  0.900000  0.900000  1.000000  0.900000  0.900000\n",
              "5  0.900000  0.417978  0.779989  0.900000  0.900000  1.000000  0.900000\n",
              "6  0.900000  0.164678  0.493303  0.900000  0.900000  0.900000  1.000000"
            ]
          },
          "metadata": {},
          "execution_count": 111
        }
      ]
    },
    {
      "cell_type": "code",
      "metadata": {
        "colab": {
          "base_uri": "https://localhost:8080/"
        },
        "id": "Kt3cdvHTIfQh",
        "outputId": "ef087930-c9db-433f-9d5a-7a37120e6b14"
      },
      "source": [
        "ranks = {key: rankings_avg[i] for i, key in enumerate(auc_data_minmax.keys())}\n",
        "ranks"
      ],
      "execution_count": null,
      "outputs": [
        {
          "output_type": "execute_result",
          "data": {
            "text/plain": [
              "{'AUC_BRM_Cosine_MinMax': 3.8157894736842106,\n",
              " 'AUC_BRM_Linear_MinMax': 3.663157894736842,\n",
              " 'AUC_BRM_Manhattan_MinMax': 3.968421052631579,\n",
              " 'AUC_BRM_MinMax': 3.931578947368421,\n",
              " 'AUC_Gaussian_Mixture_MinMax': 4.252631578947368,\n",
              " 'AUC_Isolation_Forest_MinMax': 4.442105263157894,\n",
              " 'AUC_OneClass_SVM_MinMax': 3.9263157894736844}"
            ]
          },
          "metadata": {},
          "execution_count": 112
        }
      ]
    },
    {
      "cell_type": "code",
      "metadata": {
        "colab": {
          "base_uri": "https://localhost:8080/"
        },
        "id": "73TizMwXIjXC",
        "outputId": "10db5e29-5488-4d0b-9081-0ed403f3467b"
      },
      "source": [
        "comparisons, z_values, p_values, adj_p_values = shaffer_multitest(ranks)\n",
        "comparisons, z_values, p_values, adj_p_values"
      ],
      "execution_count": null,
      "outputs": [
        {
          "output_type": "execute_result",
          "data": {
            "text/plain": [
              "(['AUC_Isolation_Forest_MinMax vs AUC_BRM_Linear_MinMax',\n",
              "  'AUC_Isolation_Forest_MinMax vs AUC_BRM_Cosine_MinMax',\n",
              "  'AUC_Gaussian_Mixture_MinMax vs AUC_BRM_Linear_MinMax',\n",
              "  'AUC_OneClass_SVM_MinMax vs AUC_Isolation_Forest_MinMax',\n",
              "  'AUC_Isolation_Forest_MinMax vs AUC_BRM_MinMax',\n",
              "  'AUC_Isolation_Forest_MinMax vs AUC_BRM_Manhattan_MinMax',\n",
              "  'AUC_Gaussian_Mixture_MinMax vs AUC_BRM_Cosine_MinMax',\n",
              "  'AUC_OneClass_SVM_MinMax vs AUC_Gaussian_Mixture_MinMax',\n",
              "  'AUC_Gaussian_Mixture_MinMax vs AUC_BRM_MinMax',\n",
              "  'AUC_BRM_Manhattan_MinMax vs AUC_BRM_Linear_MinMax',\n",
              "  'AUC_Gaussian_Mixture_MinMax vs AUC_BRM_Manhattan_MinMax',\n",
              "  'AUC_BRM_MinMax vs AUC_BRM_Linear_MinMax',\n",
              "  'AUC_OneClass_SVM_MinMax vs AUC_BRM_Linear_MinMax',\n",
              "  'AUC_Isolation_Forest_MinMax vs AUC_Gaussian_Mixture_MinMax',\n",
              "  'AUC_BRM_Cosine_MinMax vs AUC_BRM_Linear_MinMax',\n",
              "  'AUC_BRM_Manhattan_MinMax vs AUC_BRM_Cosine_MinMax',\n",
              "  'AUC_BRM_MinMax vs AUC_BRM_Cosine_MinMax',\n",
              "  'AUC_OneClass_SVM_MinMax vs AUC_BRM_Cosine_MinMax',\n",
              "  'AUC_OneClass_SVM_MinMax vs AUC_BRM_Manhattan_MinMax',\n",
              "  'AUC_BRM_MinMax vs AUC_BRM_Manhattan_MinMax',\n",
              "  'AUC_OneClass_SVM_MinMax vs AUC_BRM_MinMax'],\n",
              " [0.7789473684210524,\n",
              "  0.6263157894736837,\n",
              "  0.5894736842105264,\n",
              "  0.5157894736842099,\n",
              "  0.5105263157894733,\n",
              "  0.4736842105263155,\n",
              "  0.4368421052631577,\n",
              "  0.3263157894736839,\n",
              "  0.32105263157894726,\n",
              "  0.3052631578947369,\n",
              "  0.28421052631578947,\n",
              "  0.2684210526315791,\n",
              "  0.2631578947368425,\n",
              "  0.18947368421052602,\n",
              "  0.15263157894736867,\n",
              "  0.15263157894736823,\n",
              "  0.11578947368421044,\n",
              "  0.1105263157894738,\n",
              "  0.042105263157894424,\n",
              "  0.03684210526315779,\n",
              "  0.005263157894736636],\n",
              " [0.4360107190208091,\n",
              "  0.5311078318440066,\n",
              "  0.5555435602813033,\n",
              "  0.6060014552416233,\n",
              "  0.6096827830015976,\n",
              "  0.6357251145097182,\n",
              "  0.6622258609100957,\n",
              "  0.7441854432140298,\n",
              "  0.7481705060762636,\n",
              "  0.760165733311321,\n",
              "  0.7762490491181446,\n",
              "  0.7883752362574523,\n",
              "  0.7924288824045997,\n",
              "  0.8497215784715078,\n",
              "  0.878688820374171,\n",
              "  0.8786888203741712,\n",
              "  0.9078193931820502,\n",
              "  0.9119919807371684,\n",
              "  0.9664147845002378,\n",
              "  0.9706109016767177,\n",
              "  0.995800626962418],\n",
              " [1, 1, 1, 1, 1, 1, 1, 1, 1, 1, 1, 1, 1, 1, 1, 1, 1, 1, 1, 1, 1])"
            ]
          },
          "metadata": {},
          "execution_count": 113
        }
      ]
    },
    {
      "cell_type": "code",
      "metadata": {
        "colab": {
          "base_uri": "https://localhost:8080/"
        },
        "id": "zMGBiMqtInHK",
        "outputId": "c11f8c6d-cd43-44e7-969b-90c64f559cea"
      },
      "source": [
        "comparisons, z_values, p_values, adj_p_values = nemenyi_multitest(ranks)\n",
        "comparisons, z_values, p_values, adj_p_values"
      ],
      "execution_count": null,
      "outputs": [
        {
          "output_type": "execute_result",
          "data": {
            "text/plain": [
              "(['AUC_OneClass_SVM_MinMax vs AUC_Isolation_Forest_MinMax',\n",
              "  'AUC_OneClass_SVM_MinMax vs AUC_Gaussian_Mixture_MinMax',\n",
              "  'AUC_OneClass_SVM_MinMax vs AUC_BRM_MinMax',\n",
              "  'AUC_OneClass_SVM_MinMax vs AUC_BRM_Manhattan_MinMax',\n",
              "  'AUC_OneClass_SVM_MinMax vs AUC_BRM_Cosine_MinMax',\n",
              "  'AUC_OneClass_SVM_MinMax vs AUC_BRM_Linear_MinMax',\n",
              "  'AUC_Isolation_Forest_MinMax vs AUC_Gaussian_Mixture_MinMax',\n",
              "  'AUC_Isolation_Forest_MinMax vs AUC_BRM_MinMax',\n",
              "  'AUC_Isolation_Forest_MinMax vs AUC_BRM_Manhattan_MinMax',\n",
              "  'AUC_Isolation_Forest_MinMax vs AUC_BRM_Cosine_MinMax',\n",
              "  'AUC_Isolation_Forest_MinMax vs AUC_BRM_Linear_MinMax',\n",
              "  'AUC_Gaussian_Mixture_MinMax vs AUC_BRM_MinMax',\n",
              "  'AUC_Gaussian_Mixture_MinMax vs AUC_BRM_Manhattan_MinMax',\n",
              "  'AUC_Gaussian_Mixture_MinMax vs AUC_BRM_Cosine_MinMax',\n",
              "  'AUC_Gaussian_Mixture_MinMax vs AUC_BRM_Linear_MinMax',\n",
              "  'AUC_BRM_MinMax vs AUC_BRM_Manhattan_MinMax',\n",
              "  'AUC_BRM_MinMax vs AUC_BRM_Cosine_MinMax',\n",
              "  'AUC_BRM_MinMax vs AUC_BRM_Linear_MinMax',\n",
              "  'AUC_BRM_Manhattan_MinMax vs AUC_BRM_Cosine_MinMax',\n",
              "  'AUC_BRM_Manhattan_MinMax vs AUC_BRM_Linear_MinMax',\n",
              "  'AUC_BRM_Cosine_MinMax vs AUC_BRM_Linear_MinMax'],\n",
              " [0.5157894736842099,\n",
              "  0.3263157894736839,\n",
              "  0.005263157894736636,\n",
              "  0.042105263157894424,\n",
              "  0.1105263157894738,\n",
              "  0.2631578947368425,\n",
              "  0.18947368421052602,\n",
              "  0.5105263157894733,\n",
              "  0.4736842105263155,\n",
              "  0.6263157894736837,\n",
              "  0.7789473684210524,\n",
              "  0.32105263157894726,\n",
              "  0.28421052631578947,\n",
              "  0.4368421052631577,\n",
              "  0.5894736842105264,\n",
              "  0.03684210526315779,\n",
              "  0.11578947368421044,\n",
              "  0.2684210526315791,\n",
              "  0.15263157894736823,\n",
              "  0.3052631578947369,\n",
              "  0.15263157894736867],\n",
              " [0.6060014552416233,\n",
              "  0.7441854432140298,\n",
              "  0.995800626962418,\n",
              "  0.9664147845002378,\n",
              "  0.9119919807371684,\n",
              "  0.7924288824045997,\n",
              "  0.8497215784715078,\n",
              "  0.6096827830015976,\n",
              "  0.6357251145097182,\n",
              "  0.5311078318440066,\n",
              "  0.4360107190208091,\n",
              "  0.7481705060762636,\n",
              "  0.7762490491181446,\n",
              "  0.6622258609100957,\n",
              "  0.5555435602813033,\n",
              "  0.9706109016767177,\n",
              "  0.9078193931820502,\n",
              "  0.7883752362574523,\n",
              "  0.8786888203741712,\n",
              "  0.760165733311321,\n",
              "  0.878688820374171],\n",
              " [1, 1, 1, 1, 1, 1, 1, 1, 1, 1, 1, 1, 1, 1, 1, 1, 1, 1, 1, 1, 1])"
            ]
          },
          "metadata": {},
          "execution_count": 114
        }
      ]
    },
    {
      "cell_type": "markdown",
      "metadata": {
        "id": "NKLLTx4gIzPL"
      },
      "source": [
        "#### Critical Difference Diagram"
      ]
    },
    {
      "cell_type": "code",
      "metadata": {
        "id": "tJQFImajI1ni"
      },
      "source": [
        "names = []\n",
        "\n",
        "for key, values in auc_data_minmax.items():\n",
        "    names.append(key)"
      ],
      "execution_count": null,
      "outputs": []
    },
    {
      "cell_type": "code",
      "metadata": {
        "id": "j5GdlcagPcbm"
      },
      "source": [
        "avranks = []\n",
        "for i in rankings_avg:\n",
        "  avranks.append(i)"
      ],
      "execution_count": null,
      "outputs": []
    },
    {
      "cell_type": "code",
      "metadata": {
        "colab": {
          "base_uri": "https://localhost:8080/",
          "height": 164
        },
        "id": "JjXINOfCJT-z",
        "outputId": "33d73f6c-1939-45ad-f16f-bcc5054c908a"
      },
      "source": [
        "import Orange\n",
        "\n",
        "cd = Orange.evaluation.compute_CD(avranks, final_df.shape[0])\n",
        "Orange.evaluation.graph_ranks(avranks, names, cd=cd, width=6, textspace=1.5)\n",
        "plt.show();"
      ],
      "execution_count": null,
      "outputs": [
        {
          "output_type": "display_data",
          "data": {
            "image/png": "[encoded data removed]",
            "text/plain": [
              "<Figure size 432x133.2 with 1 Axes>"
            ]
          },
          "metadata": {}
        }
      ]
    },
    {
      "cell_type": "markdown",
      "metadata": {
        "id": "0BaXmYSpBTP7"
      },
      "source": [
        "### Normalization: Standard Scaler"
      ]
    },
    {
      "cell_type": "code",
      "metadata": {
        "colab": {
          "base_uri": "https://localhost:8080/"
        },
        "id": "uIEdNxDyJmL7",
        "outputId": "1ea0115b-f513-4d09-ed34-59a90e64cd05"
      },
      "source": [
        "alpha = 0.05 # significance level\n",
        "\n",
        "result = st.friedmanchisquare(final_df.AUC_OneClassSVM_Std, final_df.AUC_IsolationForest_Std, final_df.AUC_GaussianMixture_Std, brm_custom_euclidean.AUC_Euclidean,\n",
        "                              brm_custom_manhattan.AUC, brm_custom_cosine.AUC, brm_custom_linear.AUC)\n",
        "result"
      ],
      "execution_count": null,
      "outputs": [
        {
          "output_type": "execute_result",
          "data": {
            "text/plain": [
              "FriedmanchisquareResult(statistic=9.772796352583846, pvalue=0.13455192589699091)"
            ]
          },
          "metadata": {},
          "execution_count": 123
        }
      ]
    },
    {
      "cell_type": "code",
      "metadata": {
        "colab": {
          "base_uri": "https://localhost:8080/"
        },
        "id": "Cl_Ie9kYJ5wr",
        "outputId": "1d02a5b3-8294-4bf7-b4a5-a413e0345136"
      },
      "source": [
        "if result.pvalue < alpha:\n",
        "  print(\"We can reject the null hypothesis: so the results obtained by all the tested classifiers, in all the databases, are not similar statistically. Therefore, we can proceed with a post-hoc test.\")\n",
        "else:\n",
        "  print(\"We can accept the null hypothesis: so the results obtained by all the tested classifiers, in all the databases, are similar statistically.\")"
      ],
      "execution_count": null,
      "outputs": [
        {
          "output_type": "stream",
          "name": "stdout",
          "text": [
            "We can accept the null hypothesis: so the results obtained by all the tested classifiers, in all the databases, are similar statistically.\n"
          ]
        }
      ]
    },
    {
      "cell_type": "code",
      "metadata": {
        "id": "62Uco7BIKBIl"
      },
      "source": [
        "auc_data_std = {\n",
        "    'AUC_OneClass_SVM_Std': final_df.AUC_OneClassSVM_Std,\n",
        "    'AUC_Isolation_Forest_Std': final_df.AUC_IsolationForest_Std,\n",
        "    'AUC_Gaussian_Mixture_Std': final_df.AUC_GaussianMixture_Std,\n",
        "    'AUC_BRM_Std': brm_custom_euclidean.AUC_Euclidean,\n",
        "    'AUC_BRM_Manhattan_Std': brm_custom_manhattan.AUC,\n",
        "    'AUC_BRM_Cosine_Std': brm_custom_cosine.AUC,\n",
        "    'AUC_BRM_Linear_Std': brm_custom_linear.AUC,\n",
        "}"
      ],
      "execution_count": null,
      "outputs": []
    },
    {
      "cell_type": "code",
      "metadata": {
        "colab": {
          "base_uri": "https://localhost:8080/"
        },
        "id": "OrtQNGfwKIb4",
        "outputId": "52b804bb-5fc1-43eb-fa14-017f04ebba84"
      },
      "source": [
        "rankings_avg = friedman_test(*auc_data_std.values())\n",
        "rankings_avg"
      ],
      "execution_count": null,
      "outputs": [
        {
          "output_type": "stream",
          "name": "stderr",
          "text": [
            "/usr/local/lib/python3.7/dist-packages/ipykernel_launcher.py:44: DeprecationWarning: Calling np.sum(generator) is deprecated, and in the future will give a different result. Use np.sum(np.fromiter(generator)) or the python sum builtin instead.\n"
          ]
        },
        {
          "output_type": "execute_result",
          "data": {
            "text/plain": [
              "[4.2631578947368425,\n",
              " 4.442105263157894,\n",
              " 4.026315789473684,\n",
              " 3.7842105263157895,\n",
              " 4.010526315789473,\n",
              " 3.8473684210526318,\n",
              " 3.626315789473684]"
            ]
          },
          "metadata": {},
          "execution_count": 127
        }
      ]
    },
    {
      "cell_type": "markdown",
      "metadata": {
        "id": "B249TzvXKO5b"
      },
      "source": [
        "#### Post-hoc test"
      ]
    },
    {
      "cell_type": "code",
      "metadata": {
        "id": "MQT76WerKPKK"
      },
      "source": [
        "data = []\n",
        "\n",
        "for key, values in auc_data_std.items():\n",
        "    data.append(values)\n",
        "\n",
        "data = np.array(data)"
      ],
      "execution_count": null,
      "outputs": []
    },
    {
      "cell_type": "code",
      "metadata": {
        "colab": {
          "base_uri": "https://localhost:8080/",
          "height": 266
        },
        "id": "_1NcoaM5KSXE",
        "outputId": "27c1ca29-09b3-4e17-de01-da1d532d578a"
      },
      "source": [
        "p_values = sp.posthoc_nemenyi_friedman(data.T)\n",
        "p_values"
      ],
      "execution_count": null,
      "outputs": [
        {
          "output_type": "execute_result",
          "data": {
            "text/html": [
              "<div>\n",
              "<style scoped>\n",
              "    .dataframe tbody tr th:only-of-type {\n",
              "        vertical-align: middle;\n",
              "    }\n",
              "\n",
              "    .dataframe tbody tr th {\n",
              "        vertical-align: top;\n",
              "    }\n",
              "\n",
              "    .dataframe thead th {\n",
              "        text-align: right;\n",
              "    }\n",
              "</style>\n",
              "<table border=\"1\" class=\"dataframe\">\n",
              "  <thead>\n",
              "    <tr style=\"text-align: right;\">\n",
              "      <th></th>\n",
              "      <th>0</th>\n",
              "      <th>1</th>\n",
              "      <th>2</th>\n",
              "      <th>3</th>\n",
              "      <th>4</th>\n",
              "      <th>5</th>\n",
              "      <th>6</th>\n",
              "    </tr>\n",
              "  </thead>\n",
              "  <tbody>\n",
              "    <tr>\n",
              "      <th>0</th>\n",
              "      <td>1.000000</td>\n",
              "      <td>0.900000</td>\n",
              "      <td>0.900000</td>\n",
              "      <td>0.700997</td>\n",
              "      <td>0.900000</td>\n",
              "      <td>0.819481</td>\n",
              "      <td>0.396247</td>\n",
              "    </tr>\n",
              "    <tr>\n",
              "      <th>1</th>\n",
              "      <td>0.900000</td>\n",
              "      <td>1.000000</td>\n",
              "      <td>0.819481</td>\n",
              "      <td>0.353747</td>\n",
              "      <td>0.789862</td>\n",
              "      <td>0.482786</td>\n",
              "      <td>0.124997</td>\n",
              "    </tr>\n",
              "    <tr>\n",
              "      <th>2</th>\n",
              "      <td>0.900000</td>\n",
              "      <td>0.819481</td>\n",
              "      <td>1.000000</td>\n",
              "      <td>0.900000</td>\n",
              "      <td>0.900000</td>\n",
              "      <td>0.900000</td>\n",
              "      <td>0.849102</td>\n",
              "    </tr>\n",
              "    <tr>\n",
              "      <th>3</th>\n",
              "      <td>0.700997</td>\n",
              "      <td>0.353747</td>\n",
              "      <td>0.900000</td>\n",
              "      <td>1.000000</td>\n",
              "      <td>0.900000</td>\n",
              "      <td>0.900000</td>\n",
              "      <td>0.900000</td>\n",
              "    </tr>\n",
              "    <tr>\n",
              "      <th>4</th>\n",
              "      <td>0.900000</td>\n",
              "      <td>0.789862</td>\n",
              "      <td>0.900000</td>\n",
              "      <td>0.900000</td>\n",
              "      <td>1.000000</td>\n",
              "      <td>0.900000</td>\n",
              "      <td>0.878724</td>\n",
              "    </tr>\n",
              "    <tr>\n",
              "      <th>5</th>\n",
              "      <td>0.819481</td>\n",
              "      <td>0.482786</td>\n",
              "      <td>0.900000</td>\n",
              "      <td>0.900000</td>\n",
              "      <td>0.900000</td>\n",
              "      <td>1.000000</td>\n",
              "      <td>0.900000</td>\n",
              "    </tr>\n",
              "    <tr>\n",
              "      <th>6</th>\n",
              "      <td>0.396247</td>\n",
              "      <td>0.124997</td>\n",
              "      <td>0.849102</td>\n",
              "      <td>0.900000</td>\n",
              "      <td>0.878724</td>\n",
              "      <td>0.900000</td>\n",
              "      <td>1.000000</td>\n",
              "    </tr>\n",
              "  </tbody>\n",
              "</table>\n",
              "</div>"
            ],
            "text/plain": [
              "          0         1         2         3         4         5         6\n",
              "0  1.000000  0.900000  0.900000  0.700997  0.900000  0.819481  0.396247\n",
              "1  0.900000  1.000000  0.819481  0.353747  0.789862  0.482786  0.124997\n",
              "2  0.900000  0.819481  1.000000  0.900000  0.900000  0.900000  0.849102\n",
              "3  0.700997  0.353747  0.900000  1.000000  0.900000  0.900000  0.900000\n",
              "4  0.900000  0.789862  0.900000  0.900000  1.000000  0.900000  0.878724\n",
              "5  0.819481  0.482786  0.900000  0.900000  0.900000  1.000000  0.900000\n",
              "6  0.396247  0.124997  0.849102  0.900000  0.878724  0.900000  1.000000"
            ]
          },
          "metadata": {},
          "execution_count": 129
        }
      ]
    },
    {
      "cell_type": "code",
      "metadata": {
        "colab": {
          "base_uri": "https://localhost:8080/"
        },
        "id": "LGQF1sbBKUxv",
        "outputId": "ee438fea-acc0-4247-aac2-354f4abf3407"
      },
      "source": [
        "ranks = {key: rankings_avg[i] for i, key in enumerate(auc_data_std.keys())}\n",
        "ranks"
      ],
      "execution_count": null,
      "outputs": [
        {
          "output_type": "execute_result",
          "data": {
            "text/plain": [
              "{'AUC_BRM_Cosine_Std': 3.8473684210526318,\n",
              " 'AUC_BRM_Linear_Std': 3.626315789473684,\n",
              " 'AUC_BRM_Manhattan_Std': 4.010526315789473,\n",
              " 'AUC_BRM_Std': 3.7842105263157895,\n",
              " 'AUC_Gaussian_Mixture_Std': 4.026315789473684,\n",
              " 'AUC_Isolation_Forest_Std': 4.442105263157894,\n",
              " 'AUC_OneClass_SVM_Std': 4.2631578947368425}"
            ]
          },
          "metadata": {},
          "execution_count": 130
        }
      ]
    },
    {
      "cell_type": "code",
      "metadata": {
        "colab": {
          "base_uri": "https://localhost:8080/"
        },
        "id": "PNFCKTkGKXtq",
        "outputId": "b6726440-79a5-427b-801f-c5ca4937d710"
      },
      "source": [
        "comparisons, z_values, p_values, adj_p_values = shaffer_multitest(ranks)\n",
        "comparisons, z_values, p_values, adj_p_values"
      ],
      "execution_count": null,
      "outputs": [
        {
          "output_type": "execute_result",
          "data": {
            "text/plain": [
              "(['AUC_Isolation_Forest_Std vs AUC_BRM_Linear_Std',\n",
              "  'AUC_Isolation_Forest_Std vs AUC_BRM_Std',\n",
              "  'AUC_OneClass_SVM_Std vs AUC_BRM_Linear_Std',\n",
              "  'AUC_Isolation_Forest_Std vs AUC_BRM_Cosine_Std',\n",
              "  'AUC_OneClass_SVM_Std vs AUC_BRM_Std',\n",
              "  'AUC_Isolation_Forest_Std vs AUC_BRM_Manhattan_Std',\n",
              "  'AUC_OneClass_SVM_Std vs AUC_BRM_Cosine_Std',\n",
              "  'AUC_Isolation_Forest_Std vs AUC_Gaussian_Mixture_Std',\n",
              "  'AUC_Gaussian_Mixture_Std vs AUC_BRM_Linear_Std',\n",
              "  'AUC_BRM_Manhattan_Std vs AUC_BRM_Linear_Std',\n",
              "  'AUC_OneClass_SVM_Std vs AUC_BRM_Manhattan_Std',\n",
              "  'AUC_Gaussian_Mixture_Std vs AUC_BRM_Std',\n",
              "  'AUC_OneClass_SVM_Std vs AUC_Gaussian_Mixture_Std',\n",
              "  'AUC_BRM_Std vs AUC_BRM_Manhattan_Std',\n",
              "  'AUC_BRM_Cosine_Std vs AUC_BRM_Linear_Std',\n",
              "  'AUC_Gaussian_Mixture_Std vs AUC_BRM_Cosine_Std',\n",
              "  'AUC_OneClass_SVM_Std vs AUC_Isolation_Forest_Std',\n",
              "  'AUC_BRM_Manhattan_Std vs AUC_BRM_Cosine_Std',\n",
              "  'AUC_BRM_Std vs AUC_BRM_Linear_Std',\n",
              "  'AUC_BRM_Std vs AUC_BRM_Cosine_Std',\n",
              "  'AUC_Gaussian_Mixture_Std vs AUC_BRM_Manhattan_Std'],\n",
              " [0.8157894736842102,\n",
              "  0.6578947368421049,\n",
              "  0.6368421052631583,\n",
              "  0.5947368421052626,\n",
              "  0.478947368421053,\n",
              "  0.43157894736842106,\n",
              "  0.4157894736842107,\n",
              "  0.41578947368421026,\n",
              "  0.3999999999999999,\n",
              "  0.3842105263157891,\n",
              "  0.2526315789473692,\n",
              "  0.2421052631578946,\n",
              "  0.2368421052631584,\n",
              "  0.2263157894736838,\n",
              "  0.2210526315789476,\n",
              "  0.1789473684210523,\n",
              "  0.17894736842105186,\n",
              "  0.1631578947368415,\n",
              "  0.1578947368421053,\n",
              "  0.0631578947368423,\n",
              "  0.015789473684210797],\n",
              " [0.41462055469713244,\n",
              "  0.5106057728613782,\n",
              "  0.5242276968280852,\n",
              "  0.5520193908601487,\n",
              "  0.6319760715518079,\n",
              "  0.666047462224391,\n",
              "  0.6775640621301555,\n",
              "  0.677564062130156,\n",
              "  0.6891565167793519,\n",
              "  0.7008224170952468,\n",
              "  0.8005529249227843,\n",
              "  0.8086986000940988,\n",
              "  0.8127792854081948,\n",
              "  0.82095581872677,\n",
              "  0.8250514523845005,\n",
              "  0.8579790284090669,\n",
              "  0.8579790284090674,\n",
              "  0.8703941170359202,\n",
              "  0.8745397454328057,\n",
              "  0.949640772938686,\n",
              "  0.9874023461745598],\n",
              " [1, 1, 1, 1, 1, 1, 1, 1, 1, 1, 1, 1, 1, 1, 1, 1, 1, 1, 1, 1, 1])"
            ]
          },
          "metadata": {},
          "execution_count": 131
        }
      ]
    },
    {
      "cell_type": "code",
      "metadata": {
        "colab": {
          "base_uri": "https://localhost:8080/"
        },
        "id": "RyhDjn13Kacb",
        "outputId": "17051947-f20b-4022-b29c-0454a87e26ba"
      },
      "source": [
        "comparisons, z_values, p_values, adj_p_values = nemenyi_multitest(ranks)\n",
        "comparisons, z_values, p_values, adj_p_values"
      ],
      "execution_count": null,
      "outputs": [
        {
          "output_type": "execute_result",
          "data": {
            "text/plain": [
              "(['AUC_OneClass_SVM_Std vs AUC_Isolation_Forest_Std',\n",
              "  'AUC_OneClass_SVM_Std vs AUC_Gaussian_Mixture_Std',\n",
              "  'AUC_OneClass_SVM_Std vs AUC_BRM_Std',\n",
              "  'AUC_OneClass_SVM_Std vs AUC_BRM_Manhattan_Std',\n",
              "  'AUC_OneClass_SVM_Std vs AUC_BRM_Cosine_Std',\n",
              "  'AUC_OneClass_SVM_Std vs AUC_BRM_Linear_Std',\n",
              "  'AUC_Isolation_Forest_Std vs AUC_Gaussian_Mixture_Std',\n",
              "  'AUC_Isolation_Forest_Std vs AUC_BRM_Std',\n",
              "  'AUC_Isolation_Forest_Std vs AUC_BRM_Manhattan_Std',\n",
              "  'AUC_Isolation_Forest_Std vs AUC_BRM_Cosine_Std',\n",
              "  'AUC_Isolation_Forest_Std vs AUC_BRM_Linear_Std',\n",
              "  'AUC_Gaussian_Mixture_Std vs AUC_BRM_Std',\n",
              "  'AUC_Gaussian_Mixture_Std vs AUC_BRM_Manhattan_Std',\n",
              "  'AUC_Gaussian_Mixture_Std vs AUC_BRM_Cosine_Std',\n",
              "  'AUC_Gaussian_Mixture_Std vs AUC_BRM_Linear_Std',\n",
              "  'AUC_BRM_Std vs AUC_BRM_Manhattan_Std',\n",
              "  'AUC_BRM_Std vs AUC_BRM_Cosine_Std',\n",
              "  'AUC_BRM_Std vs AUC_BRM_Linear_Std',\n",
              "  'AUC_BRM_Manhattan_Std vs AUC_BRM_Cosine_Std',\n",
              "  'AUC_BRM_Manhattan_Std vs AUC_BRM_Linear_Std',\n",
              "  'AUC_BRM_Cosine_Std vs AUC_BRM_Linear_Std'],\n",
              " [0.17894736842105186,\n",
              "  0.2368421052631584,\n",
              "  0.478947368421053,\n",
              "  0.2526315789473692,\n",
              "  0.4157894736842107,\n",
              "  0.6368421052631583,\n",
              "  0.41578947368421026,\n",
              "  0.6578947368421049,\n",
              "  0.43157894736842106,\n",
              "  0.5947368421052626,\n",
              "  0.8157894736842102,\n",
              "  0.2421052631578946,\n",
              "  0.015789473684210797,\n",
              "  0.1789473684210523,\n",
              "  0.3999999999999999,\n",
              "  0.2263157894736838,\n",
              "  0.0631578947368423,\n",
              "  0.1578947368421053,\n",
              "  0.1631578947368415,\n",
              "  0.3842105263157891,\n",
              "  0.2210526315789476],\n",
              " [0.8579790284090674,\n",
              "  0.8127792854081948,\n",
              "  0.6319760715518079,\n",
              "  0.8005529249227843,\n",
              "  0.6775640621301555,\n",
              "  0.5242276968280852,\n",
              "  0.677564062130156,\n",
              "  0.5106057728613782,\n",
              "  0.666047462224391,\n",
              "  0.5520193908601487,\n",
              "  0.41462055469713244,\n",
              "  0.8086986000940988,\n",
              "  0.9874023461745598,\n",
              "  0.8579790284090669,\n",
              "  0.6891565167793519,\n",
              "  0.82095581872677,\n",
              "  0.949640772938686,\n",
              "  0.8745397454328057,\n",
              "  0.8703941170359202,\n",
              "  0.7008224170952468,\n",
              "  0.8250514523845005],\n",
              " [1, 1, 1, 1, 1, 1, 1, 1, 1, 1, 1, 1, 1, 1, 1, 1, 1, 1, 1, 1, 1])"
            ]
          },
          "metadata": {},
          "execution_count": 132
        }
      ]
    },
    {
      "cell_type": "markdown",
      "metadata": {
        "id": "DAk9upfeKcea"
      },
      "source": [
        "#### Critical Difference Diagram"
      ]
    },
    {
      "cell_type": "code",
      "metadata": {
        "id": "KsYj3OxHKd8R"
      },
      "source": [
        "names = []\n",
        "\n",
        "for key, values in auc_data_std.items():\n",
        "    names.append(key)"
      ],
      "execution_count": null,
      "outputs": []
    },
    {
      "cell_type": "code",
      "metadata": {
        "id": "59J7fzf9PhTX"
      },
      "source": [
        "avranks = []\n",
        "for i in rankings_avg:\n",
        "  avranks.append(i)"
      ],
      "execution_count": null,
      "outputs": []
    },
    {
      "cell_type": "code",
      "metadata": {
        "colab": {
          "base_uri": "https://localhost:8080/",
          "height": 164
        },
        "id": "QKGNBTqwKgrR",
        "outputId": "07cc272e-fd9c-438b-eb76-869a219e4a8d"
      },
      "source": [
        "import Orange\n",
        "\n",
        "cd = Orange.evaluation.compute_CD(avranks, final_df.shape[0])\n",
        "Orange.evaluation.graph_ranks(avranks, names, cd=cd, width=6, textspace=1.5)\n",
        "plt.show();"
      ],
      "execution_count": null,
      "outputs": [
        {
          "output_type": "display_data",
          "data": {
            "image/png": "[encoded data removed]",
            "text/plain": [
              "<Figure size 432x133.2 with 1 Axes>"
            ]
          },
          "metadata": {}
        }
      ]
    }
  ]
}